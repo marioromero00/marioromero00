{
  "cells": [
    {
      "cell_type": "markdown",
      "metadata": {
        "cell_id": "097fce6dce21405c911254a775ae3d26",
        "deepnote_cell_type": "markdown",
        "id": "J4_IcuuKZj9Y"
      },
      "source": [
        "<h1><center>Laboratorio 1: Git 👾</center></h1>\n",
        "\n",
        "<center><strong>MDS7202: Laboratorio de Programación Científica para Ciencia de Datos - Otoño 2025</strong></center>"
      ]
    },
    {
      "cell_type": "markdown",
      "metadata": {
        "cell_id": "9e8e8f2ae34e461da4f44508a96d2cf4",
        "deepnote_cell_type": "markdown",
        "id": "AEXIACc7aADv"
      },
      "source": [
        "### Cuerpo Docente:\n",
        "\n",
        "- Profesores: Stefano Schiappacasse,Sebastián Tinoco\n",
        "- Auxiliares: Melanie Peña, Valentina Rojas\n",
        "- Ayudantes: Angelo Muñoz, Valentina Zúñiga"
      ]
    },
    {
      "cell_type": "markdown",
      "metadata": {
        "cell_id": "3e5b48c23e1b48f6a64de41899166179",
        "deepnote_cell_type": "markdown",
        "id": "0HgMMyoCaG8X"
      },
      "source": [
        "### Equipo: **SUPER IMPORTANTE - notebooks sin nombre no serán revisados**\n",
        "\n",
        "- Nombre de alumno 1:\n",
        "- Nombre de alumno 2:"
      ]
    },
    {
      "cell_type": "markdown",
      "metadata": {
        "cell_id": "1db7c82b68614d19b112ba3b0d0abe4d",
        "deepnote_cell_type": "markdown",
        "id": "fz77X6glaK6y"
      },
      "source": [
        "### **Link de repositorio de GitHub:** [Insertar Enlace](https://)"
      ]
    },
    {
      "cell_type": "markdown",
      "metadata": {
        "cell_id": "bc3dac65089d4ae6a43c079547dee179",
        "deepnote_cell_type": "markdown",
        "id": "rRwqaxIZaNx3"
      },
      "source": [
        "## Reglas:\n",
        "\n",
        "- **Grupos de 2 personas**\n",
        "- Fecha de entrega: 6 días de plazo con descuento de 1 punto por día. Entregas Martes a las 23:59.\n",
        "- Instrucciones del lab el viernes a las 16:15 en formato online. Asistencia no es obligatoria, pero se recomienda fuertemente asistir.\n",
        "- <u>Prohibidas las copias</u>. Cualquier intento de copia será debidamente penalizado con el reglamento de la escuela.\n",
        "- Tienen que subir el laboratorio a u-cursos y a su repositorio de github. Labs que no estén en u-cursos no serán revisados. Recuerden que el repositorio también tiene nota.\n",
        "- Cualquier duda fuera del horario de clases al foro. Mensajes al equipo docente serán respondidos por este medio.\n",
        "- Pueden usar cualquier material del curso que estimen conveniente."
      ]
    },
    {
      "cell_type": "markdown",
      "metadata": {
        "cell_id": "05e4729411a24153837fd13b7f198bd9",
        "deepnote_cell_type": "markdown",
        "id": "bmToL27JaSrf"
      },
      "source": [
        "## Objetivos del lab:\n",
        "\n",
        "\n",
        "- Conocer los elementos básicos que conformar `Git`\n",
        "- Clonar repositorios\n",
        "- Identificar ramas de un repositorio\n",
        "- Reconocer y solucionar problemas entre ramas\n",
        "- Subir cambios a un repositorio"
      ]
    },
    {
      "cell_type": "markdown",
      "metadata": {
        "cell_id": "5ebae9d601bd4d508349ab55297e9f82",
        "deepnote_cell_type": "markdown",
        "id": "bvnPCvrVbJLK"
      },
      "source": [
        "## Parte 1: Conocimiento Teórico (2.5 pts)\n",
        "\n",
        "<p align=\"center\">\n",
        "  <img src=\"https://cdn.thedesigninspiration.com/wp-content/uploads/sites/3/2019/04/macintosh-hdusersbrittanyloefflerdownloadsanig-1.gif\" width=\"350\">\n",
        "</p>"
      ]
    },
    {
      "cell_type": "markdown",
      "metadata": {
        "cell_id": "627494dba4f84520b3ee8b9cbf58ee79",
        "deepnote_cell_type": "markdown",
        "id": "JHl-24XnbNLF"
      },
      "source": [
        "Responda las siguientes preguntas (0.2 pts c/u):\n",
        "\n",
        "1. ¿Qué es `Git` y cómo se relaciona con el control de versiones?\n",
        "\n",
        "2. Nombre y explique 3 diferencias entre `Git` y `Github`.\n",
        "\n",
        "3. ¿Qué es un `hash` y cómo se representa en un `commit`? De un ejemplo.\n",
        "\n",
        "4. ¿Que elementos componen a la estructura de datos de `Git`?\n",
        "\n",
        "5. ¿Que comandos de `Git` sirven para crear un repositorio y hacer seguimiento a cambios en los archivos?"
      ]
    },
    {
      "cell_type": "markdown",
      "metadata": {
        "cell_id": "6d06c40f429044a298b27c666f51f46f",
        "deepnote_cell_type": "markdown",
        "id": "2tXCSkf0caG8"
      },
      "source": [
        "# **RESPUESTAS**\n",
        "\n",
        "1. Git es un DVCS, osea un Distributed version control system server, utilizao para tener registro de cambios de archivos.\n",
        "2.\n",
        "    i. Diferentes enfoques: Git es una DVCS, mientras que Github es un servicio de alojamiento basado en web.\n",
        "    ii. Interfaz: Git es una herramienta de linea de comando, mientras que Github, ademas entrga interfaz gráfica.\n",
        "    iii. Repositorio: Git creae repositorio local y ahi trackea los cambios, mientras que Github es un espacio para subir una copia de los repositorios de GIT.\n",
        "3. Es un codigo de 40 caracteres utilizado para identificar un elemento de interes, como un commit. En git se usa el hash SHA1. Para un commit, se utiliza un hash unico y asi poder identificar el cambio. un ejemplo sería: a9K7tZ3wXv1nQ5rLc8Yj0EbM2HpG6oNd4TfCzqWb con 40 caracteres, mezclando letras y numeros.\n",
        "4. Se compone de 3 estados:\n",
        "    i. Working directory: utiliza para editar los archivos\n",
        "    ii. Stagin Area: conjunto de archivos modificados que aún no han sido aprobados\n",
        "    iii. Repository o dit directory: historial del proyecto\n",
        "5. para crear un repositorio: get init nombre-del-proyecto (donde \"nombre-del-proyecto\" es el nombre del proyecto que vamos a crear). Para hacer elseguimiento en los cambios: git status."
      ]
    },
    {
      "cell_type": "markdown",
      "metadata": {
        "cell_id": "ec9855406e324cc98b59e33500faea84",
        "deepnote_cell_type": "markdown",
        "id": "MACccbP4gU43"
      },
      "source": [
        "Responda si las siguientes afirmaciones son Verdaderas (V) o Falsas (F). Justifique en **cualquiera** de los casos (0.2 pts c/u):\n",
        "\n",
        "\n",
        "6. `Git` siempre resuelve automáticamente los problemas de lineas al hacer merge entre diferentes ramas.\n",
        "7. Ejecutar `git pull` sobre un repositorio es equivalente a ejecutar `git clone`.\n",
        "8. `git status` genera los mismos resultados que `git log`.\n",
        "9. En `Git` es posible deshacer cambios y volver a versiones anteriores del código.\n",
        "10. El comando `git commit` se utiliza para enviar cambios al repositorio remoto."
      ]
    },
    {
      "cell_type": "markdown",
      "metadata": {
        "cell_id": "7e6a5a6e15b045cc9d104cf017825f1a",
        "deepnote_cell_type": "markdown",
        "id": "DFnmCToOgeM3"
      },
      "source": [
        "# *RESPUESTAS*\n",
        "6. F. Estas colisiones se conocen como conflictos y se deben resolver  a mano y luego resubir los cambios.\n",
        "7. F. Son comandos con enfoques distintos. git pull permite obtener el registro de cambios de un repositorio remoto, mientras que git clone permite sincronizar el trabajo tanto en una máquina local, como en colaboraciones por medio de internet.\n",
        "8. F. Tienen enfoques distintos, git logo se utiliza para observar el registro de cambios se utiliza, mientras que  git status muestra el estado actual del repositorio.\n",
        "9. V. Hay comandos que permiten dehacer cambios y volver a versiones anteriores, tales como gitcheacjout  o git reset.\n",
        "10. F. Para enviar cambios a un repositorio remoto, esto se hace por medio de git push."
      ]
    },
    {
      "cell_type": "markdown",
      "metadata": {
        "cell_id": "54317cad024744ebaf4938df55ba3b95",
        "deepnote_cell_type": "markdown",
        "id": "LYq55sI2Rjf0"
      },
      "source": [
        "Por último, investigue y comente con sus palabras para qué sirven los siguientes comandos:\n",
        "\n",
        "11. `git stash` (0.25 puntos)\n",
        "12. `git reset`. ¿Cuál es la diferencia de este comando con `git revert`?. (0.25 puntos)"
      ]
    },
    {
      "cell_type": "markdown",
      "metadata": {
        "cell_id": "3e4d8b9974e4426ca38fd20f4b835a55",
        "deepnote_cell_type": "markdown",
        "id": "i7Em9JkbbRLo"
      },
      "source": [
        "## Parte 2: Creando una presentación personal (1.5 pts)\n",
        "\n",
        "<p align=\"center\">\n",
        "  <img src=\"https://media.tenor.com/arqlNu8gyJYAAAAC/cat-cat-jumping.gif\" width=\"150\">\n",
        "</p>\n",
        "\n"
      ]
    },
    {
      "cell_type": "markdown",
      "metadata": {
        "cell_id": "988648005dba4b9782c6625dfe6ae4ef",
        "deepnote_cell_type": "markdown",
        "id": "XWIHfyrlbYOJ"
      },
      "source": [
        "Para empezar a \"*soltar las manos*\" con `Git`, se les encomienda crear un repositorio con una presentación personal. El repositorio debe contener un breve resumen de quienes son ustedes, sus gustos, experiencias, y cualquier otro detalle interesante que ustedes consideren relevante.\n",
        "\n",
        "Para realizar esto, deben seguir los siguientes pasos:\n",
        "\n",
        "1. Contar con una cuenta de github (1 por persona)\n",
        "2. Crear un repositorio con su nombre de usuario\n",
        "3. Vincular el repositorio a su ambiente local ¿Qué comando(s) me permiten hacer esto?\n",
        "4. Crear un archivo `readme.md` con la información que ustedes deseen compartir.\n",
        "5. Realizar `push` con los cambios generados\n",
        "\n",
        "A modo de ejemplo, pueden guiarse por esta *suculenta* [presentación](https://github.com/Mezosky)\n",
        "\n",
        "**Nota: Deben trabajar todos estos puntos desde su ambiente local**\n",
        "\n",
        "*Hint: Una buena opción es usar templates de presentación personal que encuentren en Google, como los que ofrece este [sitio](https://durgeshsamariya.github.io/awesome-github-profile-readme-templates/#/)*.\n",
        "\n",
        "**Entregable:**\n",
        "\n",
        "Enlace al repositorio con la presentación personal.\n",
        "\n",
        "IMPORTANTE: DEBEN ADJUNTAR UN ENLACE POR PERSONA"
      ]
    },
    {
      "cell_type": "markdown",
      "metadata": {
        "cell_id": "081b38d55dc54282bc8e3cd300ce9d3e",
        "deepnote_cell_type": "markdown",
        "id": "IIkWyl9tf0Sg"
      },
      "source": [
        "<code>Link Presentacion 1:</code> https://github.com/marioromero00/mario-romero/blob/main/README.md\n",
        "\n",
        "<code>Link Presentacion 2:</code> https://github.com/FloVargas/FloVargas/blob/main/README.md"
      ]
    },
    {
      "cell_type": "markdown",
      "metadata": {
        "cell_id": "0481a05d2d1a46928f6cfb7762720980",
        "deepnote_cell_type": "markdown",
        "id": "CAzXOwvDY-IG"
      },
      "source": [
        "## Parte 3: Trabajando sobre un repositorio externo (2 pts)\n",
        "\n",
        "<p align=\"center\">\n",
        "  <img src=\"https://media.tenor.com/YXL-0SK15j4AAAAC/dance-animals.gif\" width=\"300\">\n",
        "</p>\n",
        "\n",
        "Tras muchos dolores de cabeza, un grupo de entusiastas académicos decidieron aprender sobre `Git` y así trabajar colaborativamente de forma más ordenada y eficiente. Después de una infinidad de intentos y aprender de sus errores \"*a la mala*\", los académicos lograron levantar un [repositorio](https://github.com/MDS7202/lab1) en `Github`. Usando el repositorio de los académicos, responda las siguientes preguntas (**incluya también los comandos en `Git` ocupados**):\n"
      ]
    },
    {
      "cell_type": "markdown",
      "metadata": {
        "cell_id": "bcef73b2e8604579bde90ed6622abfe9",
        "deepnote_cell_type": "markdown",
        "id": "BFRnAw0rfguR"
      },
      "source": [
        "1. Clone el repositorio a su ambiente local. (0.25 pts)"
      ]
    },
    {
      "cell_type": "markdown",
      "metadata": {
        "cell_id": "5d126ac3819c44479af94d3895bc4c97",
        "deepnote_cell_type": "markdown",
        "id": "KXro32yBeilN"
      },
      "source": [
        "<code>Escriba sus respuestas acá:</code>\n",
        "\n",
        "Git:clone"
      ]
    },
    {
      "cell_type": "markdown",
      "metadata": {
        "cell_id": "e215e4e25b2440f09ac273ba63603986",
        "deepnote_cell_type": "markdown",
        "id": "8QB-GKmQRjf1"
      },
      "source": [
        "2. Descomprima los archivos subidos con la tarea en U-cursos en la carpeta recién clonada de github. Una vez realizado esto, cree un archivo `.gitignore` con el cual omita la carpeta `videos` y los archivos con la extensión `.txt` exceptuando el archivo `171.txt` de la carpeta `texts`. (0.25 pts)"
      ]
    },
    {
      "cell_type": "markdown",
      "metadata": {
        "cell_id": "186233b44d004e3bbd86262d010188b5",
        "deepnote_cell_type": "markdown",
        "id": "7VJ8IIYpRjf1"
      },
      "source": [
        "<code>Para esta pregunta usted deberá adjuntar el .gitignore creado en su repo.</code>\n",
        "\n",
        "tar -xf _Lab1.zip (descomprimir)\n",
        "\n",
        "echo.> .gitignore (crear archivo)"
      ]
    },
    {
      "cell_type": "markdown",
      "metadata": {
        "cell_id": "1de150590a41484a988b8e46616a2324",
        "deepnote_cell_type": "markdown",
        "id": "q2qmiDyjt2M_"
      },
      "source": [
        "3. Inspeccione brevemente el repositorio: ¿Cual es el objetivo del proyecto? Explique brevemente la estructura del proyecto, asi como también cada elemento que lo conforma. (0.25 pts)"
      ]
    },
    {
      "cell_type": "markdown",
      "metadata": {
        "cell_id": "082ca01c865e48e28352b280400c47b6",
        "deepnote_cell_type": "markdown",
        "id": "aBHpR8VTftkT"
      },
      "source": [
        "Es un Proyecto para emular los sonidos de animales que tiene dos funciones en python que son animales.py y main.py. EL objitvo es devolver el sonido que hacen estos animales."
      ]
    },
    {
      "cell_type": "markdown",
      "metadata": {
        "cell_id": "3aab4a3ee0c246e1be955680ad653fb8",
        "deepnote_cell_type": "markdown",
        "id": "XFwqcpLZfylf"
      },
      "source": [
        "4. Identifique los últimos cambios al repositorio, reconociendo las principales ramas de trabajo. ¿Son informativos los `commit` realizados? (0.25 pts)\n",
        "*Hint: Se recomienda usar los argumentos `all`, `graph` y `decorate`*"
      ]
    },
    {
      "cell_type": "markdown",
      "metadata": {
        "cell_id": "0fab79a360ac4c6a9ca0ab884f85c7e1",
        "deepnote_cell_type": "markdown",
        "id": "cmWfXBkOhog0"
      },
      "source": [
        "<code>Escriba sus respuestas acá:</code>\n",
        "\n",
        "git log --all --graph --decorate --oneline\n",
        "\n",
        "Los cambios fueron clonar el proyecto desde un repositorio a un repositorio local, luego separar el proyecto en modulos para posteriormente ocultar los videos y los textos exceptuando el 171"
      ]
    },
    {
      "cell_type": "markdown",
      "metadata": {
        "cell_id": "d07b24d21f2343fb9a7e6a5db74e98c3",
        "deepnote_cell_type": "markdown",
        "id": "Vqbj9HdXrUnN"
      },
      "source": [
        "5. Uno de los académicos se da cuenta que la rama principal de trabajo no se ejecuta correctamente para todos los argumentos. Señale y explique el error en el código e identifique a la persona que lo cometió usando `git blame` (0.25 pts)\n",
        "\n",
        "*Hint: Le puede ser útil esta [documentación](https://www.atlassian.com/es/git/tutorials/inspecting-a-repository/git-blame).*"
      ]
    },
    {
      "cell_type": "markdown",
      "metadata": {
        "cell_id": "bc5b0f9c639643108f8e66687b721732",
        "deepnote_cell_type": "markdown",
        "id": "5ajhV2Iar3tV"
      },
      "source": [
        "el error en el codiigo es en los if, el segundo y tercero debe ser elif. La persoa que cometio el error lo cometio: mezosky, en esta parte:\n",
        "\n",
        "\n",
        "362fe21e (mezosky 2023-03-23 21:47:34 -0300  9)     if input.lower() == 'perro':\n",
        "\n",
        "362fe21e (mezosky 2023-03-23 21:47:34 -0300 11)     if input.lower() == 'fox':\n",
        "\n",
        "\n",
        "\n"
      ]
    },
    {
      "cell_type": "markdown",
      "metadata": {
        "cell_id": "f3f4e78e6d9145ebbb120c0a2e4aade6",
        "deepnote_cell_type": "markdown",
        "id": "m8J3uE7MhqTA"
      },
      "source": [
        "6. Busque los siguientes `commit`:\n",
        "\n",
        "- `c8b1a62d7299552b0654f930d695b33109214111`\n",
        "- `362fe21ee44f53ee944cee4ba484600308f83d78`\n",
        "- `25543a3baf77292baf849726784ca005473acab1`\n",
        "\n",
        "¿Qué diferencias existen entre cada uno? (0.25 pts)"
      ]
    },
    {
      "cell_type": "markdown",
      "metadata": {
        "cell_id": "696ed361ac0c41c8a214cfad9dcb39e6",
        "deepnote_cell_type": "markdown",
        "id": "sNHnZsgIitGh"
      },
      "source": [
        "<code>Escriba sus respuestas acá:</code>\n",
        "\n",
        "El primer comit lo hace \"seba\" y agrega la función, el segundo lo hace mezosky y separa el proyeto en modulos y el tercero lo hace pablo y hace el cambio en los if.\n",
        "la diferencia entre cada uno radica en lo que hace en el repositorio.\n"
      ]
    },
    {
      "cell_type": "markdown",
      "metadata": {
        "cell_id": "b4e18f8ce94c430f85915c4e2732d05b",
        "deepnote_cell_type": "markdown",
        "id": "WQIPbfNCgpxC"
      },
      "source": [
        "7. Realice una `merge` de la rama `fix-ifs` con la rama `main` y describa lo que ocurre. ¿Qué parte del código podría estar ocasionando esto? (0.25 pts)"
      ]
    },
    {
      "cell_type": "markdown",
      "metadata": {
        "cell_id": "36da6a0d4f4a427bbccac09e2ae965fd",
        "deepnote_cell_type": "markdown",
        "id": "ypH_6lL5ioZz"
      },
      "source": [
        "<code>Escriba sus respuestas acá:</code> Primero, necesitamos bajar la rama fix-ifs al repositorio, por lo que usamos git fetch, para luego con git checkout crear la rama local. Luego, al usar merge para unirlas da un error en donde dice que hay un conflicto del contenido debido a diferencias que hay desde la versión \"main\" y la versión en la rama \"fix-ifs\". Para ver especificamente el porque se produce el error, con git checkout y luego cat, vimos que habia en \"main\" y en la rama \"fix-ifs\". Aca se pudo ver que en \"main\" la función animales se importa desde el módulo ´animales´, y en la rama fix-ifs la funcion ´animales´ se encuentra definida localmente.\n"
      ]
    },
    {
      "cell_type": "markdown",
      "metadata": {
        "cell_id": "09787ab449c543479e5cc54c2a3b6c19",
        "deepnote_cell_type": "markdown",
        "id": "GYfODCjeivkU"
      },
      "source": [
        "8. Cree una rama nueva y proponga una solución al problema anterior, adjuntando el código corregido y señalando las líneas modificadas. (0.25 pts)\n",
        "\n",
        "Primero creamos una rama nueva llamada \"fix solution\" en donde se adjuntará el codigo que deberá tener cambiado los if por elif de animales.py. Además, para evitar el conflicto se debe mover la función animales a un módulo externo para luego importarla en \"main.py\""
      ]
    },
    {
      "cell_type": "markdown",
      "metadata": {
        "cell_id": "6d963fba3f2d4c17a4b281c7d3f4fb8b",
        "deepnote_cell_type": "markdown",
        "id": "8heBxDU9iziT"
      },
      "source": [
        "<code>Escriba sus respuestas acá:</code>"
      ]
    },
    {
      "cell_type": "markdown",
      "metadata": {
        "cell_id": "8a47d4bf8b3045d68e4f29bb449c87f1",
        "deepnote_cell_type": "markdown",
        "id": "Av8ebB9jkALO"
      },
      "source": [
        "## Fin"
      ]
    },
    {
      "cell_type": "markdown",
      "metadata": {
        "cell_id": "cec4b53942ed489f8f8b63d0e9d4f3e5",
        "deepnote_cell_type": "markdown",
        "id": "aQqZT9fSkBK8"
      },
      "source": [
        "Eso ha sido todo por ahora!! Esperamos que este laboratorio les haya gustado y servido para trabajar con `Git`. Recuerden los dias de plazo que tienen disponibles y que ante cualquier duda no duden en contactar al equipo docente.\n",
        "\n",
        "Nos vemos!!\n",
        "\n",
        "<p align=\"center\">\n",
        "  <img src=\"https://media.tenor.com/OYLdav9k9LkAAAAd/kitty-cat.gif\" width=\"350\">\n",
        "</p>\n"
      ]
    }
  ],
  "metadata": {
    "colab": {
      "provenance": []
    },
    "deepnote_execution_queue": [],
    "deepnote_notebook_id": "62cd20d52b9a4810ada15644630456dc",
    "language_info": {
      "name": "python"
    }
  },
  "nbformat": 4,
  "nbformat_minor": 0
}
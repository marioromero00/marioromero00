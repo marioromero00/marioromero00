{
  "cells": [
    {
      "cell_type": "markdown",
      "metadata": {
        "id": "_Tgm8mCA9Dp3"
      },
      "source": [
        "# Laboratorio 5: Clasificación 🤗\n",
        "\n",
        "<center><strong>MDS7202: Laboratorio de Programación Científica para Ciencia de Datos - Primavera 2024</strong></center>\n"
      ]
    },
    {
      "cell_type": "markdown",
      "metadata": {
        "id": "11Kc_ibM9GXH"
      },
      "source": [
        "### Cuerpo Docente:\n",
        "\n",
        "- Profesores: Stefano Schiappacasse, Sebastián Tinoco\n",
        "- Auxiliares: Melanie Peña, Valentina Rojas\n",
        "- Ayudantes: Angelo Muñoz, Valentina Zúñiga"
      ]
    },
    {
      "cell_type": "markdown",
      "metadata": {
        "id": "u9dUSltr9JrN"
      },
      "source": [
        "### Equipo: SUPER IMPORTANTE - notebooks sin nombre no serán revisados\n",
        "\n",
        "- Nombre de alumno 1: Florencia Vargas\n",
        "- Nombre de alumno 2: Mario Romero"
      ]
    },
    {
      "cell_type": "markdown",
      "metadata": {
        "id": "pC1IloytrsAx"
      },
      "source": [
        "### **Link de repositorio de GitHub:** [Insertar Repositorio](https://github.com/...../)"
      ]
    },
    {
      "cell_type": "markdown",
      "metadata": {
        "id": "YBa48PDF9OHw"
      },
      "source": [
        "### Temas a tratar\n",
        "- Clasificación en problemas desbalanceados\n",
        "- Lightgbm y xgboost\n",
        "- Pipelines"
      ]
    },
    {
      "cell_type": "markdown",
      "metadata": {
        "id": "mkhnnMx49Qrh"
      },
      "source": [
        "## Reglas:\n",
        "\n",
        "- **Grupos de 2 personas**\n",
        "- Fecha de entrega: 6 días de plazo con descuento de 1 punto por día. Entregas Martes a las 23:59.\n",
        "- Instrucciones del lab el viernes a las 16:15 en formato online. Asistencia no es obligatoria, pero se recomienda fuertemente asistir.\n",
        "- <u>Prohibidas las copias</u>. Cualquier intento de copia será debidamente penalizado con el reglamento de la escuela.\n",
        "- Tienen que subir el laboratorio a u-cursos y a su repositorio de github. Labs que no estén en u-cursos no serán revisados. Recuerden que el repositorio también tiene nota.\n",
        "- Cualquier duda fuera del horario de clases al foro. Mensajes al equipo docente serán respondidos por este medio.\n",
        "- Pueden usar cualquier material del curso que estimen conveniente.\n"
      ]
    },
    {
      "cell_type": "markdown",
      "metadata": {
        "id": "sxzJ48Vv8quO"
      },
      "source": [
        "\n",
        "\n",
        "### Objetivos principales del laboratorio\n",
        "- Comprender cómo trabajar con problemas de clasificación con clases desbalanceadas.\n",
        "- Aplicar los modelos lightgbm y xgboost.\n",
        "- Practicar Pipelines"
      ]
    },
    {
      "cell_type": "markdown",
      "metadata": {
        "id": "k-ao0mOU64Ru"
      },
      "source": [
        "# Parte Teórica [12 puntos]\n",
        "\n",
        "\n"
      ]
    },
    {
      "cell_type": "markdown",
      "metadata": {
        "id": "ApXKwPDmxcEV"
      },
      "source": [
        "1. Explique cuál es la diferencia entre los datos de entrenamiento y validación. [1 punto]\n",
        "\n",
        "2. Explique cuál es el principal desafío al trabajar problemas de clasificación con data no supervisada. [1 punto]\n",
        "\n",
        "3. Explique en **sus palabras** qué es la matriz de confusión y para qué se utiliza. [1 puntos]\n",
        "\n",
        "4. Escriba la fórmula de las siguientes métricas y explique con **sus palabras** cómo se interpretan. [1 punto cada uno]\n",
        "\n",
        "  * Accuracy\n",
        "  * Precision\n",
        "  * Recall\n",
        "  * F1 score\n",
        "\n",
        "5. Explique qué métrica recomendaría para los siguientes contextos de clasificación. [1 punto cada uno]\n",
        "\n",
        "  * Mantenimiento predictivo de fallas de maquinaria pesada en la industria minera.  \n",
        "  * Detección de enfermedades altamente contagiosas.\n",
        "  * Aprobación de créditos de alto riesgo.\n",
        "  * Detección de crímenes.\n",
        "\n",
        "6. Explique qué es la calibración de modelos y para qué se usa. [1 punto]\n"
      ]
    },
    {
      "cell_type": "markdown",
      "metadata": {
        "id": "Yy4QMWD8-FPk"
      },
      "source": [
        "**Respuesta:**"
      ]
    },
    {
      "cell_type": "markdown",
      "metadata": {
        "id": "QYFdD1aK-ICa"
      },
      "source": [
        "1. los datos de entrenamiento son utilizados para ajustar (entrenar ) el modelo y los de validacion para evaluar el desempeño (con diferentes metricas).\n",
        "2. la gran dificultad es que no hay etiquetas, por lo que no sabemos si estan bien clasificados.\n",
        "3. matriz para comparar desempeño, donde estan los datos reales vs la predicion. Se utiliza para calcular metricas y evaluar el desempeño.\n",
        "4.\n",
        "primero definimos:\n",
        "  * TP: true positive - verdaderos postivo\n",
        "  * TN: true negative - verdadros negativos\n",
        "  * FP: False positive - falsos positivos\n",
        "  * FN: False negative - falsos negative\n",
        "\n",
        "Acurracy: % de predicciones correctas\n",
        "  \n",
        "  * ac = (TP+TN)/(TP+TN+FP+FN)\n",
        "\n",
        "Precision:% de positivos son correctos, sobre los postivos clasificados\n",
        " * Pre= (TP)/(TP+FP)\n",
        "\n",
        "Recall: % de postivos reales son correctos, sobre los reales postivos\n",
        " * Recall= (TP)/(TP+FN)\n",
        "\n",
        "F1 score: balance  de recall y presicion\n",
        "\n",
        "* F1= 2*(Presicion*Recall)/(Presicion+Recall)\n",
        "\n",
        "5.   \n",
        "\n",
        "\n",
        "  * Mantenimiento predictivo de fallas de maquinaria pesada en la industria minera.  -> acurrcy, por que  buscamos que sean lo mas precisas las predicciones, ya que es contraproducente tener la maquina parada por que si.\n",
        "\n",
        "  * Detección de enfermedades altamente contagiosas. -> es pclave detectar a todos los enfermos aunque tengamos unos falsos positivos\n",
        "\n",
        "\n",
        "  * Aprobación de créditos de alto riesgo. -> precision: ya que buscams minimizar la cantidad de errores de credito (a personas q no pagaran)\n",
        "\n",
        "  * Detección de crímenes. -> recall, ya que es mejor identificar a todos y a otros FP que post invrestigacion queden librees.\n",
        "\n",
        "6. La calibracion del modelo corresponde a reajustar las probabilidades predichas para que tengan sentdo con la proporcion rel de observados, osea corregir probabilidades. por ejemplo cuando un modelo tiene una probilidad predicha de 0.9 se espera que en el 90% de los casos haga predicciones correctas. Basicamente se usa para que el modelo refleje lo predicho."
      ]
    },
    {
      "cell_type": "markdown",
      "metadata": {
        "id": "Jg_9jBqtgRDO"
      },
      "source": [
        "# Parte práctica [48 puntos]"
      ]
    },
    {
      "cell_type": "markdown",
      "source": [],
      "metadata": {
        "id": "ags62Q7R5VEA"
      }
    },
    {
      "cell_type": "code",
      "source": [],
      "metadata": {
        "id": "CKQXnZVE8TTo"
      },
      "execution_count": 30,
      "outputs": []
    },
    {
      "cell_type": "markdown",
      "metadata": {
        "id": "slm6yRfdfZwS"
      },
      "source": [
        "<p align=\"center\">\n",
        "  <img src=\"https://drive.google.com/uc?export=view&id=1BnO4tyh3vM2P199Ec9s3JjngQ4qQ9seP\"\n",
        "\" width=\"300\">\n",
        "</p>\n",
        "\n",
        "\n",
        "Tras el trágico despido de la mítica mascota de Maipú, Renacín decide adentrarse como consultor en el mercado futbolero, el cuál (para variar...) está cargado en especulaciones.\n",
        "\n",
        "Como su principal tarea será asesorar a los directivos de los clubes sobre cuál jugador comprar y cuál no, Renacín desea generar modelos predictivos que evaluén distintas características de los jugadores; todo con el fin de tomar decisiones concretas basadas en los datos.\n",
        "\n",
        "Sin embargo, su condición de corporeo le impidió tomar la versión anterior de MDS7202, por lo que este motivo Renacín contrata a su equipo para lograr su objetivo final. Dado que aún tiene fuertes vínculos con la dirección de deportes de la municipalidad, el corporeo le entrega base de datos con las estadísticas de cada jugador para que su equipo empieze a trabajar ya con un dataset listo para ser usado.\n"
      ]
    },
    {
      "cell_type": "markdown",
      "metadata": {
        "id": "jnbx7RwHfkue"
      },
      "source": [
        "**Los Datos**\n",
        "\n",
        "Para este laboratorio deberán trabajar con el csv `statsplayers.csv`, donde deberán aplicar algoritmos de aprendizaje supervisado de clasificación en base a características que describen de jugadores de fútbol.\n",
        "\n",
        "Para comenzar cargue el dataset señalado y a continuación vea el reporte **`Player_Stats_Report.html`** (adjunto en la carpeta del enunciado) que describe las características principales del `DataFrame`."
      ]
    },
    {
      "cell_type": "code",
      "execution_count": 31,
      "metadata": {
        "id": "mX6iwOWUfrp_",
        "colab": {
          "base_uri": "https://localhost:8080/"
        },
        "outputId": "5a050409-53ed-4a7f-f8d5-c528a61ebac6"
      },
      "outputs": [
        {
          "output_type": "stream",
          "name": "stdout",
          "text": [
            "Drive already mounted at /content/drive; to attempt to forcibly remount, call drive.mount(\"/content/drive\", force_remount=True).\n"
          ]
        }
      ],
      "source": [
        "# Si usted está utilizando Colabolatory le puede ser útil este código para cargar los archivos.\n",
        "try:\n",
        "    from google.colab import drive\n",
        "    drive.mount(\"/content/drive\")\n",
        "    path = '/content/drive/MyDrive/stats_players.csv' #ruta mario\n",
        "    #path = '' #ruta flo\n",
        "\n",
        "except:\n",
        "    print('Ignorando conexión drive-colab')"
      ]
    },
    {
      "cell_type": "code",
      "source": [
        "from google.colab import drive\n",
        "drive.mount('/content/drive')"
      ],
      "metadata": {
        "id": "dQrRRT3R9dBa",
        "colab": {
          "base_uri": "https://localhost:8080/"
        },
        "outputId": "85270478-395f-4a36-d766-2452714d45ad"
      },
      "execution_count": 32,
      "outputs": [
        {
          "output_type": "stream",
          "name": "stdout",
          "text": [
            "Drive already mounted at /content/drive; to attempt to forcibly remount, call drive.mount(\"/content/drive\", force_remount=True).\n"
          ]
        }
      ]
    },
    {
      "cell_type": "code",
      "source": [
        "import pandas as pd\n",
        "df = pd.read_csv(path)"
      ],
      "metadata": {
        "id": "xZMdN1LG-NdC"
      },
      "execution_count": 33,
      "outputs": []
    },
    {
      "cell_type": "code",
      "source": [
        "df.head(5)"
      ],
      "metadata": {
        "colab": {
          "base_uri": "https://localhost:8080/",
          "height": 343
        },
        "id": "skriqTDt-cIi",
        "outputId": "e2ec64bf-459a-4d19-c1db-c9a6ddcff9cc"
      },
      "execution_count": 34,
      "outputs": [
        {
          "output_type": "execute_result",
          "data": {
            "text/plain": [
              "                Name Nationality National_Position Club_Position  Height  \\\n",
              "0  Cristiano Ronaldo    Portugal                LS            LW     185   \n",
              "1       Lionel Messi   Argentina                RW            RW     170   \n",
              "2             Neymar      Brazil                LW            LW     174   \n",
              "3        Luis Suárez     Uruguay                LS            ST     182   \n",
              "4       Manuel Neuer     Germany                GK            GK     193   \n",
              "\n",
              "   Weight Preffered_Foot  Age        Work_Rate  Weak_foot  ...  Agility  \\\n",
              "0      80          Right   32       High / Low          4  ...       90   \n",
              "1      72           Left   29  Medium / Medium          4  ...       90   \n",
              "2      68          Right   25    High / Medium          5  ...       96   \n",
              "3      85          Right   30    High / Medium          4  ...       86   \n",
              "4      92          Right   31  Medium / Medium          4  ...       52   \n",
              "\n",
              "   Jumping  Heading  Shot_Power  Finishing  Long_Shots  Curve  \\\n",
              "0       95       85          92         93          90     81   \n",
              "1       68       71          85         95          88     89   \n",
              "2       61       62          78         89          77     79   \n",
              "3       69       77          87         94          86     86   \n",
              "4       78       25          25         13          16     14   \n",
              "\n",
              "   Freekick_Accuracy  Penalties  Volleys  \n",
              "0                 76         85       88  \n",
              "1                 90         74       85  \n",
              "2                 84         81       83  \n",
              "3                 84         85       88  \n",
              "4                 11         47       11  \n",
              "\n",
              "[5 rows x 39 columns]"
            ],
            "text/html": [
              "\n",
              "  <div id=\"df-aae8e3b6-f555-458c-8bc7-dbd73f7d8d5d\" class=\"colab-df-container\">\n",
              "    <div>\n",
              "<style scoped>\n",
              "    .dataframe tbody tr th:only-of-type {\n",
              "        vertical-align: middle;\n",
              "    }\n",
              "\n",
              "    .dataframe tbody tr th {\n",
              "        vertical-align: top;\n",
              "    }\n",
              "\n",
              "    .dataframe thead th {\n",
              "        text-align: right;\n",
              "    }\n",
              "</style>\n",
              "<table border=\"1\" class=\"dataframe\">\n",
              "  <thead>\n",
              "    <tr style=\"text-align: right;\">\n",
              "      <th></th>\n",
              "      <th>Name</th>\n",
              "      <th>Nationality</th>\n",
              "      <th>National_Position</th>\n",
              "      <th>Club_Position</th>\n",
              "      <th>Height</th>\n",
              "      <th>Weight</th>\n",
              "      <th>Preffered_Foot</th>\n",
              "      <th>Age</th>\n",
              "      <th>Work_Rate</th>\n",
              "      <th>Weak_foot</th>\n",
              "      <th>...</th>\n",
              "      <th>Agility</th>\n",
              "      <th>Jumping</th>\n",
              "      <th>Heading</th>\n",
              "      <th>Shot_Power</th>\n",
              "      <th>Finishing</th>\n",
              "      <th>Long_Shots</th>\n",
              "      <th>Curve</th>\n",
              "      <th>Freekick_Accuracy</th>\n",
              "      <th>Penalties</th>\n",
              "      <th>Volleys</th>\n",
              "    </tr>\n",
              "  </thead>\n",
              "  <tbody>\n",
              "    <tr>\n",
              "      <th>0</th>\n",
              "      <td>Cristiano Ronaldo</td>\n",
              "      <td>Portugal</td>\n",
              "      <td>LS</td>\n",
              "      <td>LW</td>\n",
              "      <td>185</td>\n",
              "      <td>80</td>\n",
              "      <td>Right</td>\n",
              "      <td>32</td>\n",
              "      <td>High / Low</td>\n",
              "      <td>4</td>\n",
              "      <td>...</td>\n",
              "      <td>90</td>\n",
              "      <td>95</td>\n",
              "      <td>85</td>\n",
              "      <td>92</td>\n",
              "      <td>93</td>\n",
              "      <td>90</td>\n",
              "      <td>81</td>\n",
              "      <td>76</td>\n",
              "      <td>85</td>\n",
              "      <td>88</td>\n",
              "    </tr>\n",
              "    <tr>\n",
              "      <th>1</th>\n",
              "      <td>Lionel Messi</td>\n",
              "      <td>Argentina</td>\n",
              "      <td>RW</td>\n",
              "      <td>RW</td>\n",
              "      <td>170</td>\n",
              "      <td>72</td>\n",
              "      <td>Left</td>\n",
              "      <td>29</td>\n",
              "      <td>Medium / Medium</td>\n",
              "      <td>4</td>\n",
              "      <td>...</td>\n",
              "      <td>90</td>\n",
              "      <td>68</td>\n",
              "      <td>71</td>\n",
              "      <td>85</td>\n",
              "      <td>95</td>\n",
              "      <td>88</td>\n",
              "      <td>89</td>\n",
              "      <td>90</td>\n",
              "      <td>74</td>\n",
              "      <td>85</td>\n",
              "    </tr>\n",
              "    <tr>\n",
              "      <th>2</th>\n",
              "      <td>Neymar</td>\n",
              "      <td>Brazil</td>\n",
              "      <td>LW</td>\n",
              "      <td>LW</td>\n",
              "      <td>174</td>\n",
              "      <td>68</td>\n",
              "      <td>Right</td>\n",
              "      <td>25</td>\n",
              "      <td>High / Medium</td>\n",
              "      <td>5</td>\n",
              "      <td>...</td>\n",
              "      <td>96</td>\n",
              "      <td>61</td>\n",
              "      <td>62</td>\n",
              "      <td>78</td>\n",
              "      <td>89</td>\n",
              "      <td>77</td>\n",
              "      <td>79</td>\n",
              "      <td>84</td>\n",
              "      <td>81</td>\n",
              "      <td>83</td>\n",
              "    </tr>\n",
              "    <tr>\n",
              "      <th>3</th>\n",
              "      <td>Luis Suárez</td>\n",
              "      <td>Uruguay</td>\n",
              "      <td>LS</td>\n",
              "      <td>ST</td>\n",
              "      <td>182</td>\n",
              "      <td>85</td>\n",
              "      <td>Right</td>\n",
              "      <td>30</td>\n",
              "      <td>High / Medium</td>\n",
              "      <td>4</td>\n",
              "      <td>...</td>\n",
              "      <td>86</td>\n",
              "      <td>69</td>\n",
              "      <td>77</td>\n",
              "      <td>87</td>\n",
              "      <td>94</td>\n",
              "      <td>86</td>\n",
              "      <td>86</td>\n",
              "      <td>84</td>\n",
              "      <td>85</td>\n",
              "      <td>88</td>\n",
              "    </tr>\n",
              "    <tr>\n",
              "      <th>4</th>\n",
              "      <td>Manuel Neuer</td>\n",
              "      <td>Germany</td>\n",
              "      <td>GK</td>\n",
              "      <td>GK</td>\n",
              "      <td>193</td>\n",
              "      <td>92</td>\n",
              "      <td>Right</td>\n",
              "      <td>31</td>\n",
              "      <td>Medium / Medium</td>\n",
              "      <td>4</td>\n",
              "      <td>...</td>\n",
              "      <td>52</td>\n",
              "      <td>78</td>\n",
              "      <td>25</td>\n",
              "      <td>25</td>\n",
              "      <td>13</td>\n",
              "      <td>16</td>\n",
              "      <td>14</td>\n",
              "      <td>11</td>\n",
              "      <td>47</td>\n",
              "      <td>11</td>\n",
              "    </tr>\n",
              "  </tbody>\n",
              "</table>\n",
              "<p>5 rows × 39 columns</p>\n",
              "</div>\n",
              "    <div class=\"colab-df-buttons\">\n",
              "\n",
              "  <div class=\"colab-df-container\">\n",
              "    <button class=\"colab-df-convert\" onclick=\"convertToInteractive('df-aae8e3b6-f555-458c-8bc7-dbd73f7d8d5d')\"\n",
              "            title=\"Convert this dataframe to an interactive table.\"\n",
              "            style=\"display:none;\">\n",
              "\n",
              "  <svg xmlns=\"http://www.w3.org/2000/svg\" height=\"24px\" viewBox=\"0 -960 960 960\">\n",
              "    <path d=\"M120-120v-720h720v720H120Zm60-500h600v-160H180v160Zm220 220h160v-160H400v160Zm0 220h160v-160H400v160ZM180-400h160v-160H180v160Zm440 0h160v-160H620v160ZM180-180h160v-160H180v160Zm440 0h160v-160H620v160Z\"/>\n",
              "  </svg>\n",
              "    </button>\n",
              "\n",
              "  <style>\n",
              "    .colab-df-container {\n",
              "      display:flex;\n",
              "      gap: 12px;\n",
              "    }\n",
              "\n",
              "    .colab-df-convert {\n",
              "      background-color: #E8F0FE;\n",
              "      border: none;\n",
              "      border-radius: 50%;\n",
              "      cursor: pointer;\n",
              "      display: none;\n",
              "      fill: #1967D2;\n",
              "      height: 32px;\n",
              "      padding: 0 0 0 0;\n",
              "      width: 32px;\n",
              "    }\n",
              "\n",
              "    .colab-df-convert:hover {\n",
              "      background-color: #E2EBFA;\n",
              "      box-shadow: 0px 1px 2px rgba(60, 64, 67, 0.3), 0px 1px 3px 1px rgba(60, 64, 67, 0.15);\n",
              "      fill: #174EA6;\n",
              "    }\n",
              "\n",
              "    .colab-df-buttons div {\n",
              "      margin-bottom: 4px;\n",
              "    }\n",
              "\n",
              "    [theme=dark] .colab-df-convert {\n",
              "      background-color: #3B4455;\n",
              "      fill: #D2E3FC;\n",
              "    }\n",
              "\n",
              "    [theme=dark] .colab-df-convert:hover {\n",
              "      background-color: #434B5C;\n",
              "      box-shadow: 0px 1px 3px 1px rgba(0, 0, 0, 0.15);\n",
              "      filter: drop-shadow(0px 1px 2px rgba(0, 0, 0, 0.3));\n",
              "      fill: #FFFFFF;\n",
              "    }\n",
              "  </style>\n",
              "\n",
              "    <script>\n",
              "      const buttonEl =\n",
              "        document.querySelector('#df-aae8e3b6-f555-458c-8bc7-dbd73f7d8d5d button.colab-df-convert');\n",
              "      buttonEl.style.display =\n",
              "        google.colab.kernel.accessAllowed ? 'block' : 'none';\n",
              "\n",
              "      async function convertToInteractive(key) {\n",
              "        const element = document.querySelector('#df-aae8e3b6-f555-458c-8bc7-dbd73f7d8d5d');\n",
              "        const dataTable =\n",
              "          await google.colab.kernel.invokeFunction('convertToInteractive',\n",
              "                                                    [key], {});\n",
              "        if (!dataTable) return;\n",
              "\n",
              "        const docLinkHtml = 'Like what you see? Visit the ' +\n",
              "          '<a target=\"_blank\" href=https://colab.research.google.com/notebooks/data_table.ipynb>data table notebook</a>'\n",
              "          + ' to learn more about interactive tables.';\n",
              "        element.innerHTML = '';\n",
              "        dataTable['output_type'] = 'display_data';\n",
              "        await google.colab.output.renderOutput(dataTable, element);\n",
              "        const docLink = document.createElement('div');\n",
              "        docLink.innerHTML = docLinkHtml;\n",
              "        element.appendChild(docLink);\n",
              "      }\n",
              "    </script>\n",
              "  </div>\n",
              "\n",
              "\n",
              "    <div id=\"df-d5adc8b1-a6d6-4947-8a04-670ceb7ca8b5\">\n",
              "      <button class=\"colab-df-quickchart\" onclick=\"quickchart('df-d5adc8b1-a6d6-4947-8a04-670ceb7ca8b5')\"\n",
              "                title=\"Suggest charts\"\n",
              "                style=\"display:none;\">\n",
              "\n",
              "<svg xmlns=\"http://www.w3.org/2000/svg\" height=\"24px\"viewBox=\"0 0 24 24\"\n",
              "     width=\"24px\">\n",
              "    <g>\n",
              "        <path d=\"M19 3H5c-1.1 0-2 .9-2 2v14c0 1.1.9 2 2 2h14c1.1 0 2-.9 2-2V5c0-1.1-.9-2-2-2zM9 17H7v-7h2v7zm4 0h-2V7h2v10zm4 0h-2v-4h2v4z\"/>\n",
              "    </g>\n",
              "</svg>\n",
              "      </button>\n",
              "\n",
              "<style>\n",
              "  .colab-df-quickchart {\n",
              "      --bg-color: #E8F0FE;\n",
              "      --fill-color: #1967D2;\n",
              "      --hover-bg-color: #E2EBFA;\n",
              "      --hover-fill-color: #174EA6;\n",
              "      --disabled-fill-color: #AAA;\n",
              "      --disabled-bg-color: #DDD;\n",
              "  }\n",
              "\n",
              "  [theme=dark] .colab-df-quickchart {\n",
              "      --bg-color: #3B4455;\n",
              "      --fill-color: #D2E3FC;\n",
              "      --hover-bg-color: #434B5C;\n",
              "      --hover-fill-color: #FFFFFF;\n",
              "      --disabled-bg-color: #3B4455;\n",
              "      --disabled-fill-color: #666;\n",
              "  }\n",
              "\n",
              "  .colab-df-quickchart {\n",
              "    background-color: var(--bg-color);\n",
              "    border: none;\n",
              "    border-radius: 50%;\n",
              "    cursor: pointer;\n",
              "    display: none;\n",
              "    fill: var(--fill-color);\n",
              "    height: 32px;\n",
              "    padding: 0;\n",
              "    width: 32px;\n",
              "  }\n",
              "\n",
              "  .colab-df-quickchart:hover {\n",
              "    background-color: var(--hover-bg-color);\n",
              "    box-shadow: 0 1px 2px rgba(60, 64, 67, 0.3), 0 1px 3px 1px rgba(60, 64, 67, 0.15);\n",
              "    fill: var(--button-hover-fill-color);\n",
              "  }\n",
              "\n",
              "  .colab-df-quickchart-complete:disabled,\n",
              "  .colab-df-quickchart-complete:disabled:hover {\n",
              "    background-color: var(--disabled-bg-color);\n",
              "    fill: var(--disabled-fill-color);\n",
              "    box-shadow: none;\n",
              "  }\n",
              "\n",
              "  .colab-df-spinner {\n",
              "    border: 2px solid var(--fill-color);\n",
              "    border-color: transparent;\n",
              "    border-bottom-color: var(--fill-color);\n",
              "    animation:\n",
              "      spin 1s steps(1) infinite;\n",
              "  }\n",
              "\n",
              "  @keyframes spin {\n",
              "    0% {\n",
              "      border-color: transparent;\n",
              "      border-bottom-color: var(--fill-color);\n",
              "      border-left-color: var(--fill-color);\n",
              "    }\n",
              "    20% {\n",
              "      border-color: transparent;\n",
              "      border-left-color: var(--fill-color);\n",
              "      border-top-color: var(--fill-color);\n",
              "    }\n",
              "    30% {\n",
              "      border-color: transparent;\n",
              "      border-left-color: var(--fill-color);\n",
              "      border-top-color: var(--fill-color);\n",
              "      border-right-color: var(--fill-color);\n",
              "    }\n",
              "    40% {\n",
              "      border-color: transparent;\n",
              "      border-right-color: var(--fill-color);\n",
              "      border-top-color: var(--fill-color);\n",
              "    }\n",
              "    60% {\n",
              "      border-color: transparent;\n",
              "      border-right-color: var(--fill-color);\n",
              "    }\n",
              "    80% {\n",
              "      border-color: transparent;\n",
              "      border-right-color: var(--fill-color);\n",
              "      border-bottom-color: var(--fill-color);\n",
              "    }\n",
              "    90% {\n",
              "      border-color: transparent;\n",
              "      border-bottom-color: var(--fill-color);\n",
              "    }\n",
              "  }\n",
              "</style>\n",
              "\n",
              "      <script>\n",
              "        async function quickchart(key) {\n",
              "          const quickchartButtonEl =\n",
              "            document.querySelector('#' + key + ' button');\n",
              "          quickchartButtonEl.disabled = true;  // To prevent multiple clicks.\n",
              "          quickchartButtonEl.classList.add('colab-df-spinner');\n",
              "          try {\n",
              "            const charts = await google.colab.kernel.invokeFunction(\n",
              "                'suggestCharts', [key], {});\n",
              "          } catch (error) {\n",
              "            console.error('Error during call to suggestCharts:', error);\n",
              "          }\n",
              "          quickchartButtonEl.classList.remove('colab-df-spinner');\n",
              "          quickchartButtonEl.classList.add('colab-df-quickchart-complete');\n",
              "        }\n",
              "        (() => {\n",
              "          let quickchartButtonEl =\n",
              "            document.querySelector('#df-d5adc8b1-a6d6-4947-8a04-670ceb7ca8b5 button');\n",
              "          quickchartButtonEl.style.display =\n",
              "            google.colab.kernel.accessAllowed ? 'block' : 'none';\n",
              "        })();\n",
              "      </script>\n",
              "    </div>\n",
              "\n",
              "    </div>\n",
              "  </div>\n"
            ],
            "application/vnd.google.colaboratory.intrinsic+json": {
              "type": "dataframe",
              "variable_name": "df"
            }
          },
          "metadata": {},
          "execution_count": 34
        }
      ]
    },
    {
      "cell_type": "markdown",
      "metadata": {
        "id": "JdcucZhp-M_0"
      },
      "source": [
        "## 1. Predicción de Seleccionados Nacionales [14 puntos]"
      ]
    },
    {
      "cell_type": "markdown",
      "metadata": {
        "id": "HXrewqxjjzvA"
      },
      "source": [
        "<p align=\"center\">\n",
        "  <img src=\"https://www.futuro.cl/wp-content/uploads/2016/06/chile-argentina-meme-12.jpg\" width=\"300\">\n",
        "</p>\n",
        "\n"
      ]
    },
    {
      "cell_type": "markdown",
      "metadata": {
        "id": "Qfre1YsSDqla"
      },
      "source": [
        "### 1.1 Preprocesamiento [5 puntos]"
      ]
    },
    {
      "cell_type": "markdown",
      "metadata": {
        "id": "IR00u4HTDtxv"
      },
      "source": [
        "Tareas:\n",
        "\n",
        "1. Genere los labels para la clasificación binaria en una variable llamada `label`. Para esto, trabaje sobre el atributo `National_Position` suponiendo que los valores nulos son jugadores no seleccionados para representar a su país. [Sin puntaje]\n",
        "\n",
        "2. Hecho esto, ¿cuántos se tienen ejemplos por cada clase? Comente lo que observa. [1 punto]\n",
        "\n",
        "3. Genere un `ColumnTransformer` en donde especifique las transformaciones que hay que realizar para cada columna (por ejemplo StandarScaler, MinMaxScaler, OneHotEncoder, etc...) para que puedan ser utilizadas correctamente por el modelo predictivo y guárdelo una variable llamada `col_transformer`. [2 puntos]\n",
        "\n",
        "4. Comente y justifique las transformaciones elegidas sobre cada una de las variables (para esto utilice el material `Player_Stats_Report.html` que viene en el zip del lab), al igual que las transformaciones aplicadas. [2 puntos]"
      ]
    },
    {
      "cell_type": "markdown",
      "metadata": {
        "id": "tgAk0kbPjEsx"
      },
      "source": [
        "**Respuesta:**"
      ]
    },
    {
      "cell_type": "code",
      "execution_count": 35,
      "metadata": {
        "id": "JhC2sZj9dSI1"
      },
      "outputs": [],
      "source": [
        "#1\n",
        "df['label'] = df['National_Position'].notna().astype(int)"
      ]
    },
    {
      "cell_type": "code",
      "source": [
        "#2:\n",
        "na = df['label'].value_counts()\n",
        "print(na)"
      ],
      "metadata": {
        "colab": {
          "base_uri": "https://localhost:8080/"
        },
        "id": "I6CCi-tB--fB",
        "outputId": "655ed32e-7a76-4e4f-bd48-255ced1aa3d5"
      },
      "execution_count": 36,
      "outputs": [
        {
          "output_type": "stream",
          "name": "stdout",
          "text": [
            "label\n",
            "0    16513\n",
            "1     1075\n",
            "Name: count, dtype: int64\n"
          ]
        }
      ]
    },
    {
      "cell_type": "markdown",
      "source": [
        "se observa que la variable 0 esta 15 veces más, osea estan desbalanceadas la clase"
      ],
      "metadata": {
        "id": "NHFEl0rF_4FF"
      }
    },
    {
      "cell_type": "code",
      "source": [
        "from sklearn.compose import ColumnTransformer\n",
        "from sklearn.preprocessing import StandardScaler, MinMaxScaler, OneHotEncoder"
      ],
      "metadata": {
        "id": "v9uAmsj8Ew5Z"
      },
      "execution_count": 37,
      "outputs": []
    },
    {
      "cell_type": "code",
      "source": [
        "#3 primero vmos a separar la comunas a ajustar, separadas e transformaciones std,minmax y onehot (en ese orden)\n",
        "# no vamos a uar unas como name,\n",
        "numericas_std = ['Age', 'Weak_foot', 'Skill_Moves','Ball_Control','Standing_Tackle','Aggression','Reactions', 'Vision','Composure', 'Speed','Finishing','Strength']\n",
        "numericas_minmax = [  'Weight']\n",
        "categoricas = ['Club_Position', 'National_Position', 'Preffered_Foot', 'Nationality', 'National_Position']\n",
        "\n",
        "col_transformer = ColumnTransformer(\n",
        "    transformers=[\n",
        "        ('num_std', StandardScaler(), numericas_std),\n",
        "        ('num_minmax', MinMaxScaler(), numericas_minmax),\n",
        "        ('cat', OneHotEncoder(handle_unknown='ignore'), categoricas)\n",
        "    ],\n",
        "    remainder='drop'  # elimina columnas no especificadas\n",
        ")"
      ],
      "metadata": {
        "id": "vAufUwgIBaH6"
      },
      "execution_count": 38,
      "outputs": []
    },
    {
      "cell_type": "markdown",
      "source": [
        "nos quedamos co algunas nomas, por que hay variabless altamente corr, entonces nos quedmos con una de esas. Las transformaciones se hicieron dependiendo del tipo de valor que tenia la columna."
      ],
      "metadata": {
        "id": "RGxFSqt3F8jM"
      }
    },
    {
      "cell_type": "code",
      "source": [
        "#aplicamos el col transformer\n",
        "\n",
        "x = df.drop(columns=['label'])\n",
        "y = df['label'] # sacamos la var a predecir\n",
        "df_transformed = col_transformer.fit_transform(x)"
      ],
      "metadata": {
        "id": "V9tcZpxcHlxh"
      },
      "execution_count": 39,
      "outputs": []
    },
    {
      "cell_type": "markdown",
      "metadata": {
        "id": "Bv1HOfcNEPF4"
      },
      "source": [
        "### 1.2 Entrenamiento [3 puntos]"
      ]
    },
    {
      "cell_type": "markdown",
      "metadata": {
        "id": "whPkuXTUBvB0"
      },
      "source": [
        "Ahora, vamos a entrenar los pipelines generados en los pasos anteriores. Para esto, debe realizar las siguientes tareas:\n",
        "\n",
        "1. Separe los datos de entrenamiento en un conjunto de entrenamiento y de prueba  (la proporción queda a su juicio). En este paso, seleccione los ejemplos de forma aleatoria e intente mantener la distribución original de labels de cada clase en los conjuntos de prueba/entrenamiento. (vea la documentación de `train_test_split`). [1 puntos]\n",
        "\n",
        "\n",
        "2. Defina un pipeline llamado `pipeline_xgboost` y otro llamado `pipeline_lightgbm`. Estos pipelines deben tener el mismo ColumnTransformer definido en la sección de preprocesamiento, pero deben variar los clasificadores de acuerdo al nombre de cada pipeline. [1 puntos]\n",
        "\n",
        "3. Entrene los pipelines. [1 punto]\n",
        "\n"
      ]
    },
    {
      "cell_type": "markdown",
      "metadata": {
        "id": "kbadONFtjGnE"
      },
      "source": [
        "**Respuesta:**"
      ]
    },
    {
      "cell_type": "code",
      "source": [
        "from sklearn.model_selection import train_test_split\n",
        "\n",
        "from sklearn.pipeline import Pipeline\n",
        "from xgboost import XGBClassifier\n",
        "from lightgbm import LGBMClassifier\n"
      ],
      "metadata": {
        "id": "AvvqYlWjIz-3"
      },
      "execution_count": 40,
      "outputs": []
    },
    {
      "cell_type": "code",
      "execution_count": 41,
      "metadata": {
        "id": "lLtlXGTPdWAV"
      },
      "outputs": [],
      "source": [
        "#1\n",
        "# Separar los datos\n",
        "X_train, X_test, y_train, y_test = train_test_split(\n",
        "    x,\n",
        "    y,              # prediccion\n",
        "    test_size=0.2,  # proporcion 80 20 de toda la vida\n",
        "    random_state=1,  # seteamos semilla\n",
        "    stratify=y      # balance de clasea acorde\n",
        ")\n"
      ]
    },
    {
      "cell_type": "code",
      "source": [
        "#2\n",
        "\n",
        "# Pipeline para XGBoost\n",
        "pipeline_xgboost = Pipeline(steps=[\n",
        "    ('preprocessing', col_transformer),  # column transformer\n",
        "    ('classifier', XGBClassifier(random_state=1))  #  XGBoost\n",
        "])\n",
        "\n",
        "# Pipeline para LightGBM\n",
        "pipeline_lightgbm = Pipeline(steps=[\n",
        "    ('preprocessing', col_transformer),   # column transformer\n",
        "    ('classifier', LGBMClassifier(random_state=1))  # l GBM\n",
        "])"
      ],
      "metadata": {
        "id": "tnlMBElRKTeO"
      },
      "execution_count": 42,
      "outputs": []
    },
    {
      "cell_type": "code",
      "source": [
        "#3\n",
        "\n",
        "# XGBoost\n",
        "pipeline_xgboost.fit(X_train, y_train)\n",
        "\n",
        "# l GBM\n",
        "pipeline_lightgbm.fit(X_train, y_train)\n"
      ],
      "metadata": {
        "colab": {
          "base_uri": "https://localhost:8080/",
          "height": 0
        },
        "id": "EQozoxiHKl6i",
        "outputId": "4801d39d-d34c-403a-ec12-59794918901d"
      },
      "execution_count": 43,
      "outputs": [
        {
          "output_type": "stream",
          "name": "stdout",
          "text": [
            "[LightGBM] [Info] Number of positive: 860, number of negative: 13210\n",
            "[LightGBM] [Info] Auto-choosing row-wise multi-threading, the overhead of testing was 0.004629 seconds.\n",
            "You can set `force_row_wise=true` to remove the overhead.\n",
            "And if memory is not enough, you can set `force_col_wise=true`.\n",
            "[LightGBM] [Info] Total Bins 1064\n",
            "[LightGBM] [Info] Number of data points in the train set: 14070, number of used features: 133\n",
            "[LightGBM] [Info] [binary:BoostFromScore]: pavg=0.061123 -> initscore=-2.731797\n",
            "[LightGBM] [Info] Start training from score -2.731797\n",
            "[LightGBM] [Warning] No further splits with positive gain, best gain: -inf\n",
            "[LightGBM] [Warning] No further splits with positive gain, best gain: -inf\n",
            "[LightGBM] [Warning] No further splits with positive gain, best gain: -inf\n",
            "[LightGBM] [Warning] No further splits with positive gain, best gain: -inf\n",
            "[LightGBM] [Warning] No further splits with positive gain, best gain: -inf\n",
            "[LightGBM] [Warning] No further splits with positive gain, best gain: -inf\n",
            "[LightGBM] [Warning] No further splits with positive gain, best gain: -inf\n",
            "[LightGBM] [Warning] No further splits with positive gain, best gain: -inf\n",
            "[LightGBM] [Warning] No further splits with positive gain, best gain: -inf\n",
            "[LightGBM] [Warning] No further splits with positive gain, best gain: -inf\n",
            "[LightGBM] [Warning] No further splits with positive gain, best gain: -inf\n",
            "[LightGBM] [Warning] No further splits with positive gain, best gain: -inf\n",
            "[LightGBM] [Warning] No further splits with positive gain, best gain: -inf\n",
            "[LightGBM] [Warning] No further splits with positive gain, best gain: -inf\n",
            "[LightGBM] [Warning] No further splits with positive gain, best gain: -inf\n",
            "[LightGBM] [Warning] No further splits with positive gain, best gain: -inf\n",
            "[LightGBM] [Warning] No further splits with positive gain, best gain: -inf\n",
            "[LightGBM] [Warning] No further splits with positive gain, best gain: -inf\n",
            "[LightGBM] [Warning] No further splits with positive gain, best gain: -inf\n",
            "[LightGBM] [Warning] No further splits with positive gain, best gain: -inf\n",
            "[LightGBM] [Warning] No further splits with positive gain, best gain: -inf\n",
            "[LightGBM] [Warning] No further splits with positive gain, best gain: -inf\n",
            "[LightGBM] [Warning] No further splits with positive gain, best gain: -inf\n",
            "[LightGBM] [Warning] No further splits with positive gain, best gain: -inf\n",
            "[LightGBM] [Warning] No further splits with positive gain, best gain: -inf\n",
            "[LightGBM] [Warning] No further splits with positive gain, best gain: -inf\n",
            "[LightGBM] [Warning] No further splits with positive gain, best gain: -inf\n",
            "[LightGBM] [Warning] No further splits with positive gain, best gain: -inf\n",
            "[LightGBM] [Warning] No further splits with positive gain, best gain: -inf\n",
            "[LightGBM] [Warning] No further splits with positive gain, best gain: -inf\n",
            "[LightGBM] [Warning] No further splits with positive gain, best gain: -inf\n",
            "[LightGBM] [Warning] No further splits with positive gain, best gain: -inf\n",
            "[LightGBM] [Warning] No further splits with positive gain, best gain: -inf\n",
            "[LightGBM] [Warning] No further splits with positive gain, best gain: -inf\n",
            "[LightGBM] [Warning] No further splits with positive gain, best gain: -inf\n",
            "[LightGBM] [Warning] No further splits with positive gain, best gain: -inf\n",
            "[LightGBM] [Warning] No further splits with positive gain, best gain: -inf\n",
            "[LightGBM] [Warning] No further splits with positive gain, best gain: -inf\n",
            "[LightGBM] [Warning] No further splits with positive gain, best gain: -inf\n",
            "[LightGBM] [Warning] No further splits with positive gain, best gain: -inf\n",
            "[LightGBM] [Warning] No further splits with positive gain, best gain: -inf\n",
            "[LightGBM] [Warning] No further splits with positive gain, best gain: -inf\n",
            "[LightGBM] [Warning] No further splits with positive gain, best gain: -inf\n",
            "[LightGBM] [Warning] No further splits with positive gain, best gain: -inf\n",
            "[LightGBM] [Warning] No further splits with positive gain, best gain: -inf\n",
            "[LightGBM] [Warning] No further splits with positive gain, best gain: -inf\n",
            "[LightGBM] [Warning] No further splits with positive gain, best gain: -inf\n",
            "[LightGBM] [Warning] No further splits with positive gain, best gain: -inf\n",
            "[LightGBM] [Warning] No further splits with positive gain, best gain: -inf\n",
            "[LightGBM] [Warning] No further splits with positive gain, best gain: -inf\n",
            "[LightGBM] [Warning] No further splits with positive gain, best gain: -inf\n",
            "[LightGBM] [Warning] No further splits with positive gain, best gain: -inf\n",
            "[LightGBM] [Warning] No further splits with positive gain, best gain: -inf\n",
            "[LightGBM] [Warning] No further splits with positive gain, best gain: -inf\n",
            "[LightGBM] [Warning] No further splits with positive gain, best gain: -inf\n",
            "[LightGBM] [Warning] No further splits with positive gain, best gain: -inf\n",
            "[LightGBM] [Warning] No further splits with positive gain, best gain: -inf\n",
            "[LightGBM] [Warning] No further splits with positive gain, best gain: -inf\n",
            "[LightGBM] [Warning] No further splits with positive gain, best gain: -inf\n",
            "[LightGBM] [Warning] No further splits with positive gain, best gain: -inf\n",
            "[LightGBM] [Warning] No further splits with positive gain, best gain: -inf\n",
            "[LightGBM] [Warning] No further splits with positive gain, best gain: -inf\n",
            "[LightGBM] [Warning] No further splits with positive gain, best gain: -inf\n",
            "[LightGBM] [Warning] No further splits with positive gain, best gain: -inf\n",
            "[LightGBM] [Warning] No further splits with positive gain, best gain: -inf\n",
            "[LightGBM] [Warning] No further splits with positive gain, best gain: -inf\n",
            "[LightGBM] [Warning] No further splits with positive gain, best gain: -inf\n",
            "[LightGBM] [Warning] No further splits with positive gain, best gain: -inf\n",
            "[LightGBM] [Warning] No further splits with positive gain, best gain: -inf\n",
            "[LightGBM] [Warning] No further splits with positive gain, best gain: -inf\n",
            "[LightGBM] [Warning] No further splits with positive gain, best gain: -inf\n",
            "[LightGBM] [Warning] No further splits with positive gain, best gain: -inf\n",
            "[LightGBM] [Warning] No further splits with positive gain, best gain: -inf\n",
            "[LightGBM] [Warning] No further splits with positive gain, best gain: -inf\n",
            "[LightGBM] [Warning] No further splits with positive gain, best gain: -inf\n",
            "[LightGBM] [Warning] No further splits with positive gain, best gain: -inf\n",
            "[LightGBM] [Warning] No further splits with positive gain, best gain: -inf\n",
            "[LightGBM] [Warning] No further splits with positive gain, best gain: -inf\n",
            "[LightGBM] [Warning] No further splits with positive gain, best gain: -inf\n",
            "[LightGBM] [Warning] No further splits with positive gain, best gain: -inf\n",
            "[LightGBM] [Warning] No further splits with positive gain, best gain: -inf\n",
            "[LightGBM] [Warning] No further splits with positive gain, best gain: -inf\n",
            "[LightGBM] [Warning] No further splits with positive gain, best gain: -inf\n",
            "[LightGBM] [Warning] No further splits with positive gain, best gain: -inf\n",
            "[LightGBM] [Warning] No further splits with positive gain, best gain: -inf\n",
            "[LightGBM] [Warning] No further splits with positive gain, best gain: -inf\n",
            "[LightGBM] [Warning] No further splits with positive gain, best gain: -inf\n",
            "[LightGBM] [Warning] No further splits with positive gain, best gain: -inf\n",
            "[LightGBM] [Warning] No further splits with positive gain, best gain: -inf\n",
            "[LightGBM] [Warning] No further splits with positive gain, best gain: -inf\n",
            "[LightGBM] [Warning] No further splits with positive gain, best gain: -inf\n",
            "[LightGBM] [Warning] No further splits with positive gain, best gain: -inf\n",
            "[LightGBM] [Warning] No further splits with positive gain, best gain: -inf\n",
            "[LightGBM] [Warning] No further splits with positive gain, best gain: -inf\n",
            "[LightGBM] [Warning] No further splits with positive gain, best gain: -inf\n",
            "[LightGBM] [Warning] No further splits with positive gain, best gain: -inf\n",
            "[LightGBM] [Warning] No further splits with positive gain, best gain: -inf\n",
            "[LightGBM] [Warning] No further splits with positive gain, best gain: -inf\n",
            "[LightGBM] [Warning] No further splits with positive gain, best gain: -inf\n",
            "[LightGBM] [Warning] No further splits with positive gain, best gain: -inf\n"
          ]
        },
        {
          "output_type": "execute_result",
          "data": {
            "text/plain": [
              "Pipeline(memory=None,\n",
              "         steps=[('preprocessing',\n",
              "                 ColumnTransformer(n_jobs=None, remainder='drop',\n",
              "                                   sparse_threshold=0.3,\n",
              "                                   transformer_weights=None,\n",
              "                                   transformers=[('num_std',\n",
              "                                                  StandardScaler(copy=True,\n",
              "                                                                 with_mean=True,\n",
              "                                                                 with_std=True),\n",
              "                                                  ['Age', 'Weak_foot',\n",
              "                                                   'Skill_Moves',\n",
              "                                                   'Ball_Control',\n",
              "                                                   'Standing_Tackle',\n",
              "                                                   'Aggression', 'Reactions',\n",
              "                                                   'Vision', 'Composure',\n",
              "                                                   'Speed', 'Finishing',...\n",
              "                 LGBMClassifier(boosting_type='gbdt', class_weight=None,\n",
              "                                colsample_bytree=1.0, importance_type='split',\n",
              "                                learning_rate=0.1, max_depth=-1,\n",
              "                                min_child_samples=20, min_child_weight=0.001,\n",
              "                                min_split_gain=0.0, n_estimators=100,\n",
              "                                n_jobs=None, num_leaves=31, objective=None,\n",
              "                                random_state=1, reg_alpha=0.0, reg_lambda=0.0,\n",
              "                                subsample=1.0, subsample_for_bin=200000,\n",
              "                                subsample_freq=0))],\n",
              "         verbose=False)"
            ],
            "text/html": [
              "<style>#sk-container-id-2 {\n",
              "  /* Definition of color scheme common for light and dark mode */\n",
              "  --sklearn-color-text: black;\n",
              "  --sklearn-color-line: gray;\n",
              "  /* Definition of color scheme for unfitted estimators */\n",
              "  --sklearn-color-unfitted-level-0: #fff5e6;\n",
              "  --sklearn-color-unfitted-level-1: #f6e4d2;\n",
              "  --sklearn-color-unfitted-level-2: #ffe0b3;\n",
              "  --sklearn-color-unfitted-level-3: chocolate;\n",
              "  /* Definition of color scheme for fitted estimators */\n",
              "  --sklearn-color-fitted-level-0: #f0f8ff;\n",
              "  --sklearn-color-fitted-level-1: #d4ebff;\n",
              "  --sklearn-color-fitted-level-2: #b3dbfd;\n",
              "  --sklearn-color-fitted-level-3: cornflowerblue;\n",
              "\n",
              "  /* Specific color for light theme */\n",
              "  --sklearn-color-text-on-default-background: var(--sg-text-color, var(--theme-code-foreground, var(--jp-content-font-color1, black)));\n",
              "  --sklearn-color-background: var(--sg-background-color, var(--theme-background, var(--jp-layout-color0, white)));\n",
              "  --sklearn-color-border-box: var(--sg-text-color, var(--theme-code-foreground, var(--jp-content-font-color1, black)));\n",
              "  --sklearn-color-icon: #696969;\n",
              "\n",
              "  @media (prefers-color-scheme: dark) {\n",
              "    /* Redefinition of color scheme for dark theme */\n",
              "    --sklearn-color-text-on-default-background: var(--sg-text-color, var(--theme-code-foreground, var(--jp-content-font-color1, white)));\n",
              "    --sklearn-color-background: var(--sg-background-color, var(--theme-background, var(--jp-layout-color0, #111)));\n",
              "    --sklearn-color-border-box: var(--sg-text-color, var(--theme-code-foreground, var(--jp-content-font-color1, white)));\n",
              "    --sklearn-color-icon: #878787;\n",
              "  }\n",
              "}\n",
              "\n",
              "#sk-container-id-2 {\n",
              "  color: var(--sklearn-color-text);\n",
              "}\n",
              "\n",
              "#sk-container-id-2 pre {\n",
              "  padding: 0;\n",
              "}\n",
              "\n",
              "#sk-container-id-2 input.sk-hidden--visually {\n",
              "  border: 0;\n",
              "  clip: rect(1px 1px 1px 1px);\n",
              "  clip: rect(1px, 1px, 1px, 1px);\n",
              "  height: 1px;\n",
              "  margin: -1px;\n",
              "  overflow: hidden;\n",
              "  padding: 0;\n",
              "  position: absolute;\n",
              "  width: 1px;\n",
              "}\n",
              "\n",
              "#sk-container-id-2 div.sk-dashed-wrapped {\n",
              "  border: 1px dashed var(--sklearn-color-line);\n",
              "  margin: 0 0.4em 0.5em 0.4em;\n",
              "  box-sizing: border-box;\n",
              "  padding-bottom: 0.4em;\n",
              "  background-color: var(--sklearn-color-background);\n",
              "}\n",
              "\n",
              "#sk-container-id-2 div.sk-container {\n",
              "  /* jupyter's `normalize.less` sets `[hidden] { display: none; }`\n",
              "     but bootstrap.min.css set `[hidden] { display: none !important; }`\n",
              "     so we also need the `!important` here to be able to override the\n",
              "     default hidden behavior on the sphinx rendered scikit-learn.org.\n",
              "     See: https://github.com/scikit-learn/scikit-learn/issues/21755 */\n",
              "  display: inline-block !important;\n",
              "  position: relative;\n",
              "}\n",
              "\n",
              "#sk-container-id-2 div.sk-text-repr-fallback {\n",
              "  display: none;\n",
              "}\n",
              "\n",
              "div.sk-parallel-item,\n",
              "div.sk-serial,\n",
              "div.sk-item {\n",
              "  /* draw centered vertical line to link estimators */\n",
              "  background-image: linear-gradient(var(--sklearn-color-text-on-default-background), var(--sklearn-color-text-on-default-background));\n",
              "  background-size: 2px 100%;\n",
              "  background-repeat: no-repeat;\n",
              "  background-position: center center;\n",
              "}\n",
              "\n",
              "/* Parallel-specific style estimator block */\n",
              "\n",
              "#sk-container-id-2 div.sk-parallel-item::after {\n",
              "  content: \"\";\n",
              "  width: 100%;\n",
              "  border-bottom: 2px solid var(--sklearn-color-text-on-default-background);\n",
              "  flex-grow: 1;\n",
              "}\n",
              "\n",
              "#sk-container-id-2 div.sk-parallel {\n",
              "  display: flex;\n",
              "  align-items: stretch;\n",
              "  justify-content: center;\n",
              "  background-color: var(--sklearn-color-background);\n",
              "  position: relative;\n",
              "}\n",
              "\n",
              "#sk-container-id-2 div.sk-parallel-item {\n",
              "  display: flex;\n",
              "  flex-direction: column;\n",
              "}\n",
              "\n",
              "#sk-container-id-2 div.sk-parallel-item:first-child::after {\n",
              "  align-self: flex-end;\n",
              "  width: 50%;\n",
              "}\n",
              "\n",
              "#sk-container-id-2 div.sk-parallel-item:last-child::after {\n",
              "  align-self: flex-start;\n",
              "  width: 50%;\n",
              "}\n",
              "\n",
              "#sk-container-id-2 div.sk-parallel-item:only-child::after {\n",
              "  width: 0;\n",
              "}\n",
              "\n",
              "/* Serial-specific style estimator block */\n",
              "\n",
              "#sk-container-id-2 div.sk-serial {\n",
              "  display: flex;\n",
              "  flex-direction: column;\n",
              "  align-items: center;\n",
              "  background-color: var(--sklearn-color-background);\n",
              "  padding-right: 1em;\n",
              "  padding-left: 1em;\n",
              "}\n",
              "\n",
              "\n",
              "/* Toggleable style: style used for estimator/Pipeline/ColumnTransformer box that is\n",
              "clickable and can be expanded/collapsed.\n",
              "- Pipeline and ColumnTransformer use this feature and define the default style\n",
              "- Estimators will overwrite some part of the style using the `sk-estimator` class\n",
              "*/\n",
              "\n",
              "/* Pipeline and ColumnTransformer style (default) */\n",
              "\n",
              "#sk-container-id-2 div.sk-toggleable {\n",
              "  /* Default theme specific background. It is overwritten whether we have a\n",
              "  specific estimator or a Pipeline/ColumnTransformer */\n",
              "  background-color: var(--sklearn-color-background);\n",
              "}\n",
              "\n",
              "/* Toggleable label */\n",
              "#sk-container-id-2 label.sk-toggleable__label {\n",
              "  cursor: pointer;\n",
              "  display: block;\n",
              "  width: 100%;\n",
              "  margin-bottom: 0;\n",
              "  padding: 0.5em;\n",
              "  box-sizing: border-box;\n",
              "  text-align: center;\n",
              "}\n",
              "\n",
              "#sk-container-id-2 label.sk-toggleable__label-arrow:before {\n",
              "  /* Arrow on the left of the label */\n",
              "  content: \"▸\";\n",
              "  float: left;\n",
              "  margin-right: 0.25em;\n",
              "  color: var(--sklearn-color-icon);\n",
              "}\n",
              "\n",
              "#sk-container-id-2 label.sk-toggleable__label-arrow:hover:before {\n",
              "  color: var(--sklearn-color-text);\n",
              "}\n",
              "\n",
              "/* Toggleable content - dropdown */\n",
              "\n",
              "#sk-container-id-2 div.sk-toggleable__content {\n",
              "  max-height: 0;\n",
              "  max-width: 0;\n",
              "  overflow: hidden;\n",
              "  text-align: left;\n",
              "  /* unfitted */\n",
              "  background-color: var(--sklearn-color-unfitted-level-0);\n",
              "}\n",
              "\n",
              "#sk-container-id-2 div.sk-toggleable__content.fitted {\n",
              "  /* fitted */\n",
              "  background-color: var(--sklearn-color-fitted-level-0);\n",
              "}\n",
              "\n",
              "#sk-container-id-2 div.sk-toggleable__content pre {\n",
              "  margin: 0.2em;\n",
              "  border-radius: 0.25em;\n",
              "  color: var(--sklearn-color-text);\n",
              "  /* unfitted */\n",
              "  background-color: var(--sklearn-color-unfitted-level-0);\n",
              "}\n",
              "\n",
              "#sk-container-id-2 div.sk-toggleable__content.fitted pre {\n",
              "  /* unfitted */\n",
              "  background-color: var(--sklearn-color-fitted-level-0);\n",
              "}\n",
              "\n",
              "#sk-container-id-2 input.sk-toggleable__control:checked~div.sk-toggleable__content {\n",
              "  /* Expand drop-down */\n",
              "  max-height: 200px;\n",
              "  max-width: 100%;\n",
              "  overflow: auto;\n",
              "}\n",
              "\n",
              "#sk-container-id-2 input.sk-toggleable__control:checked~label.sk-toggleable__label-arrow:before {\n",
              "  content: \"▾\";\n",
              "}\n",
              "\n",
              "/* Pipeline/ColumnTransformer-specific style */\n",
              "\n",
              "#sk-container-id-2 div.sk-label input.sk-toggleable__control:checked~label.sk-toggleable__label {\n",
              "  color: var(--sklearn-color-text);\n",
              "  background-color: var(--sklearn-color-unfitted-level-2);\n",
              "}\n",
              "\n",
              "#sk-container-id-2 div.sk-label.fitted input.sk-toggleable__control:checked~label.sk-toggleable__label {\n",
              "  background-color: var(--sklearn-color-fitted-level-2);\n",
              "}\n",
              "\n",
              "/* Estimator-specific style */\n",
              "\n",
              "/* Colorize estimator box */\n",
              "#sk-container-id-2 div.sk-estimator input.sk-toggleable__control:checked~label.sk-toggleable__label {\n",
              "  /* unfitted */\n",
              "  background-color: var(--sklearn-color-unfitted-level-2);\n",
              "}\n",
              "\n",
              "#sk-container-id-2 div.sk-estimator.fitted input.sk-toggleable__control:checked~label.sk-toggleable__label {\n",
              "  /* fitted */\n",
              "  background-color: var(--sklearn-color-fitted-level-2);\n",
              "}\n",
              "\n",
              "#sk-container-id-2 div.sk-label label.sk-toggleable__label,\n",
              "#sk-container-id-2 div.sk-label label {\n",
              "  /* The background is the default theme color */\n",
              "  color: var(--sklearn-color-text-on-default-background);\n",
              "}\n",
              "\n",
              "/* On hover, darken the color of the background */\n",
              "#sk-container-id-2 div.sk-label:hover label.sk-toggleable__label {\n",
              "  color: var(--sklearn-color-text);\n",
              "  background-color: var(--sklearn-color-unfitted-level-2);\n",
              "}\n",
              "\n",
              "/* Label box, darken color on hover, fitted */\n",
              "#sk-container-id-2 div.sk-label.fitted:hover label.sk-toggleable__label.fitted {\n",
              "  color: var(--sklearn-color-text);\n",
              "  background-color: var(--sklearn-color-fitted-level-2);\n",
              "}\n",
              "\n",
              "/* Estimator label */\n",
              "\n",
              "#sk-container-id-2 div.sk-label label {\n",
              "  font-family: monospace;\n",
              "  font-weight: bold;\n",
              "  display: inline-block;\n",
              "  line-height: 1.2em;\n",
              "}\n",
              "\n",
              "#sk-container-id-2 div.sk-label-container {\n",
              "  text-align: center;\n",
              "}\n",
              "\n",
              "/* Estimator-specific */\n",
              "#sk-container-id-2 div.sk-estimator {\n",
              "  font-family: monospace;\n",
              "  border: 1px dotted var(--sklearn-color-border-box);\n",
              "  border-radius: 0.25em;\n",
              "  box-sizing: border-box;\n",
              "  margin-bottom: 0.5em;\n",
              "  /* unfitted */\n",
              "  background-color: var(--sklearn-color-unfitted-level-0);\n",
              "}\n",
              "\n",
              "#sk-container-id-2 div.sk-estimator.fitted {\n",
              "  /* fitted */\n",
              "  background-color: var(--sklearn-color-fitted-level-0);\n",
              "}\n",
              "\n",
              "/* on hover */\n",
              "#sk-container-id-2 div.sk-estimator:hover {\n",
              "  /* unfitted */\n",
              "  background-color: var(--sklearn-color-unfitted-level-2);\n",
              "}\n",
              "\n",
              "#sk-container-id-2 div.sk-estimator.fitted:hover {\n",
              "  /* fitted */\n",
              "  background-color: var(--sklearn-color-fitted-level-2);\n",
              "}\n",
              "\n",
              "/* Specification for estimator info (e.g. \"i\" and \"?\") */\n",
              "\n",
              "/* Common style for \"i\" and \"?\" */\n",
              "\n",
              ".sk-estimator-doc-link,\n",
              "a:link.sk-estimator-doc-link,\n",
              "a:visited.sk-estimator-doc-link {\n",
              "  float: right;\n",
              "  font-size: smaller;\n",
              "  line-height: 1em;\n",
              "  font-family: monospace;\n",
              "  background-color: var(--sklearn-color-background);\n",
              "  border-radius: 1em;\n",
              "  height: 1em;\n",
              "  width: 1em;\n",
              "  text-decoration: none !important;\n",
              "  margin-left: 1ex;\n",
              "  /* unfitted */\n",
              "  border: var(--sklearn-color-unfitted-level-1) 1pt solid;\n",
              "  color: var(--sklearn-color-unfitted-level-1);\n",
              "}\n",
              "\n",
              ".sk-estimator-doc-link.fitted,\n",
              "a:link.sk-estimator-doc-link.fitted,\n",
              "a:visited.sk-estimator-doc-link.fitted {\n",
              "  /* fitted */\n",
              "  border: var(--sklearn-color-fitted-level-1) 1pt solid;\n",
              "  color: var(--sklearn-color-fitted-level-1);\n",
              "}\n",
              "\n",
              "/* On hover */\n",
              "div.sk-estimator:hover .sk-estimator-doc-link:hover,\n",
              ".sk-estimator-doc-link:hover,\n",
              "div.sk-label-container:hover .sk-estimator-doc-link:hover,\n",
              ".sk-estimator-doc-link:hover {\n",
              "  /* unfitted */\n",
              "  background-color: var(--sklearn-color-unfitted-level-3);\n",
              "  color: var(--sklearn-color-background);\n",
              "  text-decoration: none;\n",
              "}\n",
              "\n",
              "div.sk-estimator.fitted:hover .sk-estimator-doc-link.fitted:hover,\n",
              ".sk-estimator-doc-link.fitted:hover,\n",
              "div.sk-label-container:hover .sk-estimator-doc-link.fitted:hover,\n",
              ".sk-estimator-doc-link.fitted:hover {\n",
              "  /* fitted */\n",
              "  background-color: var(--sklearn-color-fitted-level-3);\n",
              "  color: var(--sklearn-color-background);\n",
              "  text-decoration: none;\n",
              "}\n",
              "\n",
              "/* Span, style for the box shown on hovering the info icon */\n",
              ".sk-estimator-doc-link span {\n",
              "  display: none;\n",
              "  z-index: 9999;\n",
              "  position: relative;\n",
              "  font-weight: normal;\n",
              "  right: .2ex;\n",
              "  padding: .5ex;\n",
              "  margin: .5ex;\n",
              "  width: min-content;\n",
              "  min-width: 20ex;\n",
              "  max-width: 50ex;\n",
              "  color: var(--sklearn-color-text);\n",
              "  box-shadow: 2pt 2pt 4pt #999;\n",
              "  /* unfitted */\n",
              "  background: var(--sklearn-color-unfitted-level-0);\n",
              "  border: .5pt solid var(--sklearn-color-unfitted-level-3);\n",
              "}\n",
              "\n",
              ".sk-estimator-doc-link.fitted span {\n",
              "  /* fitted */\n",
              "  background: var(--sklearn-color-fitted-level-0);\n",
              "  border: var(--sklearn-color-fitted-level-3);\n",
              "}\n",
              "\n",
              ".sk-estimator-doc-link:hover span {\n",
              "  display: block;\n",
              "}\n",
              "\n",
              "/* \"?\"-specific style due to the `<a>` HTML tag */\n",
              "\n",
              "#sk-container-id-2 a.estimator_doc_link {\n",
              "  float: right;\n",
              "  font-size: 1rem;\n",
              "  line-height: 1em;\n",
              "  font-family: monospace;\n",
              "  background-color: var(--sklearn-color-background);\n",
              "  border-radius: 1rem;\n",
              "  height: 1rem;\n",
              "  width: 1rem;\n",
              "  text-decoration: none;\n",
              "  /* unfitted */\n",
              "  color: var(--sklearn-color-unfitted-level-1);\n",
              "  border: var(--sklearn-color-unfitted-level-1) 1pt solid;\n",
              "}\n",
              "\n",
              "#sk-container-id-2 a.estimator_doc_link.fitted {\n",
              "  /* fitted */\n",
              "  border: var(--sklearn-color-fitted-level-1) 1pt solid;\n",
              "  color: var(--sklearn-color-fitted-level-1);\n",
              "}\n",
              "\n",
              "/* On hover */\n",
              "#sk-container-id-2 a.estimator_doc_link:hover {\n",
              "  /* unfitted */\n",
              "  background-color: var(--sklearn-color-unfitted-level-3);\n",
              "  color: var(--sklearn-color-background);\n",
              "  text-decoration: none;\n",
              "}\n",
              "\n",
              "#sk-container-id-2 a.estimator_doc_link.fitted:hover {\n",
              "  /* fitted */\n",
              "  background-color: var(--sklearn-color-fitted-level-3);\n",
              "}\n",
              "</style><div id=\"sk-container-id-2\" class=\"sk-top-container\"><div class=\"sk-text-repr-fallback\"><pre>Pipeline(memory=None,\n",
              "         steps=[(&#x27;preprocessing&#x27;,\n",
              "                 ColumnTransformer(n_jobs=None, remainder=&#x27;drop&#x27;,\n",
              "                                   sparse_threshold=0.3,\n",
              "                                   transformer_weights=None,\n",
              "                                   transformers=[(&#x27;num_std&#x27;,\n",
              "                                                  StandardScaler(copy=True,\n",
              "                                                                 with_mean=True,\n",
              "                                                                 with_std=True),\n",
              "                                                  [&#x27;Age&#x27;, &#x27;Weak_foot&#x27;,\n",
              "                                                   &#x27;Skill_Moves&#x27;,\n",
              "                                                   &#x27;Ball_Control&#x27;,\n",
              "                                                   &#x27;Standing_Tackle&#x27;,\n",
              "                                                   &#x27;Aggression&#x27;, &#x27;Reactions&#x27;,\n",
              "                                                   &#x27;Vision&#x27;, &#x27;Composure&#x27;,\n",
              "                                                   &#x27;Speed&#x27;, &#x27;Finishing&#x27;,...\n",
              "                 LGBMClassifier(boosting_type=&#x27;gbdt&#x27;, class_weight=None,\n",
              "                                colsample_bytree=1.0, importance_type=&#x27;split&#x27;,\n",
              "                                learning_rate=0.1, max_depth=-1,\n",
              "                                min_child_samples=20, min_child_weight=0.001,\n",
              "                                min_split_gain=0.0, n_estimators=100,\n",
              "                                n_jobs=None, num_leaves=31, objective=None,\n",
              "                                random_state=1, reg_alpha=0.0, reg_lambda=0.0,\n",
              "                                subsample=1.0, subsample_for_bin=200000,\n",
              "                                subsample_freq=0))],\n",
              "         verbose=False)</pre><b>In a Jupyter environment, please rerun this cell to show the HTML representation or trust the notebook. <br />On GitHub, the HTML representation is unable to render, please try loading this page with nbviewer.org.</b></div><div class=\"sk-container\" hidden><div class=\"sk-item sk-dashed-wrapped\"><div class=\"sk-label-container\"><div class=\"sk-label fitted sk-toggleable\"><input class=\"sk-toggleable__control sk-hidden--visually\" id=\"sk-estimator-id-10\" type=\"checkbox\" ><label for=\"sk-estimator-id-10\" class=\"sk-toggleable__label fitted sk-toggleable__label-arrow fitted\">&nbsp;&nbsp;Pipeline<a class=\"sk-estimator-doc-link fitted\" rel=\"noreferrer\" target=\"_blank\" href=\"https://scikit-learn.org/1.4/modules/generated/sklearn.pipeline.Pipeline.html\">?<span>Documentation for Pipeline</span></a><span class=\"sk-estimator-doc-link fitted\">i<span>Fitted</span></span></label><div class=\"sk-toggleable__content fitted\"><pre>Pipeline(memory=None,\n",
              "         steps=[(&#x27;preprocessing&#x27;,\n",
              "                 ColumnTransformer(n_jobs=None, remainder=&#x27;drop&#x27;,\n",
              "                                   sparse_threshold=0.3,\n",
              "                                   transformer_weights=None,\n",
              "                                   transformers=[(&#x27;num_std&#x27;,\n",
              "                                                  StandardScaler(copy=True,\n",
              "                                                                 with_mean=True,\n",
              "                                                                 with_std=True),\n",
              "                                                  [&#x27;Age&#x27;, &#x27;Weak_foot&#x27;,\n",
              "                                                   &#x27;Skill_Moves&#x27;,\n",
              "                                                   &#x27;Ball_Control&#x27;,\n",
              "                                                   &#x27;Standing_Tackle&#x27;,\n",
              "                                                   &#x27;Aggression&#x27;, &#x27;Reactions&#x27;,\n",
              "                                                   &#x27;Vision&#x27;, &#x27;Composure&#x27;,\n",
              "                                                   &#x27;Speed&#x27;, &#x27;Finishing&#x27;,...\n",
              "                 LGBMClassifier(boosting_type=&#x27;gbdt&#x27;, class_weight=None,\n",
              "                                colsample_bytree=1.0, importance_type=&#x27;split&#x27;,\n",
              "                                learning_rate=0.1, max_depth=-1,\n",
              "                                min_child_samples=20, min_child_weight=0.001,\n",
              "                                min_split_gain=0.0, n_estimators=100,\n",
              "                                n_jobs=None, num_leaves=31, objective=None,\n",
              "                                random_state=1, reg_alpha=0.0, reg_lambda=0.0,\n",
              "                                subsample=1.0, subsample_for_bin=200000,\n",
              "                                subsample_freq=0))],\n",
              "         verbose=False)</pre></div> </div></div><div class=\"sk-serial\"><div class=\"sk-item sk-dashed-wrapped\"><div class=\"sk-label-container\"><div class=\"sk-label fitted sk-toggleable\"><input class=\"sk-toggleable__control sk-hidden--visually\" id=\"sk-estimator-id-11\" type=\"checkbox\" ><label for=\"sk-estimator-id-11\" class=\"sk-toggleable__label fitted sk-toggleable__label-arrow fitted\">&nbsp;preprocessing: ColumnTransformer<a class=\"sk-estimator-doc-link fitted\" rel=\"noreferrer\" target=\"_blank\" href=\"https://scikit-learn.org/1.4/modules/generated/sklearn.compose.ColumnTransformer.html\">?<span>Documentation for preprocessing: ColumnTransformer</span></a></label><div class=\"sk-toggleable__content fitted\"><pre>ColumnTransformer(n_jobs=None, remainder=&#x27;drop&#x27;, sparse_threshold=0.3,\n",
              "                  transformer_weights=None,\n",
              "                  transformers=[(&#x27;num_std&#x27;,\n",
              "                                 StandardScaler(copy=True, with_mean=True,\n",
              "                                                with_std=True),\n",
              "                                 [&#x27;Age&#x27;, &#x27;Weak_foot&#x27;, &#x27;Skill_Moves&#x27;,\n",
              "                                  &#x27;Ball_Control&#x27;, &#x27;Standing_Tackle&#x27;,\n",
              "                                  &#x27;Aggression&#x27;, &#x27;Reactions&#x27;, &#x27;Vision&#x27;,\n",
              "                                  &#x27;Composure&#x27;, &#x27;Speed&#x27;, &#x27;Finishing&#x27;,\n",
              "                                  &#x27;Strength&#x27;]),\n",
              "                                (&#x27;num_minmax&#x27;,\n",
              "                                 MinMaxScaler(clip=...\n",
              "                                              feature_range=(0, 1)),\n",
              "                                 [&#x27;Weight&#x27;]),\n",
              "                                (&#x27;cat&#x27;,\n",
              "                                 OneHotEncoder(categories=&#x27;auto&#x27;, drop=None,\n",
              "                                               dtype=&lt;class &#x27;numpy.float64&#x27;&gt;,\n",
              "                                               feature_name_combiner=&#x27;concat&#x27;,\n",
              "                                               handle_unknown=&#x27;ignore&#x27;,\n",
              "                                               max_categories=None,\n",
              "                                               min_frequency=None,\n",
              "                                               sparse_output=True),\n",
              "                                 [&#x27;Club_Position&#x27;, &#x27;National_Position&#x27;,\n",
              "                                  &#x27;Preffered_Foot&#x27;, &#x27;Nationality&#x27;,\n",
              "                                  &#x27;National_Position&#x27;])],\n",
              "                  verbose=False, verbose_feature_names_out=True)</pre></div> </div></div><div class=\"sk-parallel\"><div class=\"sk-parallel-item\"><div class=\"sk-item\"><div class=\"sk-label-container\"><div class=\"sk-label fitted sk-toggleable\"><input class=\"sk-toggleable__control sk-hidden--visually\" id=\"sk-estimator-id-12\" type=\"checkbox\" ><label for=\"sk-estimator-id-12\" class=\"sk-toggleable__label fitted sk-toggleable__label-arrow fitted\">num_std</label><div class=\"sk-toggleable__content fitted\"><pre>[&#x27;Age&#x27;, &#x27;Weak_foot&#x27;, &#x27;Skill_Moves&#x27;, &#x27;Ball_Control&#x27;, &#x27;Standing_Tackle&#x27;, &#x27;Aggression&#x27;, &#x27;Reactions&#x27;, &#x27;Vision&#x27;, &#x27;Composure&#x27;, &#x27;Speed&#x27;, &#x27;Finishing&#x27;, &#x27;Strength&#x27;]</pre></div> </div></div><div class=\"sk-serial\"><div class=\"sk-item\"><div class=\"sk-estimator fitted sk-toggleable\"><input class=\"sk-toggleable__control sk-hidden--visually\" id=\"sk-estimator-id-13\" type=\"checkbox\" ><label for=\"sk-estimator-id-13\" class=\"sk-toggleable__label fitted sk-toggleable__label-arrow fitted\">&nbsp;StandardScaler<a class=\"sk-estimator-doc-link fitted\" rel=\"noreferrer\" target=\"_blank\" href=\"https://scikit-learn.org/1.4/modules/generated/sklearn.preprocessing.StandardScaler.html\">?<span>Documentation for StandardScaler</span></a></label><div class=\"sk-toggleable__content fitted\"><pre>StandardScaler()</pre></div> </div></div></div></div></div><div class=\"sk-parallel-item\"><div class=\"sk-item\"><div class=\"sk-label-container\"><div class=\"sk-label fitted sk-toggleable\"><input class=\"sk-toggleable__control sk-hidden--visually\" id=\"sk-estimator-id-14\" type=\"checkbox\" ><label for=\"sk-estimator-id-14\" class=\"sk-toggleable__label fitted sk-toggleable__label-arrow fitted\">num_minmax</label><div class=\"sk-toggleable__content fitted\"><pre>[&#x27;Weight&#x27;]</pre></div> </div></div><div class=\"sk-serial\"><div class=\"sk-item\"><div class=\"sk-estimator fitted sk-toggleable\"><input class=\"sk-toggleable__control sk-hidden--visually\" id=\"sk-estimator-id-15\" type=\"checkbox\" ><label for=\"sk-estimator-id-15\" class=\"sk-toggleable__label fitted sk-toggleable__label-arrow fitted\">&nbsp;MinMaxScaler<a class=\"sk-estimator-doc-link fitted\" rel=\"noreferrer\" target=\"_blank\" href=\"https://scikit-learn.org/1.4/modules/generated/sklearn.preprocessing.MinMaxScaler.html\">?<span>Documentation for MinMaxScaler</span></a></label><div class=\"sk-toggleable__content fitted\"><pre>MinMaxScaler()</pre></div> </div></div></div></div></div><div class=\"sk-parallel-item\"><div class=\"sk-item\"><div class=\"sk-label-container\"><div class=\"sk-label fitted sk-toggleable\"><input class=\"sk-toggleable__control sk-hidden--visually\" id=\"sk-estimator-id-16\" type=\"checkbox\" ><label for=\"sk-estimator-id-16\" class=\"sk-toggleable__label fitted sk-toggleable__label-arrow fitted\">cat</label><div class=\"sk-toggleable__content fitted\"><pre>[&#x27;Club_Position&#x27;, &#x27;National_Position&#x27;, &#x27;Preffered_Foot&#x27;, &#x27;Nationality&#x27;, &#x27;National_Position&#x27;]</pre></div> </div></div><div class=\"sk-serial\"><div class=\"sk-item\"><div class=\"sk-estimator fitted sk-toggleable\"><input class=\"sk-toggleable__control sk-hidden--visually\" id=\"sk-estimator-id-17\" type=\"checkbox\" ><label for=\"sk-estimator-id-17\" class=\"sk-toggleable__label fitted sk-toggleable__label-arrow fitted\">&nbsp;OneHotEncoder<a class=\"sk-estimator-doc-link fitted\" rel=\"noreferrer\" target=\"_blank\" href=\"https://scikit-learn.org/1.4/modules/generated/sklearn.preprocessing.OneHotEncoder.html\">?<span>Documentation for OneHotEncoder</span></a></label><div class=\"sk-toggleable__content fitted\"><pre>OneHotEncoder(handle_unknown=&#x27;ignore&#x27;)</pre></div> </div></div></div></div></div></div></div><div class=\"sk-item\"><div class=\"sk-estimator fitted sk-toggleable\"><input class=\"sk-toggleable__control sk-hidden--visually\" id=\"sk-estimator-id-18\" type=\"checkbox\" ><label for=\"sk-estimator-id-18\" class=\"sk-toggleable__label fitted sk-toggleable__label-arrow fitted\">LGBMClassifier</label><div class=\"sk-toggleable__content fitted\"><pre>LGBMClassifier(random_state=1)</pre></div> </div></div></div></div></div></div>"
            ]
          },
          "metadata": {},
          "execution_count": 43
        }
      ]
    },
    {
      "cell_type": "markdown",
      "metadata": {
        "id": "poc9HSNBFeKO"
      },
      "source": [
        "### 1.3 Resultados [6 puntos]"
      ]
    },
    {
      "cell_type": "markdown",
      "metadata": {
        "id": "tGGCj8YtFil1"
      },
      "source": [
        "1. Calcule las métricas accuracy, precisión y recall de la clase positiva (la que indica que un jugador es seleccionado nacional) para evaluar el rendimiento de los distintos modelos. Verifique sus resultados usando `classification_report`. [2 puntos]\n",
        "\n",
        "2. Explique qué implican los valores de accuracy, precisión y recall de la clase positiva (la que indica que un jugador es seleccionado nacional) y cómo influye la cantidad de ejemplos por clase en los resultados obtenidos. [2 puntos]\n",
        "\n",
        "3. Explique qué métrica le parece más adecuada y concluya qué modelo tiene un mejor desempeño. [2 puntos]"
      ]
    },
    {
      "cell_type": "markdown",
      "metadata": {
        "id": "A1hkVFdujJTi"
      },
      "source": [
        "**Respuesta:**"
      ]
    },
    {
      "cell_type": "code",
      "source": [
        "from sklearn.metrics import accuracy_score, precision_score, recall_score, classification_report"
      ],
      "metadata": {
        "id": "xPUsxwj4LU79"
      },
      "execution_count": 44,
      "outputs": []
    },
    {
      "cell_type": "code",
      "execution_count": 45,
      "metadata": {
        "id": "QNmI_tbbdQte",
        "colab": {
          "base_uri": "https://localhost:8080/"
        },
        "outputId": "7c8297ba-5f33-4953-8804-ae1a53d80ff6"
      },
      "outputs": [
        {
          "output_type": "stream",
          "name": "stdout",
          "text": [
            "--------------------------------------------------------------\n",
            "XGBoost\n",
            "Accuracy: 1.0\n",
            "Precision: 1.0\n",
            "Recall: 1.0\n",
            "\n",
            "Classification Report:\n",
            "               precision    recall  f1-score   support\n",
            "\n",
            "           0       1.00      1.00      1.00      3303\n",
            "           1       1.00      1.00      1.00       215\n",
            "\n",
            "    accuracy                           1.00      3518\n",
            "   macro avg       1.00      1.00      1.00      3518\n",
            "weighted avg       1.00      1.00      1.00      3518\n",
            "\n",
            "--------------------------------------------------------------\n",
            "\n",
            " LightGBM \n",
            "Accuracy: 1.0\n",
            "Precision: 1.0\n",
            "Recall: 1.0\n",
            "\n",
            "Classification Report:\n",
            "               precision    recall  f1-score   support\n",
            "\n",
            "           0       1.00      1.00      1.00      3303\n",
            "           1       1.00      1.00      1.00       215\n",
            "\n",
            "    accuracy                           1.00      3518\n",
            "   macro avg       1.00      1.00      1.00      3518\n",
            "weighted avg       1.00      1.00      1.00      3518\n",
            "\n"
          ]
        }
      ],
      "source": [
        "# 1\n",
        "\n",
        "# prueba\n",
        "y_pred_xgb = pipeline_xgboost.predict(X_test)\n",
        "y_pred_lgbm = pipeline_lightgbm.predict(X_test)\n",
        "\n",
        "print(\"--------------------------------------------------------------\")\n",
        "\n",
        "\n",
        "#  XGBoost\n",
        "print(\"XGBoost\")\n",
        "print(\"Accuracy:\", accuracy_score(y_test, y_pred_xgb))\n",
        "print(\"Precision:\", precision_score(y_test, y_pred_xgb, pos_label=1))\n",
        "print(\"Recall:\", recall_score(y_test, y_pred_xgb, pos_label=1))\n",
        "print(\"\\nClassification Report:\\n\", classification_report(y_test, y_pred_xgb)) # usamos lo recomendado\n",
        "\n",
        "print(\"--------------------------------------------------------------\")\n",
        "\n",
        "# tGBM\n",
        "print(\"\\n LightGBM \")\n",
        "print(\"Accuracy:\", accuracy_score(y_test, y_pred_lgbm))\n",
        "print(\"Precision:\", precision_score(y_test, y_pred_lgbm, pos_label=1))\n",
        "print(\"Recall:\", recall_score(y_test, y_pred_lgbm, pos_label=1))\n",
        "print(\"\\nClassification Report:\\n\", classification_report(y_test, y_pred_lgbm))# usamos lo recomendado\n"
      ]
    },
    {
      "cell_type": "markdown",
      "source": [
        "Tiene pinta de sobre ajuste ya que tien clasifiación =1. Trate de cambiar el % de test y train y seguia clasificando perfecto"
      ],
      "metadata": {
        "id": "MD6FD2j5LeLy"
      }
    },
    {
      "cell_type": "markdown",
      "source": [
        "2.\n",
        "\n",
        "En general clasifico todos los seleccionados e manera perfecta.\n",
        "para el caso de acurracy clasifico a todos los selccionados y no seleccionados bien.\n",
        "\n",
        "\n",
        "sobre precision, todos los que eran seleccionados segun el modelo, eran correctamente seelccionados.\n",
        "\n",
        "sobre recall el modelo no clasifico mal a un  seleccionado comp no seleccionado.\n",
        "\n",
        "Sobre el desbalance de clases, debió afectar al rendimiento del modelo, si es que no ssu hubiera usado a tecnica para balancerlos en el split (stratify=y )\n"
      ],
      "metadata": {
        "id": "npz3MRmUNJPe"
      }
    },
    {
      "cell_type": "markdown",
      "source": [
        "3.  En este caso lo mas relevante es el recall, ya que nos importa mas identificar corerectamente a todos los jugadores seleccionados, un FN es mas grave que  un FP"
      ],
      "metadata": {
        "id": "l7aqJCJcPhlh"
      }
    },
    {
      "cell_type": "markdown",
      "metadata": {
        "id": "uy5VMU6ae_g6"
      },
      "source": [
        "## 2. Predicción de posiciones de jugadores [4 puntos]"
      ]
    },
    {
      "cell_type": "markdown",
      "metadata": {
        "id": "S0PGg_hLgr4H"
      },
      "source": [
        "<p align=\"center\">\n",
        "  <img src=\"https://pbs.twimg.com/media/E1rfA1aWEAYU6Ny.jpg\" width=\"300\">\n",
        "</p>"
      ]
    },
    {
      "cell_type": "markdown",
      "metadata": {
        "id": "I6rSnAesfOm3"
      },
      "source": [
        "En una nueva jornada de desmesuradas transacciones deportivas, Renacín escuchó a sus colegas discutir acerca de que el precio de cada jugador depende en gran medida de la posición en la cancha en la que juega. Y además, que hay bastantes jugadores nuevos que no tienen muy claro en que posición verdaderamente brillarían, por lo que actualmente puede que actualmente estén jugando en posiciones sub-optimas.\n",
        "\n",
        "Viendo que los resultados del primer análisis no son tan esperanzadores, el corporeo los comanda a cambiar su tarea: ahora, les solicita que construyan un clasificador enfocado en predecir la mejor posición de los jugadores en la cancha según sus características.\n",
        "\n",
        "Para lograr esto, primero, les pide que etiqueten de la siguiente manera los valores que aparecen en el atributo `Club_Position`, pidiendo que agrupen los valores en los siguientes grupos:\n",
        "\n",
        "**Nota**:  Renacín les recalca que **no deben utilizar los valores ```Sub``` y ```Res``` de esta columna**.\n",
        "\n",
        "```python\n",
        "ataque = ['ST', 'CF']\n",
        "central_ataque = ['RW', 'CAM', 'LW']\n",
        "central = ['RM', 'CM', 'LM']\n",
        "central_defensa = ['RWB', 'CDM', 'LWB']\n",
        "defensa = ['RB', 'CB', 'LB']\n",
        "arquero = ['GK']\n",
        "```\n",
        "\n",
        "La elección del clasificador se justificar en base a la siguiente [guía](https://scikit-learn.org/stable/tutorial/machine_learning_map/index.html) y se deben comentar los resultados obtenidos en la clasificación.\n",
        "\n",
        "**Tareas:** [1 punto por tarea]\n",
        "\n",
        "1. En un nuevo dataframe, aplique las etiquetas descritas anteriormente en cada uno de los valores señalados en esta sección y guárdelos en la variable `label`.\n",
        "2. Cuente cuántos por clase quedan.\n",
        "3. Entrene el nuevo pipeline y ejecute una evaluación de este.  \n",
        "4. Comente los resultados obtenidos."
      ]
    },
    {
      "cell_type": "markdown",
      "metadata": {
        "id": "sBmSaWh8i2MI"
      },
      "source": [
        "**Respuesta:**"
      ]
    },
    {
      "cell_type": "code",
      "source": [
        "df_2 = pd.read_csv(path)\n"
      ],
      "metadata": {
        "id": "IRbG4hv7ThtJ"
      },
      "execution_count": 46,
      "outputs": []
    },
    {
      "cell_type": "code",
      "source": [
        "df_2.head(2)"
      ],
      "metadata": {
        "colab": {
          "base_uri": "https://localhost:8080/",
          "height": 196
        },
        "id": "kWUlOZH-TjPI",
        "outputId": "c15c1221-8af5-4047-83f6-977a53b29ea6"
      },
      "execution_count": 47,
      "outputs": [
        {
          "output_type": "execute_result",
          "data": {
            "text/plain": [
              "                Name Nationality National_Position Club_Position  Height  \\\n",
              "0  Cristiano Ronaldo    Portugal                LS            LW     185   \n",
              "1       Lionel Messi   Argentina                RW            RW     170   \n",
              "\n",
              "   Weight Preffered_Foot  Age        Work_Rate  Weak_foot  ...  Agility  \\\n",
              "0      80          Right   32       High / Low          4  ...       90   \n",
              "1      72           Left   29  Medium / Medium          4  ...       90   \n",
              "\n",
              "   Jumping  Heading  Shot_Power  Finishing  Long_Shots  Curve  \\\n",
              "0       95       85          92         93          90     81   \n",
              "1       68       71          85         95          88     89   \n",
              "\n",
              "   Freekick_Accuracy  Penalties  Volleys  \n",
              "0                 76         85       88  \n",
              "1                 90         74       85  \n",
              "\n",
              "[2 rows x 39 columns]"
            ],
            "text/html": [
              "\n",
              "  <div id=\"df-b3a9a2e7-4637-4fe5-ba2c-2ade41bddecb\" class=\"colab-df-container\">\n",
              "    <div>\n",
              "<style scoped>\n",
              "    .dataframe tbody tr th:only-of-type {\n",
              "        vertical-align: middle;\n",
              "    }\n",
              "\n",
              "    .dataframe tbody tr th {\n",
              "        vertical-align: top;\n",
              "    }\n",
              "\n",
              "    .dataframe thead th {\n",
              "        text-align: right;\n",
              "    }\n",
              "</style>\n",
              "<table border=\"1\" class=\"dataframe\">\n",
              "  <thead>\n",
              "    <tr style=\"text-align: right;\">\n",
              "      <th></th>\n",
              "      <th>Name</th>\n",
              "      <th>Nationality</th>\n",
              "      <th>National_Position</th>\n",
              "      <th>Club_Position</th>\n",
              "      <th>Height</th>\n",
              "      <th>Weight</th>\n",
              "      <th>Preffered_Foot</th>\n",
              "      <th>Age</th>\n",
              "      <th>Work_Rate</th>\n",
              "      <th>Weak_foot</th>\n",
              "      <th>...</th>\n",
              "      <th>Agility</th>\n",
              "      <th>Jumping</th>\n",
              "      <th>Heading</th>\n",
              "      <th>Shot_Power</th>\n",
              "      <th>Finishing</th>\n",
              "      <th>Long_Shots</th>\n",
              "      <th>Curve</th>\n",
              "      <th>Freekick_Accuracy</th>\n",
              "      <th>Penalties</th>\n",
              "      <th>Volleys</th>\n",
              "    </tr>\n",
              "  </thead>\n",
              "  <tbody>\n",
              "    <tr>\n",
              "      <th>0</th>\n",
              "      <td>Cristiano Ronaldo</td>\n",
              "      <td>Portugal</td>\n",
              "      <td>LS</td>\n",
              "      <td>LW</td>\n",
              "      <td>185</td>\n",
              "      <td>80</td>\n",
              "      <td>Right</td>\n",
              "      <td>32</td>\n",
              "      <td>High / Low</td>\n",
              "      <td>4</td>\n",
              "      <td>...</td>\n",
              "      <td>90</td>\n",
              "      <td>95</td>\n",
              "      <td>85</td>\n",
              "      <td>92</td>\n",
              "      <td>93</td>\n",
              "      <td>90</td>\n",
              "      <td>81</td>\n",
              "      <td>76</td>\n",
              "      <td>85</td>\n",
              "      <td>88</td>\n",
              "    </tr>\n",
              "    <tr>\n",
              "      <th>1</th>\n",
              "      <td>Lionel Messi</td>\n",
              "      <td>Argentina</td>\n",
              "      <td>RW</td>\n",
              "      <td>RW</td>\n",
              "      <td>170</td>\n",
              "      <td>72</td>\n",
              "      <td>Left</td>\n",
              "      <td>29</td>\n",
              "      <td>Medium / Medium</td>\n",
              "      <td>4</td>\n",
              "      <td>...</td>\n",
              "      <td>90</td>\n",
              "      <td>68</td>\n",
              "      <td>71</td>\n",
              "      <td>85</td>\n",
              "      <td>95</td>\n",
              "      <td>88</td>\n",
              "      <td>89</td>\n",
              "      <td>90</td>\n",
              "      <td>74</td>\n",
              "      <td>85</td>\n",
              "    </tr>\n",
              "  </tbody>\n",
              "</table>\n",
              "<p>2 rows × 39 columns</p>\n",
              "</div>\n",
              "    <div class=\"colab-df-buttons\">\n",
              "\n",
              "  <div class=\"colab-df-container\">\n",
              "    <button class=\"colab-df-convert\" onclick=\"convertToInteractive('df-b3a9a2e7-4637-4fe5-ba2c-2ade41bddecb')\"\n",
              "            title=\"Convert this dataframe to an interactive table.\"\n",
              "            style=\"display:none;\">\n",
              "\n",
              "  <svg xmlns=\"http://www.w3.org/2000/svg\" height=\"24px\" viewBox=\"0 -960 960 960\">\n",
              "    <path d=\"M120-120v-720h720v720H120Zm60-500h600v-160H180v160Zm220 220h160v-160H400v160Zm0 220h160v-160H400v160ZM180-400h160v-160H180v160Zm440 0h160v-160H620v160ZM180-180h160v-160H180v160Zm440 0h160v-160H620v160Z\"/>\n",
              "  </svg>\n",
              "    </button>\n",
              "\n",
              "  <style>\n",
              "    .colab-df-container {\n",
              "      display:flex;\n",
              "      gap: 12px;\n",
              "    }\n",
              "\n",
              "    .colab-df-convert {\n",
              "      background-color: #E8F0FE;\n",
              "      border: none;\n",
              "      border-radius: 50%;\n",
              "      cursor: pointer;\n",
              "      display: none;\n",
              "      fill: #1967D2;\n",
              "      height: 32px;\n",
              "      padding: 0 0 0 0;\n",
              "      width: 32px;\n",
              "    }\n",
              "\n",
              "    .colab-df-convert:hover {\n",
              "      background-color: #E2EBFA;\n",
              "      box-shadow: 0px 1px 2px rgba(60, 64, 67, 0.3), 0px 1px 3px 1px rgba(60, 64, 67, 0.15);\n",
              "      fill: #174EA6;\n",
              "    }\n",
              "\n",
              "    .colab-df-buttons div {\n",
              "      margin-bottom: 4px;\n",
              "    }\n",
              "\n",
              "    [theme=dark] .colab-df-convert {\n",
              "      background-color: #3B4455;\n",
              "      fill: #D2E3FC;\n",
              "    }\n",
              "\n",
              "    [theme=dark] .colab-df-convert:hover {\n",
              "      background-color: #434B5C;\n",
              "      box-shadow: 0px 1px 3px 1px rgba(0, 0, 0, 0.15);\n",
              "      filter: drop-shadow(0px 1px 2px rgba(0, 0, 0, 0.3));\n",
              "      fill: #FFFFFF;\n",
              "    }\n",
              "  </style>\n",
              "\n",
              "    <script>\n",
              "      const buttonEl =\n",
              "        document.querySelector('#df-b3a9a2e7-4637-4fe5-ba2c-2ade41bddecb button.colab-df-convert');\n",
              "      buttonEl.style.display =\n",
              "        google.colab.kernel.accessAllowed ? 'block' : 'none';\n",
              "\n",
              "      async function convertToInteractive(key) {\n",
              "        const element = document.querySelector('#df-b3a9a2e7-4637-4fe5-ba2c-2ade41bddecb');\n",
              "        const dataTable =\n",
              "          await google.colab.kernel.invokeFunction('convertToInteractive',\n",
              "                                                    [key], {});\n",
              "        if (!dataTable) return;\n",
              "\n",
              "        const docLinkHtml = 'Like what you see? Visit the ' +\n",
              "          '<a target=\"_blank\" href=https://colab.research.google.com/notebooks/data_table.ipynb>data table notebook</a>'\n",
              "          + ' to learn more about interactive tables.';\n",
              "        element.innerHTML = '';\n",
              "        dataTable['output_type'] = 'display_data';\n",
              "        await google.colab.output.renderOutput(dataTable, element);\n",
              "        const docLink = document.createElement('div');\n",
              "        docLink.innerHTML = docLinkHtml;\n",
              "        element.appendChild(docLink);\n",
              "      }\n",
              "    </script>\n",
              "  </div>\n",
              "\n",
              "\n",
              "    <div id=\"df-051015cb-47e3-4d29-b022-39a4c17a8ba0\">\n",
              "      <button class=\"colab-df-quickchart\" onclick=\"quickchart('df-051015cb-47e3-4d29-b022-39a4c17a8ba0')\"\n",
              "                title=\"Suggest charts\"\n",
              "                style=\"display:none;\">\n",
              "\n",
              "<svg xmlns=\"http://www.w3.org/2000/svg\" height=\"24px\"viewBox=\"0 0 24 24\"\n",
              "     width=\"24px\">\n",
              "    <g>\n",
              "        <path d=\"M19 3H5c-1.1 0-2 .9-2 2v14c0 1.1.9 2 2 2h14c1.1 0 2-.9 2-2V5c0-1.1-.9-2-2-2zM9 17H7v-7h2v7zm4 0h-2V7h2v10zm4 0h-2v-4h2v4z\"/>\n",
              "    </g>\n",
              "</svg>\n",
              "      </button>\n",
              "\n",
              "<style>\n",
              "  .colab-df-quickchart {\n",
              "      --bg-color: #E8F0FE;\n",
              "      --fill-color: #1967D2;\n",
              "      --hover-bg-color: #E2EBFA;\n",
              "      --hover-fill-color: #174EA6;\n",
              "      --disabled-fill-color: #AAA;\n",
              "      --disabled-bg-color: #DDD;\n",
              "  }\n",
              "\n",
              "  [theme=dark] .colab-df-quickchart {\n",
              "      --bg-color: #3B4455;\n",
              "      --fill-color: #D2E3FC;\n",
              "      --hover-bg-color: #434B5C;\n",
              "      --hover-fill-color: #FFFFFF;\n",
              "      --disabled-bg-color: #3B4455;\n",
              "      --disabled-fill-color: #666;\n",
              "  }\n",
              "\n",
              "  .colab-df-quickchart {\n",
              "    background-color: var(--bg-color);\n",
              "    border: none;\n",
              "    border-radius: 50%;\n",
              "    cursor: pointer;\n",
              "    display: none;\n",
              "    fill: var(--fill-color);\n",
              "    height: 32px;\n",
              "    padding: 0;\n",
              "    width: 32px;\n",
              "  }\n",
              "\n",
              "  .colab-df-quickchart:hover {\n",
              "    background-color: var(--hover-bg-color);\n",
              "    box-shadow: 0 1px 2px rgba(60, 64, 67, 0.3), 0 1px 3px 1px rgba(60, 64, 67, 0.15);\n",
              "    fill: var(--button-hover-fill-color);\n",
              "  }\n",
              "\n",
              "  .colab-df-quickchart-complete:disabled,\n",
              "  .colab-df-quickchart-complete:disabled:hover {\n",
              "    background-color: var(--disabled-bg-color);\n",
              "    fill: var(--disabled-fill-color);\n",
              "    box-shadow: none;\n",
              "  }\n",
              "\n",
              "  .colab-df-spinner {\n",
              "    border: 2px solid var(--fill-color);\n",
              "    border-color: transparent;\n",
              "    border-bottom-color: var(--fill-color);\n",
              "    animation:\n",
              "      spin 1s steps(1) infinite;\n",
              "  }\n",
              "\n",
              "  @keyframes spin {\n",
              "    0% {\n",
              "      border-color: transparent;\n",
              "      border-bottom-color: var(--fill-color);\n",
              "      border-left-color: var(--fill-color);\n",
              "    }\n",
              "    20% {\n",
              "      border-color: transparent;\n",
              "      border-left-color: var(--fill-color);\n",
              "      border-top-color: var(--fill-color);\n",
              "    }\n",
              "    30% {\n",
              "      border-color: transparent;\n",
              "      border-left-color: var(--fill-color);\n",
              "      border-top-color: var(--fill-color);\n",
              "      border-right-color: var(--fill-color);\n",
              "    }\n",
              "    40% {\n",
              "      border-color: transparent;\n",
              "      border-right-color: var(--fill-color);\n",
              "      border-top-color: var(--fill-color);\n",
              "    }\n",
              "    60% {\n",
              "      border-color: transparent;\n",
              "      border-right-color: var(--fill-color);\n",
              "    }\n",
              "    80% {\n",
              "      border-color: transparent;\n",
              "      border-right-color: var(--fill-color);\n",
              "      border-bottom-color: var(--fill-color);\n",
              "    }\n",
              "    90% {\n",
              "      border-color: transparent;\n",
              "      border-bottom-color: var(--fill-color);\n",
              "    }\n",
              "  }\n",
              "</style>\n",
              "\n",
              "      <script>\n",
              "        async function quickchart(key) {\n",
              "          const quickchartButtonEl =\n",
              "            document.querySelector('#' + key + ' button');\n",
              "          quickchartButtonEl.disabled = true;  // To prevent multiple clicks.\n",
              "          quickchartButtonEl.classList.add('colab-df-spinner');\n",
              "          try {\n",
              "            const charts = await google.colab.kernel.invokeFunction(\n",
              "                'suggestCharts', [key], {});\n",
              "          } catch (error) {\n",
              "            console.error('Error during call to suggestCharts:', error);\n",
              "          }\n",
              "          quickchartButtonEl.classList.remove('colab-df-spinner');\n",
              "          quickchartButtonEl.classList.add('colab-df-quickchart-complete');\n",
              "        }\n",
              "        (() => {\n",
              "          let quickchartButtonEl =\n",
              "            document.querySelector('#df-051015cb-47e3-4d29-b022-39a4c17a8ba0 button');\n",
              "          quickchartButtonEl.style.display =\n",
              "            google.colab.kernel.accessAllowed ? 'block' : 'none';\n",
              "        })();\n",
              "      </script>\n",
              "    </div>\n",
              "\n",
              "    </div>\n",
              "  </div>\n"
            ],
            "application/vnd.google.colaboratory.intrinsic+json": {
              "type": "dataframe",
              "variable_name": "df_2"
            }
          },
          "metadata": {},
          "execution_count": 47
        }
      ]
    },
    {
      "cell_type": "code",
      "execution_count": 48,
      "metadata": {
        "id": "Ir_7zMh2i1vg"
      },
      "outputs": [],
      "source": [
        "\n",
        "# def posicion\n",
        "def asignar_label(pos):\n",
        "    if pos in ['ST', 'CF']:\n",
        "        return 'ataque'\n",
        "    elif pos in ['RW', 'CAM', 'LW']:\n",
        "        return 'central_ataque'\n",
        "    elif pos in ['RM', 'CM', 'LM']:\n",
        "        return 'central'\n",
        "    elif pos in ['RWB', 'CDM', 'LWB']:\n",
        "        return 'central_defensa'\n",
        "    elif pos in ['RB', 'CB', 'LB']:\n",
        "        return 'defensa'\n",
        "    elif pos in ['GK']:\n",
        "        return 'arquero'\n",
        "    else:\n",
        "        return 'otros'\n",
        "\n",
        "df_2['label'] = df_2['Club_Position'].apply(asignar_label)"
      ]
    },
    {
      "cell_type": "code",
      "source": [
        "#2;\n",
        "# Contamos cuántos hay por clase\n",
        "conteo_labels = df_2['label'].value_counts()\n",
        "print(\"Conteo por clase:\")\n",
        "print(conteo_labels)"
      ],
      "metadata": {
        "colab": {
          "base_uri": "https://localhost:8080/"
        },
        "id": "-IdBK2iJTsvM",
        "outputId": "b2824546-77a7-4bcf-b4f8-2f6c249bdc00"
      },
      "execution_count": 49,
      "outputs": [
        {
          "output_type": "stream",
          "name": "stdout",
          "text": [
            "Conteo por clase:\n",
            "label\n",
            "otros              13649\n",
            "defensa             1180\n",
            "central              907\n",
            "arquero              632\n",
            "central_ataque       581\n",
            "ataque               430\n",
            "central_defensa      209\n",
            "Name: count, dtype: int64\n"
          ]
        }
      ]
    },
    {
      "cell_type": "markdown",
      "source": [
        "tiene clases mas presentes que otras.\n",
        "Ademas eliminaremos las filas donde hay como calor \"otros\""
      ],
      "metadata": {
        "id": "MPffaH36Tyvl"
      }
    },
    {
      "cell_type": "code",
      "source": [
        "from sklearn.model_selection import train_test_split\n",
        "from sklearn.pipeline import Pipeline\n",
        "from sklearn.preprocessing import StandardScaler\n",
        "from sklearn.ensemble import RandomForestClassifier\n",
        "from sklearn.metrics import classification_report\n"
      ],
      "metadata": {
        "id": "MKmvx98xUtVt"
      },
      "execution_count": 50,
      "outputs": []
    },
    {
      "cell_type": "code",
      "source": [
        "df_2 = df_2[df_2['label'] != 'otros'].copy()\n",
        "df_2 = df_2.drop(columns=['names'])\n"
      ],
      "metadata": {
        "id": "Fk6YSPRVTyVq",
        "colab": {
          "base_uri": "https://localhost:8080/",
          "height": 304
        },
        "outputId": "48a90638-d86b-4f11-d092-6c08d9b27b05"
      },
      "execution_count": 51,
      "outputs": [
        {
          "output_type": "error",
          "ename": "KeyError",
          "evalue": "\"['names'] not found in axis\"",
          "traceback": [
            "\u001b[0;31m---------------------------------------------------------------------------\u001b[0m",
            "\u001b[0;31mKeyError\u001b[0m                                  Traceback (most recent call last)",
            "\u001b[0;32m<ipython-input-51-fcc389ce7e14>\u001b[0m in \u001b[0;36m<cell line: 0>\u001b[0;34m()\u001b[0m\n\u001b[1;32m      1\u001b[0m \u001b[0mdf_2\u001b[0m \u001b[0;34m=\u001b[0m \u001b[0mdf_2\u001b[0m\u001b[0;34m[\u001b[0m\u001b[0mdf_2\u001b[0m\u001b[0;34m[\u001b[0m\u001b[0;34m'label'\u001b[0m\u001b[0;34m]\u001b[0m \u001b[0;34m!=\u001b[0m \u001b[0;34m'otros'\u001b[0m\u001b[0;34m]\u001b[0m\u001b[0;34m.\u001b[0m\u001b[0mcopy\u001b[0m\u001b[0;34m(\u001b[0m\u001b[0;34m)\u001b[0m\u001b[0;34m\u001b[0m\u001b[0;34m\u001b[0m\u001b[0m\n\u001b[0;32m----> 2\u001b[0;31m \u001b[0mdf_2\u001b[0m \u001b[0;34m=\u001b[0m \u001b[0mdf_2\u001b[0m\u001b[0;34m.\u001b[0m\u001b[0mdrop\u001b[0m\u001b[0;34m(\u001b[0m\u001b[0mcolumns\u001b[0m\u001b[0;34m=\u001b[0m\u001b[0;34m[\u001b[0m\u001b[0;34m'names'\u001b[0m\u001b[0;34m]\u001b[0m\u001b[0;34m)\u001b[0m\u001b[0;34m\u001b[0m\u001b[0;34m\u001b[0m\u001b[0m\n\u001b[0m",
            "\u001b[0;32m/usr/local/lib/python3.11/dist-packages/pandas/core/frame.py\u001b[0m in \u001b[0;36mdrop\u001b[0;34m(self, labels, axis, index, columns, level, inplace, errors)\u001b[0m\n\u001b[1;32m   5342\u001b[0m                 \u001b[0mweight\u001b[0m  \u001b[0;36m1.0\u001b[0m     \u001b[0;36m0.8\u001b[0m\u001b[0;34m\u001b[0m\u001b[0;34m\u001b[0m\u001b[0m\n\u001b[1;32m   5343\u001b[0m         \"\"\"\n\u001b[0;32m-> 5344\u001b[0;31m         return super().drop(\n\u001b[0m\u001b[1;32m   5345\u001b[0m             \u001b[0mlabels\u001b[0m\u001b[0;34m=\u001b[0m\u001b[0mlabels\u001b[0m\u001b[0;34m,\u001b[0m\u001b[0;34m\u001b[0m\u001b[0;34m\u001b[0m\u001b[0m\n\u001b[1;32m   5346\u001b[0m             \u001b[0maxis\u001b[0m\u001b[0;34m=\u001b[0m\u001b[0maxis\u001b[0m\u001b[0;34m,\u001b[0m\u001b[0;34m\u001b[0m\u001b[0;34m\u001b[0m\u001b[0m\n",
            "\u001b[0;32m/usr/local/lib/python3.11/dist-packages/pandas/core/generic.py\u001b[0m in \u001b[0;36mdrop\u001b[0;34m(self, labels, axis, index, columns, level, inplace, errors)\u001b[0m\n\u001b[1;32m   4709\u001b[0m         \u001b[0;32mfor\u001b[0m \u001b[0maxis\u001b[0m\u001b[0;34m,\u001b[0m \u001b[0mlabels\u001b[0m \u001b[0;32min\u001b[0m \u001b[0maxes\u001b[0m\u001b[0;34m.\u001b[0m\u001b[0mitems\u001b[0m\u001b[0;34m(\u001b[0m\u001b[0;34m)\u001b[0m\u001b[0;34m:\u001b[0m\u001b[0;34m\u001b[0m\u001b[0;34m\u001b[0m\u001b[0m\n\u001b[1;32m   4710\u001b[0m             \u001b[0;32mif\u001b[0m \u001b[0mlabels\u001b[0m \u001b[0;32mis\u001b[0m \u001b[0;32mnot\u001b[0m \u001b[0;32mNone\u001b[0m\u001b[0;34m:\u001b[0m\u001b[0;34m\u001b[0m\u001b[0;34m\u001b[0m\u001b[0m\n\u001b[0;32m-> 4711\u001b[0;31m                 \u001b[0mobj\u001b[0m \u001b[0;34m=\u001b[0m \u001b[0mobj\u001b[0m\u001b[0;34m.\u001b[0m\u001b[0m_drop_axis\u001b[0m\u001b[0;34m(\u001b[0m\u001b[0mlabels\u001b[0m\u001b[0;34m,\u001b[0m \u001b[0maxis\u001b[0m\u001b[0;34m,\u001b[0m \u001b[0mlevel\u001b[0m\u001b[0;34m=\u001b[0m\u001b[0mlevel\u001b[0m\u001b[0;34m,\u001b[0m \u001b[0merrors\u001b[0m\u001b[0;34m=\u001b[0m\u001b[0merrors\u001b[0m\u001b[0;34m)\u001b[0m\u001b[0;34m\u001b[0m\u001b[0;34m\u001b[0m\u001b[0m\n\u001b[0m\u001b[1;32m   4712\u001b[0m \u001b[0;34m\u001b[0m\u001b[0m\n\u001b[1;32m   4713\u001b[0m         \u001b[0;32mif\u001b[0m \u001b[0minplace\u001b[0m\u001b[0;34m:\u001b[0m\u001b[0;34m\u001b[0m\u001b[0;34m\u001b[0m\u001b[0m\n",
            "\u001b[0;32m/usr/local/lib/python3.11/dist-packages/pandas/core/generic.py\u001b[0m in \u001b[0;36m_drop_axis\u001b[0;34m(self, labels, axis, level, errors, only_slice)\u001b[0m\n\u001b[1;32m   4751\u001b[0m                 \u001b[0mnew_axis\u001b[0m \u001b[0;34m=\u001b[0m \u001b[0maxis\u001b[0m\u001b[0;34m.\u001b[0m\u001b[0mdrop\u001b[0m\u001b[0;34m(\u001b[0m\u001b[0mlabels\u001b[0m\u001b[0;34m,\u001b[0m \u001b[0mlevel\u001b[0m\u001b[0;34m=\u001b[0m\u001b[0mlevel\u001b[0m\u001b[0;34m,\u001b[0m \u001b[0merrors\u001b[0m\u001b[0;34m=\u001b[0m\u001b[0merrors\u001b[0m\u001b[0;34m)\u001b[0m\u001b[0;34m\u001b[0m\u001b[0;34m\u001b[0m\u001b[0m\n\u001b[1;32m   4752\u001b[0m             \u001b[0;32melse\u001b[0m\u001b[0;34m:\u001b[0m\u001b[0;34m\u001b[0m\u001b[0;34m\u001b[0m\u001b[0m\n\u001b[0;32m-> 4753\u001b[0;31m                 \u001b[0mnew_axis\u001b[0m \u001b[0;34m=\u001b[0m \u001b[0maxis\u001b[0m\u001b[0;34m.\u001b[0m\u001b[0mdrop\u001b[0m\u001b[0;34m(\u001b[0m\u001b[0mlabels\u001b[0m\u001b[0;34m,\u001b[0m \u001b[0merrors\u001b[0m\u001b[0;34m=\u001b[0m\u001b[0merrors\u001b[0m\u001b[0;34m)\u001b[0m\u001b[0;34m\u001b[0m\u001b[0;34m\u001b[0m\u001b[0m\n\u001b[0m\u001b[1;32m   4754\u001b[0m             \u001b[0mindexer\u001b[0m \u001b[0;34m=\u001b[0m \u001b[0maxis\u001b[0m\u001b[0;34m.\u001b[0m\u001b[0mget_indexer\u001b[0m\u001b[0;34m(\u001b[0m\u001b[0mnew_axis\u001b[0m\u001b[0;34m)\u001b[0m\u001b[0;34m\u001b[0m\u001b[0;34m\u001b[0m\u001b[0m\n\u001b[1;32m   4755\u001b[0m \u001b[0;34m\u001b[0m\u001b[0m\n",
            "\u001b[0;32m/usr/local/lib/python3.11/dist-packages/pandas/core/indexes/base.py\u001b[0m in \u001b[0;36mdrop\u001b[0;34m(self, labels, errors)\u001b[0m\n\u001b[1;32m   6998\u001b[0m         \u001b[0;32mif\u001b[0m \u001b[0mmask\u001b[0m\u001b[0;34m.\u001b[0m\u001b[0many\u001b[0m\u001b[0;34m(\u001b[0m\u001b[0;34m)\u001b[0m\u001b[0;34m:\u001b[0m\u001b[0;34m\u001b[0m\u001b[0;34m\u001b[0m\u001b[0m\n\u001b[1;32m   6999\u001b[0m             \u001b[0;32mif\u001b[0m \u001b[0merrors\u001b[0m \u001b[0;34m!=\u001b[0m \u001b[0;34m\"ignore\"\u001b[0m\u001b[0;34m:\u001b[0m\u001b[0;34m\u001b[0m\u001b[0;34m\u001b[0m\u001b[0m\n\u001b[0;32m-> 7000\u001b[0;31m                 \u001b[0;32mraise\u001b[0m \u001b[0mKeyError\u001b[0m\u001b[0;34m(\u001b[0m\u001b[0;34mf\"{labels[mask].tolist()} not found in axis\"\u001b[0m\u001b[0;34m)\u001b[0m\u001b[0;34m\u001b[0m\u001b[0;34m\u001b[0m\u001b[0m\n\u001b[0m\u001b[1;32m   7001\u001b[0m             \u001b[0mindexer\u001b[0m \u001b[0;34m=\u001b[0m \u001b[0mindexer\u001b[0m\u001b[0;34m[\u001b[0m\u001b[0;34m~\u001b[0m\u001b[0mmask\u001b[0m\u001b[0;34m]\u001b[0m\u001b[0;34m\u001b[0m\u001b[0;34m\u001b[0m\u001b[0m\n\u001b[1;32m   7002\u001b[0m         \u001b[0;32mreturn\u001b[0m \u001b[0mself\u001b[0m\u001b[0;34m.\u001b[0m\u001b[0mdelete\u001b[0m\u001b[0;34m(\u001b[0m\u001b[0mindexer\u001b[0m\u001b[0;34m)\u001b[0m\u001b[0;34m\u001b[0m\u001b[0;34m\u001b[0m\u001b[0m\n",
            "\u001b[0;31mKeyError\u001b[0m: \"['names'] not found in axis\""
          ]
        }
      ]
    },
    {
      "cell_type": "code",
      "source": [
        "#entrenamos el nuevo pipline\n",
        "#vamos a usar solo ciertas Columnas:\n",
        "\n",
        "x = df_2.drop(columns=['label']) #eliminamos la etiqueta\n",
        "y = df_2['label'] #  la var a predecir\n",
        "\n",
        "X_train, X_test, y_train, y_test = train_test_split(x, y, test_size=0.2, random_state=42, stratify=y)\n",
        "\n",
        "\n",
        "#ahora pasamos cat conn un hotone\n",
        "categorical_features = x.select_dtypes(include='object').columns.tolist()\n",
        "numerical_features = x.select_dtypes(exclude='object').columns.tolist()\n",
        "\n",
        "\n",
        "preprocessor = ColumnTransformer(\n",
        "    transformers=[\n",
        "        ('num', StandardScaler(), numerical_features),\n",
        "        ('cat', OneHotEncoder(handle_unknown='ignore'), categorical_features)\n",
        "    ]\n",
        ")\n",
        "\n",
        "# Crear pipeline\n",
        "pipeline = Pipeline([\n",
        "    ('preprocessor', preprocessor),\n",
        "    ('classifier', RandomForestClassifier(random_state=1))\n",
        "])"
      ],
      "metadata": {
        "id": "uSa37RRfUIA3"
      },
      "execution_count": 53,
      "outputs": []
    },
    {
      "cell_type": "code",
      "source": [
        "# Entrenar\n",
        "pipeline.fit(X_train, y_train)\n",
        "\n",
        "# Evaluar\n",
        "y_pred = pipeline.predict(X_test)\n",
        "print(\"\\clasificacion:\")\n",
        "print(classification_report(y_test, y_pred))"
      ],
      "metadata": {
        "colab": {
          "base_uri": "https://localhost:8080/"
        },
        "id": "wfqUf8vuVUcn",
        "outputId": "87f370a1-2fa9-4a35-f93d-04d15ed11f83"
      },
      "execution_count": 54,
      "outputs": [
        {
          "output_type": "stream",
          "name": "stdout",
          "text": [
            "\\clasificacion:\n",
            "                 precision    recall  f1-score   support\n",
            "\n",
            "        arquero       1.00      1.00      1.00       126\n",
            "         ataque       0.99      1.00      0.99        86\n",
            "        central       0.97      0.98      0.98       182\n",
            " central_ataque       0.99      0.98      0.99       116\n",
            "central_defensa       0.96      0.52      0.68        42\n",
            "        defensa       0.93      1.00      0.96       236\n",
            "\n",
            "       accuracy                           0.97       788\n",
            "      macro avg       0.97      0.91      0.93       788\n",
            "   weighted avg       0.97      0.97      0.96       788\n",
            "\n"
          ]
        }
      ]
    },
    {
      "cell_type": "markdown",
      "source": [
        "se comporta similar para clasificar todas las posicones, destaca la de arquero con un 100% de efeectivdad. defensa central es a la que le va peor en la clasificación, pero es por su baja cnatidad de datos. como oportunidad de mejora se pudo haber agregafo en el pipelne un balceo"
      ],
      "metadata": {
        "id": "HcIjQuPQWMM6"
      }
    },
    {
      "cell_type": "markdown",
      "metadata": {
        "id": "9bL2m8nNojXM"
      },
      "source": [
        "## 3. Predicciones de Seleccionados Nacionales para el Jere Klein [30 puntos]"
      ]
    },
    {
      "cell_type": "markdown",
      "metadata": {
        "id": "_2XmRsJdsEh_"
      },
      "source": [
        "<center>\n",
        "<img src='https://www.radioactiva.cl/wp-content/uploads/2024/04/Jere-Klein-1-768x432.webp' width=500 />"
      ]
    },
    {
      "cell_type": "markdown",
      "metadata": {
        "id": "AgmUoVDsqUPu"
      },
      "source": [
        "Después de alcanzar la fama como cantante urbano, Jere Klein decide explorar una nueva faceta. Con su amor por el fútbol y convencido de que los artistas urbanos poseen un talento y versatilidad excepcionales, Jere se embarca en un proyecto innovador: desarrollar un sistema de inteligencia artificial capaz de identificar a jugadores que tienen potencial para convertirse en futbolistas profesionales. Su teoría es que muchos artistas del género urbano chileno, con sus habilidades únicas y su disciplina, podrían destacarse también en el deporte. Con este sistema, Jere espera no solo abrir nuevas oportunidades para sus colegas artistas, sino también demostrar la amplia gama de talentos que pueden ofrecer."
      ]
    },
    {
      "cell_type": "markdown",
      "metadata": {
        "id": "rD8pQ5Zfq8dE"
      },
      "source": [
        "### 2.1 ¿Qué modelo de árbol es más de \"pana\"? [10 puntos]"
      ]
    },
    {
      "cell_type": "markdown",
      "metadata": {
        "id": "zB-KUA4g99eo"
      },
      "source": [
        "<center>\n",
        "<img src='https://64.media.tumblr.com/39189215a7d3d96823cb359f35b44e05/tumblr_psmrhrR3Xw1qf5hjqo4_540.gif' width=300 />"
      ]
    },
    {
      "cell_type": "markdown",
      "metadata": {
        "id": "uL-moVhB9vPH"
      },
      "source": [
        "\n",
        "**Tareas**\n",
        "\n",
        "\n",
        "1. Considerando el la variable llamada `label` creada en la sección 1.1. Para determinar cuál modelo de árbol sería más adecuado para la tarea en cuestión, utilice PyCaret. Este deberá centrarse exclusivamente en modelos de tipo árbol. Jere ha especificado que busca un modelo que tome decisiones rápidamente y que tenga una baja tasa de falsos positivos, ya que planea invertir en estos jugadores. [3 puntos]\n",
        "\n",
        "Para la comparación, utilice los siguientes modelos:\n",
        "\n",
        "```python\n",
        "['et', 'rf', 'dt', 'xgboost', 'lightgbm', 'catboost']\n",
        "```\n",
        "\n",
        "2. Explique en brevemente que son los modelos de la siguiente lista `['et', 'rf', 'dt']` y como funcionan. [3 punto]\n",
        "\n",
        "3. Tras realizar la comparación de modelos, seleccione aquel que muestre el mejor rendimiento en términos de velocidad y precisión, especialmente en la reducción de falsos positivos. Utilice la función `evaluate_model` de PyCaret para revisar y analizar los resultados obtenidos en los siguientes aspectos:\n",
        "\n",
        "  - **Confusión Matrix**: ¿Cómo se encuentran la tasa de verdaderos positivos y verdaderos negativos?\n",
        "  - **Threshold**: ¿Es acaso el umbral por defecto del modelo el mejor para las predicciones?\n",
        "  - **Feature Importance**: ¿Cuáles son las variables con mejor desempeño? ¿A qué podría deberse esto?\n",
        "  - **Learning Curve**: ¿El modelo presenta algún problema?\n",
        "\n",
        "  [4 puntos]"
      ]
    },
    {
      "cell_type": "markdown",
      "metadata": {
        "id": "qY85nrViYROF"
      },
      "source": [
        "**Respuesta**"
      ]
    },
    {
      "cell_type": "code",
      "source": [
        "!pip install catboost\n"
      ],
      "metadata": {
        "colab": {
          "base_uri": "https://localhost:8080/"
        },
        "id": "MM671v0S4-IP",
        "outputId": "5fc7016f-4548-47a0-8100-fe327b14ef08"
      },
      "execution_count": 55,
      "outputs": [
        {
          "output_type": "stream",
          "name": "stdout",
          "text": [
            "Requirement already satisfied: catboost in /usr/local/lib/python3.11/dist-packages (1.2.8)\n",
            "Requirement already satisfied: graphviz in /usr/local/lib/python3.11/dist-packages (from catboost) (0.20.3)\n",
            "Requirement already satisfied: matplotlib in /usr/local/lib/python3.11/dist-packages (from catboost) (3.7.5)\n",
            "Requirement already satisfied: numpy<3.0,>=1.16.0 in /usr/local/lib/python3.11/dist-packages (from catboost) (1.26.4)\n",
            "Requirement already satisfied: pandas>=0.24 in /usr/local/lib/python3.11/dist-packages (from catboost) (2.1.4)\n",
            "Requirement already satisfied: scipy in /usr/local/lib/python3.11/dist-packages (from catboost) (1.11.4)\n",
            "Requirement already satisfied: plotly in /usr/local/lib/python3.11/dist-packages (from catboost) (5.24.1)\n",
            "Requirement already satisfied: six in /usr/local/lib/python3.11/dist-packages (from catboost) (1.17.0)\n",
            "Requirement already satisfied: python-dateutil>=2.8.2 in /usr/local/lib/python3.11/dist-packages (from pandas>=0.24->catboost) (2.9.0.post0)\n",
            "Requirement already satisfied: pytz>=2020.1 in /usr/local/lib/python3.11/dist-packages (from pandas>=0.24->catboost) (2025.2)\n",
            "Requirement already satisfied: tzdata>=2022.1 in /usr/local/lib/python3.11/dist-packages (from pandas>=0.24->catboost) (2025.2)\n",
            "Requirement already satisfied: contourpy>=1.0.1 in /usr/local/lib/python3.11/dist-packages (from matplotlib->catboost) (1.3.2)\n",
            "Requirement already satisfied: cycler>=0.10 in /usr/local/lib/python3.11/dist-packages (from matplotlib->catboost) (0.12.1)\n",
            "Requirement already satisfied: fonttools>=4.22.0 in /usr/local/lib/python3.11/dist-packages (from matplotlib->catboost) (4.57.0)\n",
            "Requirement already satisfied: kiwisolver>=1.0.1 in /usr/local/lib/python3.11/dist-packages (from matplotlib->catboost) (1.4.8)\n",
            "Requirement already satisfied: packaging>=20.0 in /usr/local/lib/python3.11/dist-packages (from matplotlib->catboost) (24.2)\n",
            "Requirement already satisfied: pillow>=6.2.0 in /usr/local/lib/python3.11/dist-packages (from matplotlib->catboost) (11.2.1)\n",
            "Requirement already satisfied: pyparsing>=2.3.1 in /usr/local/lib/python3.11/dist-packages (from matplotlib->catboost) (3.2.3)\n",
            "Requirement already satisfied: tenacity>=6.2.0 in /usr/local/lib/python3.11/dist-packages (from plotly->catboost) (9.1.2)\n"
          ]
        }
      ]
    },
    {
      "cell_type": "code",
      "source": [
        "!pip install pycaret\n"
      ],
      "metadata": {
        "colab": {
          "base_uri": "https://localhost:8080/"
        },
        "id": "FH0Gax4h3FjZ",
        "outputId": "ba535a00-1630-4232-f8d1-bb98e5532be3"
      },
      "execution_count": 56,
      "outputs": [
        {
          "output_type": "stream",
          "name": "stdout",
          "text": [
            "Requirement already satisfied: pycaret in /usr/local/lib/python3.11/dist-packages (3.3.2)\n",
            "Requirement already satisfied: ipython>=5.5.0 in /usr/local/lib/python3.11/dist-packages (from pycaret) (7.34.0)\n",
            "Requirement already satisfied: ipywidgets>=7.6.5 in /usr/local/lib/python3.11/dist-packages (from pycaret) (7.7.1)\n",
            "Requirement already satisfied: tqdm>=4.62.0 in /usr/local/lib/python3.11/dist-packages (from pycaret) (4.67.1)\n",
            "Requirement already satisfied: numpy<1.27,>=1.21 in /usr/local/lib/python3.11/dist-packages (from pycaret) (1.26.4)\n",
            "Requirement already satisfied: pandas<2.2.0 in /usr/local/lib/python3.11/dist-packages (from pycaret) (2.1.4)\n",
            "Requirement already satisfied: jinja2>=3 in /usr/local/lib/python3.11/dist-packages (from pycaret) (3.1.6)\n",
            "Requirement already satisfied: scipy<=1.11.4,>=1.6.1 in /usr/local/lib/python3.11/dist-packages (from pycaret) (1.11.4)\n",
            "Requirement already satisfied: joblib<1.4,>=1.2.0 in /usr/local/lib/python3.11/dist-packages (from pycaret) (1.3.2)\n",
            "Requirement already satisfied: scikit-learn>1.4.0 in /usr/local/lib/python3.11/dist-packages (from pycaret) (1.4.2)\n",
            "Requirement already satisfied: pyod>=1.1.3 in /usr/local/lib/python3.11/dist-packages (from pycaret) (2.0.5)\n",
            "Requirement already satisfied: imbalanced-learn>=0.12.0 in /usr/local/lib/python3.11/dist-packages (from pycaret) (0.13.0)\n",
            "Requirement already satisfied: category-encoders>=2.4.0 in /usr/local/lib/python3.11/dist-packages (from pycaret) (2.7.0)\n",
            "Requirement already satisfied: lightgbm>=3.0.0 in /usr/local/lib/python3.11/dist-packages (from pycaret) (4.5.0)\n",
            "Requirement already satisfied: numba>=0.55.0 in /usr/local/lib/python3.11/dist-packages (from pycaret) (0.60.0)\n",
            "Requirement already satisfied: requests>=2.27.1 in /usr/local/lib/python3.11/dist-packages (from pycaret) (2.32.3)\n",
            "Requirement already satisfied: psutil>=5.9.0 in /usr/local/lib/python3.11/dist-packages (from pycaret) (5.9.5)\n",
            "Requirement already satisfied: markupsafe>=2.0.1 in /usr/local/lib/python3.11/dist-packages (from pycaret) (3.0.2)\n",
            "Requirement already satisfied: importlib-metadata>=4.12.0 in /usr/local/lib/python3.11/dist-packages (from pycaret) (8.6.1)\n",
            "Requirement already satisfied: nbformat>=4.2.0 in /usr/local/lib/python3.11/dist-packages (from pycaret) (5.10.4)\n",
            "Requirement already satisfied: cloudpickle in /usr/local/lib/python3.11/dist-packages (from pycaret) (3.1.1)\n",
            "Requirement already satisfied: deprecation>=2.1.0 in /usr/local/lib/python3.11/dist-packages (from pycaret) (2.1.0)\n",
            "Requirement already satisfied: xxhash in /usr/local/lib/python3.11/dist-packages (from pycaret) (3.5.0)\n",
            "Requirement already satisfied: matplotlib<3.8.0 in /usr/local/lib/python3.11/dist-packages (from pycaret) (3.7.5)\n",
            "Requirement already satisfied: scikit-plot>=0.3.7 in /usr/local/lib/python3.11/dist-packages (from pycaret) (0.3.7)\n",
            "Requirement already satisfied: yellowbrick>=1.4 in /usr/local/lib/python3.11/dist-packages (from pycaret) (1.5)\n",
            "Requirement already satisfied: plotly>=5.14.0 in /usr/local/lib/python3.11/dist-packages (from pycaret) (5.24.1)\n",
            "Requirement already satisfied: kaleido>=0.2.1 in /usr/local/lib/python3.11/dist-packages (from pycaret) (0.2.1)\n",
            "Requirement already satisfied: schemdraw==0.15 in /usr/local/lib/python3.11/dist-packages (from pycaret) (0.15)\n",
            "Requirement already satisfied: plotly-resampler>=0.8.3.1 in /usr/local/lib/python3.11/dist-packages (from pycaret) (0.10.0)\n",
            "Requirement already satisfied: statsmodels>=0.12.1 in /usr/local/lib/python3.11/dist-packages (from pycaret) (0.14.4)\n",
            "Requirement already satisfied: sktime==0.26.0 in /usr/local/lib/python3.11/dist-packages (from pycaret) (0.26.0)\n",
            "Requirement already satisfied: tbats>=1.1.3 in /usr/local/lib/python3.11/dist-packages (from pycaret) (1.1.3)\n",
            "Requirement already satisfied: pmdarima>=2.0.4 in /usr/local/lib/python3.11/dist-packages (from pycaret) (2.0.4)\n",
            "Requirement already satisfied: wurlitzer in /usr/local/lib/python3.11/dist-packages (from pycaret) (3.1.1)\n",
            "Requirement already satisfied: packaging in /usr/local/lib/python3.11/dist-packages (from sktime==0.26.0->pycaret) (24.2)\n",
            "Requirement already satisfied: scikit-base<0.8.0 in /usr/local/lib/python3.11/dist-packages (from sktime==0.26.0->pycaret) (0.7.8)\n",
            "Requirement already satisfied: patsy>=0.5.1 in /usr/local/lib/python3.11/dist-packages (from category-encoders>=2.4.0->pycaret) (1.0.1)\n",
            "Requirement already satisfied: sklearn-compat<1,>=0.1 in /usr/local/lib/python3.11/dist-packages (from imbalanced-learn>=0.12.0->pycaret) (0.1.3)\n",
            "Requirement already satisfied: threadpoolctl<4,>=2.0.0 in /usr/local/lib/python3.11/dist-packages (from imbalanced-learn>=0.12.0->pycaret) (3.6.0)\n",
            "Requirement already satisfied: zipp>=3.20 in /usr/local/lib/python3.11/dist-packages (from importlib-metadata>=4.12.0->pycaret) (3.21.0)\n",
            "Requirement already satisfied: setuptools>=18.5 in /usr/local/lib/python3.11/dist-packages (from ipython>=5.5.0->pycaret) (75.2.0)\n",
            "Requirement already satisfied: jedi>=0.16 in /usr/local/lib/python3.11/dist-packages (from ipython>=5.5.0->pycaret) (0.19.2)\n",
            "Requirement already satisfied: decorator in /usr/local/lib/python3.11/dist-packages (from ipython>=5.5.0->pycaret) (4.4.2)\n",
            "Requirement already satisfied: pickleshare in /usr/local/lib/python3.11/dist-packages (from ipython>=5.5.0->pycaret) (0.7.5)\n",
            "Requirement already satisfied: traitlets>=4.2 in /usr/local/lib/python3.11/dist-packages (from ipython>=5.5.0->pycaret) (5.7.1)\n",
            "Requirement already satisfied: prompt-toolkit!=3.0.0,!=3.0.1,<3.1.0,>=2.0.0 in /usr/local/lib/python3.11/dist-packages (from ipython>=5.5.0->pycaret) (3.0.51)\n",
            "Requirement already satisfied: pygments in /usr/local/lib/python3.11/dist-packages (from ipython>=5.5.0->pycaret) (2.19.1)\n",
            "Requirement already satisfied: backcall in /usr/local/lib/python3.11/dist-packages (from ipython>=5.5.0->pycaret) (0.2.0)\n",
            "Requirement already satisfied: matplotlib-inline in /usr/local/lib/python3.11/dist-packages (from ipython>=5.5.0->pycaret) (0.1.7)\n",
            "Requirement already satisfied: pexpect>4.3 in /usr/local/lib/python3.11/dist-packages (from ipython>=5.5.0->pycaret) (4.9.0)\n",
            "Requirement already satisfied: ipykernel>=4.5.1 in /usr/local/lib/python3.11/dist-packages (from ipywidgets>=7.6.5->pycaret) (6.17.1)\n",
            "Requirement already satisfied: ipython-genutils~=0.2.0 in /usr/local/lib/python3.11/dist-packages (from ipywidgets>=7.6.5->pycaret) (0.2.0)\n",
            "Requirement already satisfied: widgetsnbextension~=3.6.0 in /usr/local/lib/python3.11/dist-packages (from ipywidgets>=7.6.5->pycaret) (3.6.10)\n",
            "Requirement already satisfied: jupyterlab-widgets>=1.0.0 in /usr/local/lib/python3.11/dist-packages (from ipywidgets>=7.6.5->pycaret) (3.0.14)\n",
            "Requirement already satisfied: contourpy>=1.0.1 in /usr/local/lib/python3.11/dist-packages (from matplotlib<3.8.0->pycaret) (1.3.2)\n",
            "Requirement already satisfied: cycler>=0.10 in /usr/local/lib/python3.11/dist-packages (from matplotlib<3.8.0->pycaret) (0.12.1)\n",
            "Requirement already satisfied: fonttools>=4.22.0 in /usr/local/lib/python3.11/dist-packages (from matplotlib<3.8.0->pycaret) (4.57.0)\n",
            "Requirement already satisfied: kiwisolver>=1.0.1 in /usr/local/lib/python3.11/dist-packages (from matplotlib<3.8.0->pycaret) (1.4.8)\n",
            "Requirement already satisfied: pillow>=6.2.0 in /usr/local/lib/python3.11/dist-packages (from matplotlib<3.8.0->pycaret) (11.2.1)\n",
            "Requirement already satisfied: pyparsing>=2.3.1 in /usr/local/lib/python3.11/dist-packages (from matplotlib<3.8.0->pycaret) (3.2.3)\n",
            "Requirement already satisfied: python-dateutil>=2.7 in /usr/local/lib/python3.11/dist-packages (from matplotlib<3.8.0->pycaret) (2.9.0.post0)\n",
            "Requirement already satisfied: fastjsonschema>=2.15 in /usr/local/lib/python3.11/dist-packages (from nbformat>=4.2.0->pycaret) (2.21.1)\n",
            "Requirement already satisfied: jsonschema>=2.6 in /usr/local/lib/python3.11/dist-packages (from nbformat>=4.2.0->pycaret) (4.23.0)\n",
            "Requirement already satisfied: jupyter-core!=5.0.*,>=4.12 in /usr/local/lib/python3.11/dist-packages (from nbformat>=4.2.0->pycaret) (5.7.2)\n",
            "Requirement already satisfied: llvmlite<0.44,>=0.43.0dev0 in /usr/local/lib/python3.11/dist-packages (from numba>=0.55.0->pycaret) (0.43.0)\n",
            "Requirement already satisfied: pytz>=2020.1 in /usr/local/lib/python3.11/dist-packages (from pandas<2.2.0->pycaret) (2025.2)\n",
            "Requirement already satisfied: tzdata>=2022.1 in /usr/local/lib/python3.11/dist-packages (from pandas<2.2.0->pycaret) (2025.2)\n",
            "Requirement already satisfied: tenacity>=6.2.0 in /usr/local/lib/python3.11/dist-packages (from plotly>=5.14.0->pycaret) (9.1.2)\n",
            "Requirement already satisfied: dash>=2.9.0 in /usr/local/lib/python3.11/dist-packages (from plotly-resampler>=0.8.3.1->pycaret) (3.0.4)\n",
            "Requirement already satisfied: orjson<4.0.0,>=3.8.0 in /usr/local/lib/python3.11/dist-packages (from plotly-resampler>=0.8.3.1->pycaret) (3.10.16)\n",
            "Requirement already satisfied: tsdownsample>=0.1.3 in /usr/local/lib/python3.11/dist-packages (from plotly-resampler>=0.8.3.1->pycaret) (0.1.4.1)\n",
            "Requirement already satisfied: Cython!=0.29.18,!=0.29.31,>=0.29 in /usr/local/lib/python3.11/dist-packages (from pmdarima>=2.0.4->pycaret) (3.0.12)\n",
            "Requirement already satisfied: urllib3 in /usr/local/lib/python3.11/dist-packages (from pmdarima>=2.0.4->pycaret) (2.4.0)\n",
            "Requirement already satisfied: charset-normalizer<4,>=2 in /usr/local/lib/python3.11/dist-packages (from requests>=2.27.1->pycaret) (3.4.1)\n",
            "Requirement already satisfied: idna<4,>=2.5 in /usr/local/lib/python3.11/dist-packages (from requests>=2.27.1->pycaret) (3.10)\n",
            "Requirement already satisfied: certifi>=2017.4.17 in /usr/local/lib/python3.11/dist-packages (from requests>=2.27.1->pycaret) (2025.1.31)\n",
            "Requirement already satisfied: Flask<3.1,>=1.0.4 in /usr/local/lib/python3.11/dist-packages (from dash>=2.9.0->plotly-resampler>=0.8.3.1->pycaret) (3.0.3)\n",
            "Requirement already satisfied: Werkzeug<3.1 in /usr/local/lib/python3.11/dist-packages (from dash>=2.9.0->plotly-resampler>=0.8.3.1->pycaret) (3.0.6)\n",
            "Requirement already satisfied: typing-extensions>=4.1.1 in /usr/local/lib/python3.11/dist-packages (from dash>=2.9.0->plotly-resampler>=0.8.3.1->pycaret) (4.13.2)\n",
            "Requirement already satisfied: retrying in /usr/local/lib/python3.11/dist-packages (from dash>=2.9.0->plotly-resampler>=0.8.3.1->pycaret) (1.3.4)\n",
            "Requirement already satisfied: nest-asyncio in /usr/local/lib/python3.11/dist-packages (from dash>=2.9.0->plotly-resampler>=0.8.3.1->pycaret) (1.6.0)\n",
            "Requirement already satisfied: debugpy>=1.0 in /usr/local/lib/python3.11/dist-packages (from ipykernel>=4.5.1->ipywidgets>=7.6.5->pycaret) (1.8.0)\n",
            "Requirement already satisfied: jupyter-client>=6.1.12 in /usr/local/lib/python3.11/dist-packages (from ipykernel>=4.5.1->ipywidgets>=7.6.5->pycaret) (6.1.12)\n",
            "Requirement already satisfied: pyzmq>=17 in /usr/local/lib/python3.11/dist-packages (from ipykernel>=4.5.1->ipywidgets>=7.6.5->pycaret) (24.0.1)\n",
            "Requirement already satisfied: tornado>=6.1 in /usr/local/lib/python3.11/dist-packages (from ipykernel>=4.5.1->ipywidgets>=7.6.5->pycaret) (6.4.2)\n",
            "Requirement already satisfied: parso<0.9.0,>=0.8.4 in /usr/local/lib/python3.11/dist-packages (from jedi>=0.16->ipython>=5.5.0->pycaret) (0.8.4)\n",
            "Requirement already satisfied: attrs>=22.2.0 in /usr/local/lib/python3.11/dist-packages (from jsonschema>=2.6->nbformat>=4.2.0->pycaret) (25.3.0)\n",
            "Requirement already satisfied: jsonschema-specifications>=2023.03.6 in /usr/local/lib/python3.11/dist-packages (from jsonschema>=2.6->nbformat>=4.2.0->pycaret) (2025.4.1)\n",
            "Requirement already satisfied: referencing>=0.28.4 in /usr/local/lib/python3.11/dist-packages (from jsonschema>=2.6->nbformat>=4.2.0->pycaret) (0.36.2)\n",
            "Requirement already satisfied: rpds-py>=0.7.1 in /usr/local/lib/python3.11/dist-packages (from jsonschema>=2.6->nbformat>=4.2.0->pycaret) (0.24.0)\n",
            "Requirement already satisfied: platformdirs>=2.5 in /usr/local/lib/python3.11/dist-packages (from jupyter-core!=5.0.*,>=4.12->nbformat>=4.2.0->pycaret) (4.3.7)\n",
            "Requirement already satisfied: ptyprocess>=0.5 in /usr/local/lib/python3.11/dist-packages (from pexpect>4.3->ipython>=5.5.0->pycaret) (0.7.0)\n",
            "Requirement already satisfied: wcwidth in /usr/local/lib/python3.11/dist-packages (from prompt-toolkit!=3.0.0,!=3.0.1,<3.1.0,>=2.0.0->ipython>=5.5.0->pycaret) (0.2.13)\n",
            "Requirement already satisfied: six>=1.5 in /usr/local/lib/python3.11/dist-packages (from python-dateutil>=2.7->matplotlib<3.8.0->pycaret) (1.17.0)\n",
            "Requirement already satisfied: notebook>=4.4.1 in /usr/local/lib/python3.11/dist-packages (from widgetsnbextension~=3.6.0->ipywidgets>=7.6.5->pycaret) (6.5.7)\n",
            "Requirement already satisfied: itsdangerous>=2.1.2 in /usr/local/lib/python3.11/dist-packages (from Flask<3.1,>=1.0.4->dash>=2.9.0->plotly-resampler>=0.8.3.1->pycaret) (2.2.0)\n",
            "Requirement already satisfied: click>=8.1.3 in /usr/local/lib/python3.11/dist-packages (from Flask<3.1,>=1.0.4->dash>=2.9.0->plotly-resampler>=0.8.3.1->pycaret) (8.1.8)\n",
            "Requirement already satisfied: blinker>=1.6.2 in /usr/local/lib/python3.11/dist-packages (from Flask<3.1,>=1.0.4->dash>=2.9.0->plotly-resampler>=0.8.3.1->pycaret) (1.9.0)\n",
            "Requirement already satisfied: argon2-cffi in /usr/local/lib/python3.11/dist-packages (from notebook>=4.4.1->widgetsnbextension~=3.6.0->ipywidgets>=7.6.5->pycaret) (23.1.0)\n",
            "Requirement already satisfied: nbconvert>=5 in /usr/local/lib/python3.11/dist-packages (from notebook>=4.4.1->widgetsnbextension~=3.6.0->ipywidgets>=7.6.5->pycaret) (7.16.6)\n",
            "Requirement already satisfied: Send2Trash>=1.8.0 in /usr/local/lib/python3.11/dist-packages (from notebook>=4.4.1->widgetsnbextension~=3.6.0->ipywidgets>=7.6.5->pycaret) (1.8.3)\n",
            "Requirement already satisfied: terminado>=0.8.3 in /usr/local/lib/python3.11/dist-packages (from notebook>=4.4.1->widgetsnbextension~=3.6.0->ipywidgets>=7.6.5->pycaret) (0.18.1)\n",
            "Requirement already satisfied: prometheus-client in /usr/local/lib/python3.11/dist-packages (from notebook>=4.4.1->widgetsnbextension~=3.6.0->ipywidgets>=7.6.5->pycaret) (0.21.1)\n",
            "Requirement already satisfied: nbclassic>=0.4.7 in /usr/local/lib/python3.11/dist-packages (from notebook>=4.4.1->widgetsnbextension~=3.6.0->ipywidgets>=7.6.5->pycaret) (1.3.0)\n",
            "Requirement already satisfied: notebook-shim>=0.2.3 in /usr/local/lib/python3.11/dist-packages (from nbclassic>=0.4.7->notebook>=4.4.1->widgetsnbextension~=3.6.0->ipywidgets>=7.6.5->pycaret) (0.2.4)\n",
            "Requirement already satisfied: beautifulsoup4 in /usr/local/lib/python3.11/dist-packages (from nbconvert>=5->notebook>=4.4.1->widgetsnbextension~=3.6.0->ipywidgets>=7.6.5->pycaret) (4.13.4)\n",
            "Requirement already satisfied: bleach!=5.0.0 in /usr/local/lib/python3.11/dist-packages (from bleach[css]!=5.0.0->nbconvert>=5->notebook>=4.4.1->widgetsnbextension~=3.6.0->ipywidgets>=7.6.5->pycaret) (6.2.0)\n",
            "Requirement already satisfied: defusedxml in /usr/local/lib/python3.11/dist-packages (from nbconvert>=5->notebook>=4.4.1->widgetsnbextension~=3.6.0->ipywidgets>=7.6.5->pycaret) (0.7.1)\n",
            "Requirement already satisfied: jupyterlab-pygments in /usr/local/lib/python3.11/dist-packages (from nbconvert>=5->notebook>=4.4.1->widgetsnbextension~=3.6.0->ipywidgets>=7.6.5->pycaret) (0.3.0)\n",
            "Requirement already satisfied: mistune<4,>=2.0.3 in /usr/local/lib/python3.11/dist-packages (from nbconvert>=5->notebook>=4.4.1->widgetsnbextension~=3.6.0->ipywidgets>=7.6.5->pycaret) (3.1.3)\n",
            "Requirement already satisfied: nbclient>=0.5.0 in /usr/local/lib/python3.11/dist-packages (from nbconvert>=5->notebook>=4.4.1->widgetsnbextension~=3.6.0->ipywidgets>=7.6.5->pycaret) (0.10.2)\n",
            "Requirement already satisfied: pandocfilters>=1.4.1 in /usr/local/lib/python3.11/dist-packages (from nbconvert>=5->notebook>=4.4.1->widgetsnbextension~=3.6.0->ipywidgets>=7.6.5->pycaret) (1.5.1)\n",
            "Requirement already satisfied: argon2-cffi-bindings in /usr/local/lib/python3.11/dist-packages (from argon2-cffi->notebook>=4.4.1->widgetsnbextension~=3.6.0->ipywidgets>=7.6.5->pycaret) (21.2.0)\n",
            "Requirement already satisfied: webencodings in /usr/local/lib/python3.11/dist-packages (from bleach!=5.0.0->bleach[css]!=5.0.0->nbconvert>=5->notebook>=4.4.1->widgetsnbextension~=3.6.0->ipywidgets>=7.6.5->pycaret) (0.5.1)\n",
            "Requirement already satisfied: tinycss2<1.5,>=1.1.0 in /usr/local/lib/python3.11/dist-packages (from bleach[css]!=5.0.0->nbconvert>=5->notebook>=4.4.1->widgetsnbextension~=3.6.0->ipywidgets>=7.6.5->pycaret) (1.4.0)\n",
            "Requirement already satisfied: jupyter-server<3,>=1.8 in /usr/local/lib/python3.11/dist-packages (from notebook-shim>=0.2.3->nbclassic>=0.4.7->notebook>=4.4.1->widgetsnbextension~=3.6.0->ipywidgets>=7.6.5->pycaret) (1.16.0)\n",
            "Requirement already satisfied: cffi>=1.0.1 in /usr/local/lib/python3.11/dist-packages (from argon2-cffi-bindings->argon2-cffi->notebook>=4.4.1->widgetsnbextension~=3.6.0->ipywidgets>=7.6.5->pycaret) (1.17.1)\n",
            "Requirement already satisfied: soupsieve>1.2 in /usr/local/lib/python3.11/dist-packages (from beautifulsoup4->nbconvert>=5->notebook>=4.4.1->widgetsnbextension~=3.6.0->ipywidgets>=7.6.5->pycaret) (2.7)\n",
            "Requirement already satisfied: pycparser in /usr/local/lib/python3.11/dist-packages (from cffi>=1.0.1->argon2-cffi-bindings->argon2-cffi->notebook>=4.4.1->widgetsnbextension~=3.6.0->ipywidgets>=7.6.5->pycaret) (2.22)\n",
            "Requirement already satisfied: anyio>=3.1.0 in /usr/local/lib/python3.11/dist-packages (from jupyter-server<3,>=1.8->notebook-shim>=0.2.3->nbclassic>=0.4.7->notebook>=4.4.1->widgetsnbextension~=3.6.0->ipywidgets>=7.6.5->pycaret) (4.9.0)\n",
            "Requirement already satisfied: websocket-client in /usr/local/lib/python3.11/dist-packages (from jupyter-server<3,>=1.8->notebook-shim>=0.2.3->nbclassic>=0.4.7->notebook>=4.4.1->widgetsnbextension~=3.6.0->ipywidgets>=7.6.5->pycaret) (1.8.0)\n",
            "Requirement already satisfied: sniffio>=1.1 in /usr/local/lib/python3.11/dist-packages (from anyio>=3.1.0->jupyter-server<3,>=1.8->notebook-shim>=0.2.3->nbclassic>=0.4.7->notebook>=4.4.1->widgetsnbextension~=3.6.0->ipywidgets>=7.6.5->pycaret) (1.3.1)\n"
          ]
        }
      ]
    },
    {
      "cell_type": "code",
      "execution_count": 57,
      "metadata": {
        "id": "kUCjOjsEYUXL",
        "colab": {
          "base_uri": "https://localhost:8080/",
          "height": 901,
          "referenced_widgets": [
            "86bd5852c3d04480a15593328336aa3e",
            "c4d972feb9ab4bdeafc1085024343027",
            "d162edb7db154dbda4748f9fc71b031c",
            "c399c6beb6aa4b70a1aac364a61fac6d",
            "54e3050cdd2d4359b54ab4fd7cd618e9",
            "6603bec6fcaf48af8bc083376433c849",
            "65bcdd9c16ce416f820ccfda6bdf6053"
          ]
        },
        "outputId": "9232dc99-2eb2-4ba9-96e7-0ef54b0c2c54"
      },
      "outputs": [
        {
          "output_type": "stream",
          "name": "stderr",
          "text": [
            "                                                           "
          ]
        },
        {
          "output_type": "stream",
          "name": "stdout",
          "text": [
            "                                    Model  Accuracy     AUC  Recall   Prec.  \\\n",
            "rf               Random Forest Classifier    0.9574  0.9351  0.3151  0.9639   \n",
            "et                 Extra Trees Classifier    0.9500  0.8937  0.1941  0.9355   \n",
            "dt               Decision Tree Classifier    0.9383  0.5009  0.0027  0.1333   \n",
            "xgboost         Extreme Gradient Boosting    0.9383  0.8621  0.0027  0.1333   \n",
            "lightgbm  Light Gradient Boosting Machine    0.9383  0.7926  0.0027  0.1333   \n",
            "catboost              CatBoost Classifier    0.9383  0.8785  0.0027  0.1333   \n",
            "\n",
            "              F1   Kappa     MCC  TT (Sec)  \n",
            "rf        0.4734  0.4573  0.5370     2.654  \n",
            "et        0.3188  0.3047  0.4107     1.276  \n",
            "dt        0.0052  0.0035  0.0121     0.858  \n",
            "xgboost   0.0052  0.0035  0.0121     0.914  \n",
            "lightgbm  0.0052  0.0035  0.0121     2.140  \n",
            "catboost  0.0052  0.0035  0.0121    12.590  \n"
          ]
        },
        {
          "output_type": "stream",
          "name": "stderr",
          "text": [
            "\r"
          ]
        },
        {
          "output_type": "display_data",
          "data": {
            "text/plain": [
              "interactive(children=(ToggleButtons(description='Plot Type:', icons=('',), options=(('Pipeline Plot', 'pipelin…"
            ],
            "application/vnd.jupyter.widget-view+json": {
              "version_major": 2,
              "version_minor": 0,
              "model_id": "86bd5852c3d04480a15593328336aa3e"
            }
          },
          "metadata": {
            "application/vnd.jupyter.widget-view+json": {
              "colab": {
                "custom_widget_manager": {
                  "url": "https://ssl.gstatic.com/colaboratory-static/widgets/colab-cdn-widget-manager/2b70e893a8ba7c0f/manager.min.js"
                }
              }
            }
          }
        }
      ],
      "source": [
        "from pycaret.datasets import get_data\n",
        "from pycaret.classification import *\n",
        "import pandas as pd\n",
        "import os\n",
        "\n",
        "os.environ[\"PYCARET_CUSTOM_LOGGING_LEVEL\"] = \"CRITICAL\"\n",
        "\n",
        "\n",
        "# Crear la variable objetivo como en el notebook\n",
        "df['label'] = df['National_Position'].notna().astype(int)\n",
        "\n",
        "# Iniciar PyCaret\n",
        "clf_setup = setup(data=df, target='label',\n",
        "                  session_id=123,\n",
        "                  verbose=False,\n",
        "                  fold=5,\n",
        "                  html=False)\n",
        "\n",
        "# Comparar modelos según precisión (minimizar falsos positivos)\n",
        "best_model = compare_models(sort='Precision',\n",
        "                            include=['et', 'rf', 'dt', 'xgboost', 'lightgbm', 'catboost'])\n",
        "\n",
        "# Evaluar el mejor modelo\n",
        "evaluate_model(best_model)\n",
        "\n"
      ]
    },
    {
      "cell_type": "markdown",
      "source": [
        "El dt es un arbol de decisión, el cual es un modelo que divide el conjunto de datos en ramas según condiciones lógicas y que en cada nodo va tomando una decision hasta llegar a una hoja la cual seria la predicción. Es facil de interpretar pero muy propenso al sobreajuste\n",
        "El rf es el random forest que es un conjunto de muchos árboles de decisión entrenados con distintas partes aleatorias de los datos, y que la prediccion se obtiene mediante un promedio de los resultados de cada arbol. Es un modelo robusto y preciso, ya que reduce el sobreajuste en comparación al arbol de decisión\n",
        "El et es un modelo que elige divisiones de forma completamente aleatoria y no buscando la mejor, por lo que es más rapido y menos propenso al sobreajuste."
      ],
      "metadata": {
        "id": "RrTrYhZS39-x"
      }
    },
    {
      "cell_type": "markdown",
      "source": [
        "El modelo seleccionado, Random Forest, muestra un alto rendimiento en términos de precisión y velocidad, con una gran cantidad de verdaderos negativos (4950) y una buena cantidad de verdaderos positivos (102), aunque aún presenta 221 falsos negativos, lo que indica margen de mejora en la detección de la clase positiva. El umbral por defecto del modelo no parece ser el óptimo, ya que ajustar dicho valor podría mejorar el recall sin sacrificar demasiado la precisión. En cuanto a la importancia de variables, destacan “Name” y “National_Position”, lo cual puede deberse a que estas variables contienen información clave o codificada relacionada con la clase objetivo. Finalmente, la curva de aprendizaje (no mostrada aquí) debería revisarse para asegurar que no haya problemas de sobreajuste o subajuste."
      ],
      "metadata": {
        "id": "3QCFKoFb-po9"
      }
    },
    {
      "cell_type": "markdown",
      "metadata": {
        "id": "K8DSS3u1xMpB"
      },
      "source": [
        "### 2.2 Reducción de dimensionalidad [14 puntos]"
      ]
    },
    {
      "cell_type": "markdown",
      "metadata": {
        "id": "RLu0543p876P"
      },
      "source": [
        "<center>\n",
        "<img src='https://i.kym-cdn.com/photos/images/original/002/258/560/668.gif' width=400 />"
      ]
    },
    {
      "cell_type": "markdown",
      "metadata": {
        "id": "QT-bxJ0txwNF"
      },
      "source": [
        "A pesar de los resultados obtenidos previamente, el manager de Jere ha solicitado el entrenamiento de un modelo de XGBoost utilizando los datos disponibles. Además, se debe proceder a realizar una reducción de dimensionalidad basada en la importancia de las características.\n",
        "\n",
        "Para llevar a cabo esta tarea:\n",
        "\n",
        "1. Inicie entrenando un modelo XGBoost con todas las características disponibles. [2 puntos]\n",
        "\n",
        "2. Una vez el modelo esté entrenado, evalúe y clasifique las características según su importancia de forma descendente. [2 puntos]\n",
        "\n",
        "3. Utilice esta clasificación para ejecutar una búsqueda recursiva de eliminación de características, eliminando progresivamente las menos importantes y evaluando el impacto en el desempeño del modelo hasta identificar las N características más críticas. [2 puntos]\n",
        "\n",
        "4. Con este conjunto reducido de características, entrene un nuevo modelo y evalúe su rendimiento. [2 puntos]\n",
        "\n",
        "5. Posteriormente, responda a las siguientes preguntas para una comprensión más profunda de los cambios y beneficios:\n",
        "\n",
        "  - ¿El rendimiento del modelo con las características seleccionadas es similar al del modelo original? ¿Cómo se comparan en términos de precisión y robustez? [2 puntos]\n",
        "  - ¿Cuáles son los beneficios potenciales de eliminar variables del modelo? Considere factores como la simplificación del modelo, reducción del tiempo de entrenamiento, y mejora en la capacidad de generalización. [2 puntos]\n",
        "  - Comente si el modelo con menor dimensionalidad es más sencillo de explicar. Explique brevemente por qué la eliminación de ciertas características puede facilitar la comprensión y la explicación del comportamiento del modelo. [2 puntos]\n",
        "\n",
        "Notar que con esta metodologia buscamos encontrar un punto entermedio entre número de festures y desempeño. por esto, si observa que al aumentar festires el aumento es despreciable, puede no considerar agregar más features a su modelo."
      ]
    },
    {
      "cell_type": "markdown",
      "metadata": {
        "id": "NHfmK63TuDOS"
      },
      "source": [
        "**Respuesta**"
      ]
    },
    {
      "cell_type": "code",
      "execution_count": 61,
      "metadata": {
        "id": "HQwUd_nsuDOe",
        "colab": {
          "base_uri": "https://localhost:8080/"
        },
        "outputId": "8933a352-9b9f-4047-c738-8d462484ef85"
      },
      "outputs": [
        {
          "output_type": "stream",
          "name": "stdout",
          "text": [
            "Accuracy modelo completo: 0.998730964467005\n"
          ]
        }
      ],
      "source": [
        "from sklearn.preprocessing import LabelEncoder\n",
        "from xgboost import XGBClassifier\n",
        "from sklearn.metrics import accuracy_score\n",
        "import pandas as pd\n",
        "import numpy as np\n",
        "\n",
        "# Copias originales\n",
        "X_train_encoded = X_train.copy()\n",
        "X_test_encoded = X_test.copy()\n",
        "\n",
        "# Unir X_train y X_test para codificar todos los valores posibles\n",
        "X_all = pd.concat([X_train_encoded, X_test_encoded], axis=0)\n",
        "\n",
        "# Convertir columnas categóricas a string\n",
        "for col in X_all.select_dtypes(include=['category']).columns:\n",
        "    X_all[col] = X_all[col].astype(str)\n",
        "\n",
        "# Codificar columnas tipo object (categóricas)\n",
        "label_encoders = {}\n",
        "for col in X_all.select_dtypes(include='object').columns:\n",
        "    le = LabelEncoder()\n",
        "    X_all[col] = le.fit_transform(X_all[col])\n",
        "    label_encoders[col] = le\n",
        "\n",
        "# Separar de nuevo en train y test\n",
        "X_train_encoded = X_all.iloc[:len(X_train)].copy()\n",
        "X_test_encoded = X_all.iloc[len(X_train):].copy()\n",
        "\n",
        "# ----------------------------\n",
        "# Codificar la variable objetivo (y)\n",
        "# ----------------------------\n",
        "le_y = LabelEncoder()\n",
        "y_train_encoded = le_y.fit_transform(y_train)\n",
        "y_test_encoded = le_y.transform(y_test)\n",
        "\n",
        "# ----------------------------\n",
        "# Entrenar el modelo completo\n",
        "# ----------------------------\n",
        "model_full = XGBClassifier(random_state=42, use_label_encoder=False, eval_metric='logloss')\n",
        "model_full.fit(X_train_encoded, y_train_encoded)\n",
        "\n",
        "# ----------------------------\n",
        "# Evaluar el modelo\n",
        "# ----------------------------\n",
        "y_pred_full = model_full.predict(X_test_encoded)\n",
        "acc_full = accuracy_score(y_test_encoded, y_pred_full)\n",
        "print(\"Accuracy modelo completo:\", acc_full)\n"
      ]
    },
    {
      "cell_type": "code",
      "source": [
        "#evaluación y clasificación segun importancia\n",
        "importances = model_full.feature_importances_\n",
        "indices = np.argsort(importances)[::-1]\n",
        "plt.bar(range(X_train_encoded.shape[1]), importances[indices], align=\"center\")\n",
        "plt.xticks(range(X_train_encoded.shape[1]), X_train_encoded.columns[indices], rotation=90)\n",
        "plt.show()\n"
      ],
      "metadata": {
        "colab": {
          "base_uri": "https://localhost:8080/",
          "height": 588
        },
        "id": "YJuXLQVN70xC",
        "outputId": "eeee6101-667b-4e85-91ae-221ff850cef8"
      },
      "execution_count": 62,
      "outputs": [
        {
          "output_type": "display_data",
          "data": {
            "text/plain": [
              "<Figure size 800x550 with 1 Axes>"
            ],
            "image/png": "[encoded data removed]"
          },
          "metadata": {}
        }
      ]
    },
    {
      "cell_type": "code",
      "source": [
        "feature_importance = pd.DataFrame({\n",
        "    'Feature': X_train_encoded.columns[indices],\n",
        "    'Importance': importances[indices]\n",
        "})\n",
        "print(feature_importance)\n"
      ],
      "metadata": {
        "colab": {
          "base_uri": "https://localhost:8080/"
        },
        "id": "rgTXGzjw75gC",
        "outputId": "6f8a2777-dd2f-4f07-ecf8-0a72d1169803"
      },
      "execution_count": 63,
      "outputs": [
        {
          "output_type": "stream",
          "name": "stdout",
          "text": [
            "              Feature    Importance\n",
            "0         Skill_Moves  4.458348e-01\n",
            "1      Sliding_Tackle  3.173715e-01\n",
            "2       Club_Position  8.235147e-02\n",
            "3           Dribbling  6.909726e-02\n",
            "4             Marking  1.998586e-02\n",
            "5     Standing_Tackle  1.570574e-02\n",
            "6               Curve  9.718328e-03\n",
            "7           Finishing  5.320588e-03\n",
            "8   Freekick_Accuracy  3.434917e-03\n",
            "9          Short_Pass  3.393191e-03\n",
            "10     Preffered_Foot  3.288264e-03\n",
            "11          Reactions  3.086408e-03\n",
            "12       Ball_Control  2.377441e-03\n",
            "13             Height  2.193597e-03\n",
            "14                Age  1.982834e-03\n",
            "15        Nationality  1.953297e-03\n",
            "16          Penalties  1.803782e-03\n",
            "17       Acceleration  1.689922e-03\n",
            "18              Speed  1.635906e-03\n",
            "19           Strength  1.184565e-03\n",
            "20         Shot_Power  1.047602e-03\n",
            "21               Name  7.704527e-04\n",
            "22            Agility  6.748032e-04\n",
            "23      Interceptions  5.565064e-04\n",
            "24             Vision  5.363948e-04\n",
            "25            Stamina  4.970654e-04\n",
            "26          Long_Pass  4.660230e-04\n",
            "27             Weight  4.549583e-04\n",
            "28            Volleys  3.750786e-04\n",
            "29         Long_Shots  2.945159e-04\n",
            "30          Work_Rate  2.819690e-04\n",
            "31            Heading  2.039639e-04\n",
            "32            Jumping  1.991836e-04\n",
            "33         Aggression  1.623421e-04\n",
            "34           Crossing  6.859505e-05\n",
            "35            Balance  8.633809e-07\n",
            "36          Composure  0.000000e+00\n",
            "37          Weak_foot  0.000000e+00\n",
            "38  National_Position  0.000000e+00\n"
          ]
        }
      ]
    },
    {
      "cell_type": "code",
      "source": [
        "#Busqueda recursiva\n",
        "from sklearn.feature_selection import RFE\n",
        "\n",
        "# Inicializar RFE con el modelo XGBoost\n",
        "selector = RFE(estimator=XGBClassifier(random_state=42, use_label_encoder=False, eval_metric='logloss'), n_features_to_select=5)\n",
        "selector.fit(X_train_encoded, y_train_encoded)\n",
        "\n",
        "# Características seleccionadas\n",
        "selected_features = X_train_encoded.columns[selector.support_]\n",
        "print(f\"Características seleccionadas: {selected_features}\")\n"
      ],
      "metadata": {
        "colab": {
          "base_uri": "https://localhost:8080/"
        },
        "id": "fGt9I_W0785f",
        "outputId": "78715338-6617-4eb4-fb14-a8d6f6c48e4c"
      },
      "execution_count": 65,
      "outputs": [
        {
          "output_type": "stream",
          "name": "stdout",
          "text": [
            "Características seleccionadas: Index(['Club_Position', 'Skill_Moves', 'Dribbling', 'Marking',\n",
            "       'Sliding_Tackle'],\n",
            "      dtype='object')\n"
          ]
        }
      ]
    },
    {
      "cell_type": "code",
      "source": [
        "#Busqueda recursiva N=10\n",
        "from sklearn.feature_selection import RFE\n",
        "\n",
        "# Inicializar RFE con el modelo XGBoost\n",
        "selector = RFE(estimator=XGBClassifier(random_state=42, use_label_encoder=False, eval_metric='logloss'), n_features_to_select=10)\n",
        "selector.fit(X_train_encoded, y_train_encoded)\n",
        "\n",
        "# Características seleccionadas\n",
        "selected_features = X_train_encoded.columns[selector.support_]\n",
        "print(f\"Características seleccionadas: {selected_features}\")\n"
      ],
      "metadata": {
        "colab": {
          "base_uri": "https://localhost:8080/"
        },
        "id": "fPiJEK9k8Mys",
        "outputId": "13fe5ef1-6ff2-4174-f162-286a1bb3a794"
      },
      "execution_count": 66,
      "outputs": [
        {
          "output_type": "stream",
          "name": "stdout",
          "text": [
            "Características seleccionadas: Index(['Name', 'Club_Position', 'Skill_Moves', 'Dribbling', 'Marking',\n",
            "       'Sliding_Tackle', 'Standing_Tackle', 'Finishing', 'Curve',\n",
            "       'Freekick_Accuracy'],\n",
            "      dtype='object')\n"
          ]
        }
      ]
    },
    {
      "cell_type": "code",
      "source": [
        "#Busqueda recursiva N=15\n",
        "from sklearn.feature_selection import RFE\n",
        "\n",
        "# Inicializar RFE con el modelo XGBoost\n",
        "selector = RFE(estimator=XGBClassifier(random_state=42, use_label_encoder=False, eval_metric='logloss'), n_features_to_select=15)\n",
        "selector.fit(X_train_encoded, y_train_encoded)\n",
        "\n",
        "# Características seleccionadas\n",
        "selected_features = X_train_encoded.columns[selector.support_]\n",
        "print(f\"Características seleccionadas: {selected_features}\")"
      ],
      "metadata": {
        "colab": {
          "base_uri": "https://localhost:8080/"
        },
        "id": "m-2E429E8R3V",
        "outputId": "e18877df-4754-4558-b4c9-88da1e83582d"
      },
      "execution_count": 67,
      "outputs": [
        {
          "output_type": "stream",
          "name": "stdout",
          "text": [
            "Características seleccionadas: Index(['Name', 'Club_Position', 'Preffered_Foot', 'Age', 'Skill_Moves',\n",
            "       'Ball_Control', 'Dribbling', 'Marking', 'Sliding_Tackle',\n",
            "       'Standing_Tackle', 'Reactions', 'Speed', 'Finishing', 'Curve',\n",
            "       'Freekick_Accuracy'],\n",
            "      dtype='object')\n"
          ]
        }
      ]
    },
    {
      "cell_type": "code",
      "source": [
        "n_features = 10\n",
        "\n",
        "X_train_selected = X_train_encoded[selected_features]\n",
        "X_test_selected = X_test_encoded[selected_features]\n",
        "\n",
        "model_reduced = XGBClassifier(random_state=42, use_label_encoder=False, eval_metric='logloss')\n",
        "model_reduced.fit(X_train_selected, y_train_encoded)\n",
        "\n",
        "# Evaluación del modelo reducido\n",
        "y_pred_reduced = model_reduced.predict(X_test_selected)\n",
        "accuracy_reduced = accuracy_score(y_test_encoded, y_pred_reduced)\n",
        "print(f\"✅ Precisión del modelo reducido con {n_features} características:\", accuracy_reduced)\n",
        "print(f\"Precisión del modelo con todas las características: {acc_full}\")\n",
        "\n"
      ],
      "metadata": {
        "colab": {
          "base_uri": "https://localhost:8080/"
        },
        "id": "n8ev6J7R8YDd",
        "outputId": "8dada47e-eba9-4a68-adbd-480a5efeaa97"
      },
      "execution_count": 75,
      "outputs": [
        {
          "output_type": "stream",
          "name": "stdout",
          "text": [
            "✅ Precisión del modelo reducido con 5 características: 0.998730964467005\n",
            "Precisión del modelo con todas las características: 0.998730964467005\n"
          ]
        }
      ]
    },
    {
      "cell_type": "markdown",
      "source": [
        "El modelo reducido con 10 características obtuvo una precisión de 0.9987, exactamente igual a la del modelo original con todas las variables, lo que indica que el rendimiento es equivalente tanto en precisión como en robustez. Esto sugiere que muchas variables no aportaban valor significativo al modelo. La eliminación de características irrelevantes conlleva varios beneficios: simplifica el modelo, reduce el tiempo de entrenamiento y puede mejorar su capacidad de generalización al disminuir el riesgo de sobreajuste. Además, un modelo con menor dimensionalidad es más fácil de interpretar, ya que al centrarse solo en las variables más influyentes, se facilita la comprensión del comportamiento del modelo y se mejora la capacidad de explicar sus decisiones."
      ],
      "metadata": {
        "id": "OAYrgT8Q_eXc"
      }
    },
    {
      "cell_type": "markdown",
      "metadata": {
        "id": "PTG5cH9r3M9g"
      },
      "source": [
        "### 2.3 Calibración Probabilistica [6 puntos]"
      ]
    },
    {
      "cell_type": "markdown",
      "metadata": {
        "id": "CDL0VqjR7yvb"
      },
      "source": [
        "<center>\n",
        "<img src='https://media2.giphy.com/media/l2Je4Ku0Cx292KWv6/200w.gif?cid=6c09b952y0sihtq9tb6sz8j2023x3zxxp3qx1ocgonkpkblj&ep=v1_gifs_search&rid=200w.gif&ct=g' width=400 />"
      ]
    },
    {
      "cell_type": "markdown",
      "metadata": {
        "id": "qmOKxhAw3sic"
      },
      "source": [
        "Para lograr modelos más modulares, se recomienda realizar una calibración del modelo entrenado anteriormente, con el objetivo de obtener salidas que reflejen mayor modularidad.\n",
        "\n",
        "1. Se solicita que utilice un método de calibración que asegure que las probabilidades generadas incrementen de manera monótona. Una métrica ampliamente utilizada para evaluar la precisión de la calibración de un modelo es el Brier Score. Calcule el Brier Score para el modelo tanto antes como después de la calibración. Esto le permitirá realizar una comparación cuantitativa y determinar si la calibración ha mejorado el rendimiento del modelo. Para más información sobre el Brier Score, puede consultar el siguiente enlace: [Scikit-Learn - Brier Score Loss](https://scikit-learn.org/stable/modules/generated/sklearn.metrics.brier_score_loss.html). [3 puntos]\n",
        "\n",
        "2. Tras la calibración, examine y comente los resultados obtenidos. A su análisis añada una comparación visual de las ideales versus las salidas del modelo original (sin calibrar) y del modelo calibrado. [3 puntos]"
      ]
    },
    {
      "cell_type": "markdown",
      "metadata": {
        "id": "QIiYz_qLuD19"
      },
      "source": [
        "**Respuesta**"
      ]
    },
    {
      "cell_type": "code",
      "execution_count": null,
      "metadata": {
        "id": "l0bfSuiFuD2I"
      },
      "outputs": [],
      "source": [
        "from pycaret.datasets import get_data\n",
        "from pycaret.classification import *\n",
        "from sklearn.calibration import CalibratedClassifierCV, calibration_curve\n",
        "from sklearn.metrics import brier_score_loss\n",
        "import matplotlib.pyplot as plt\n",
        "import numpy as np\n",
        "import pandas as pd\n",
        "import os\n",
        "\n",
        "os.environ[\"PYCARET_CUSTOM_LOGGING_LEVEL\"] = \"CRITICAL\"\n",
        "\n",
        "# Cargar dataset y preparar etiqueta binaria\n",
        "df['label'] = df['National_Position'].notna().astype(int)\n",
        "\n",
        "# Iniciar PyCaret\n",
        "clf_setup = setup(data=df, target='label',\n",
        "                  session_id=123,\n",
        "                  verbose=False,\n",
        "                  fold=5,\n",
        "                  html=False)\n",
        "\n",
        "# Comparar modelos según precisión\n",
        "best_model = compare_models(sort='Precision',\n",
        "                            include=['et', 'rf', 'dt', 'xgboost', 'lightgbm', 'catboost'])\n",
        "\n",
        "# Obtener datos transformados para evitar errores con nombres de columnas\n",
        "X_train = get_config('X_train_transformed')\n",
        "y_train = get_config('y_train')\n",
        "X_test = get_config('X_test_transformed')\n",
        "y_test = get_config('y_test')\n",
        "\n",
        "# Brier Score antes de calibrar\n",
        "probs_uncalibrated = best_model.predict_proba(X_test)[:, 1]\n",
        "brier_before = brier_score_loss(y_test, probs_uncalibrated)\n",
        "print(\"Brier Score antes de calibrar:\", brier_before)\n",
        "\n",
        "# Calibrar el modelo con método isotónico (monótono)\n",
        "calibrated_model = CalibratedClassifierCV(best_model, method='isotonic', cv=5)\n",
        "calibrated_model.fit(X_train, y_train)\n",
        "\n",
        "# Brier Score después de calibrar\n",
        "probs_calibrated = calibrated_model.predict_proba(X_test)[:, 1]\n",
        "brier_after = brier_score_loss(y_test, probs_calibrated)\n",
        "print(\"Brier Score después de calibrar:\", brier_after)\n",
        "\n",
        "# Graficar curvas de calibración\n",
        "plt.figure(figsize=(8, 6))\n",
        "\n",
        "# Curva sin calibrar\n",
        "prob_true_uncal, prob_pred_uncal = calibration_curve(y_test, probs_uncalibrated, n_bins=10)\n",
        "plt.plot(prob_pred_uncal, prob_true_uncal, marker='o', label='Sin calibrar')\n",
        "\n",
        "# Curva calibrada\n",
        "prob_true_cal, prob_pred_cal = calibration_curve(y_test, probs_calibrated, n_bins=10)\n",
        "plt.plot(prob_pred_cal, prob_true_cal, marker='o', label='Calibrado (Isotonic)')\n",
        "\n",
        "# Línea ideal\n",
        "plt.plot([0, 1], [0, 1], linestyle='--', color='gray', label='Ideal')\n",
        "\n",
        "plt.xlabel('Probabilidad predicha')\n",
        "plt.ylabel('Frecuencia observada')\n",
        "plt.title('Curvas de Calibración')\n",
        "plt.legend()\n",
        "plt.grid(True)\n",
        "plt.tight_layout()\n",
        "plt.show()\n",
        "\n"
      ]
    },
    {
      "cell_type": "markdown",
      "metadata": {
        "id": "1O4R3B9klLUu"
      },
      "source": [
        "Mucho éxito!\n",
        "\n",
        "<center>\n",
        "<img src=\"https://i.pinimg.com/originals/55/3d/42/553d42bea9b10e0662a05aa8726fc7f4.gif\" width=300>"
      ]
    }
  ],
  "metadata": {
    "colab": {
      "collapsed_sections": [
        "k-ao0mOU64Ru",
        "JdcucZhp-M_0",
        "Qfre1YsSDqla",
        "Bv1HOfcNEPF4",
        "poc9HSNBFeKO"
      ],
      "provenance": []
    },
    "kernelspec": {
      "display_name": "Python 3",
      "name": "python3"
    },
    "language_info": {
      "name": "python"
    },
    "widgets": {
      "application/vnd.jupyter.widget-state+json": {
        "86bd5852c3d04480a15593328336aa3e": {
          "model_module": "@jupyter-widgets/controls",
          "model_name": "VBoxModel",
          "model_module_version": "1.5.0",
          "state": {
            "_dom_classes": [
              "widget-interact"
            ],
            "_model_module": "@jupyter-widgets/controls",
            "_model_module_version": "1.5.0",
            "_model_name": "VBoxModel",
            "_view_count": null,
            "_view_module": "@jupyter-widgets/controls",
            "_view_module_version": "1.5.0",
            "_view_name": "VBoxView",
            "box_style": "",
            "children": [
              "IPY_MODEL_c4d972feb9ab4bdeafc1085024343027",
              "IPY_MODEL_d162edb7db154dbda4748f9fc71b031c"
            ],
            "layout": "IPY_MODEL_c399c6beb6aa4b70a1aac364a61fac6d"
          }
        },
        "c4d972feb9ab4bdeafc1085024343027": {
          "model_module": "@jupyter-widgets/controls",
          "model_name": "ToggleButtonsModel",
          "model_module_version": "1.5.0",
          "state": {
            "_dom_classes": [],
            "_model_module": "@jupyter-widgets/controls",
            "_model_module_version": "1.5.0",
            "_model_name": "ToggleButtonsModel",
            "_options_labels": [
              "Pipeline Plot",
              "Hyperparameters",
              "AUC",
              "Confusion Matrix",
              "Threshold",
              "Precision Recall",
              "Prediction Error",
              "Class Report",
              "Feature Selection",
              "Learning Curve",
              "Manifold Learning",
              "Calibration Curve",
              "Validation Curve",
              "Dimensions",
              "Feature Importance",
              "Feature Importance (All)",
              "Decision Boundary",
              "Lift Chart",
              "Gain Chart",
              "Decision Tree",
              "KS Statistic Plot"
            ],
            "_view_count": null,
            "_view_module": "@jupyter-widgets/controls",
            "_view_module_version": "1.5.0",
            "_view_name": "ToggleButtonsView",
            "button_style": "",
            "description": "Plot Type:",
            "description_tooltip": null,
            "disabled": false,
            "icons": [
              ""
            ],
            "index": 4,
            "layout": "IPY_MODEL_54e3050cdd2d4359b54ab4fd7cd618e9",
            "style": "IPY_MODEL_6603bec6fcaf48af8bc083376433c849",
            "tooltips": []
          }
        },
        "d162edb7db154dbda4748f9fc71b031c": {
          "model_module": "@jupyter-widgets/output",
          "model_name": "OutputModel",
          "model_module_version": "1.0.0",
          "state": {
            "_dom_classes": [],
            "_model_module": "@jupyter-widgets/output",
            "_model_module_version": "1.0.0",
            "_model_name": "OutputModel",
            "_view_count": null,
            "_view_module": "@jupyter-widgets/output",
            "_view_module_version": "1.0.0",
            "_view_name": "OutputView",
            "layout": "IPY_MODEL_65bcdd9c16ce416f820ccfda6bdf6053",
            "msg_id": "",
            "outputs": [
              {
                "output_type": "display_data",
                "data": {
                  "text/plain": "<Figure size 800x550 with 1 Axes>",
                  "image/png": "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\n"
                },
                "metadata": {}
              }
            ]
          }
        },
        "c399c6beb6aa4b70a1aac364a61fac6d": {
          "model_module": "@jupyter-widgets/base",
          "model_name": "LayoutModel",
          "model_module_version": "1.2.0",
          "state": {
            "_model_module": "@jupyter-widgets/base",
            "_model_module_version": "1.2.0",
            "_model_name": "LayoutModel",
            "_view_count": null,
            "_view_module": "@jupyter-widgets/base",
            "_view_module_version": "1.2.0",
            "_view_name": "LayoutView",
            "align_content": null,
            "align_items": null,
            "align_self": null,
            "border": null,
            "bottom": null,
            "display": null,
            "flex": null,
            "flex_flow": null,
            "grid_area": null,
            "grid_auto_columns": null,
            "grid_auto_flow": null,
            "grid_auto_rows": null,
            "grid_column": null,
            "grid_gap": null,
            "grid_row": null,
            "grid_template_areas": null,
            "grid_template_columns": null,
            "grid_template_rows": null,
            "height": null,
            "justify_content": null,
            "justify_items": null,
            "left": null,
            "margin": null,
            "max_height": null,
            "max_width": null,
            "min_height": null,
            "min_width": null,
            "object_fit": null,
            "object_position": null,
            "order": null,
            "overflow": null,
            "overflow_x": null,
            "overflow_y": null,
            "padding": null,
            "right": null,
            "top": null,
            "visibility": null,
            "width": null
          }
        },
        "54e3050cdd2d4359b54ab4fd7cd618e9": {
          "model_module": "@jupyter-widgets/base",
          "model_name": "LayoutModel",
          "model_module_version": "1.2.0",
          "state": {
            "_model_module": "@jupyter-widgets/base",
            "_model_module_version": "1.2.0",
            "_model_name": "LayoutModel",
            "_view_count": null,
            "_view_module": "@jupyter-widgets/base",
            "_view_module_version": "1.2.0",
            "_view_name": "LayoutView",
            "align_content": null,
            "align_items": null,
            "align_self": null,
            "border": null,
            "bottom": null,
            "display": null,
            "flex": null,
            "flex_flow": null,
            "grid_area": null,
            "grid_auto_columns": null,
            "grid_auto_flow": null,
            "grid_auto_rows": null,
            "grid_column": null,
            "grid_gap": null,
            "grid_row": null,
            "grid_template_areas": null,
            "grid_template_columns": null,
            "grid_template_rows": null,
            "height": null,
            "justify_content": null,
            "justify_items": null,
            "left": null,
            "margin": null,
            "max_height": null,
            "max_width": null,
            "min_height": null,
            "min_width": null,
            "object_fit": null,
            "object_position": null,
            "order": null,
            "overflow": null,
            "overflow_x": null,
            "overflow_y": null,
            "padding": null,
            "right": null,
            "top": null,
            "visibility": null,
            "width": null
          }
        },
        "6603bec6fcaf48af8bc083376433c849": {
          "model_module": "@jupyter-widgets/controls",
          "model_name": "ToggleButtonsStyleModel",
          "model_module_version": "1.5.0",
          "state": {
            "_model_module": "@jupyter-widgets/controls",
            "_model_module_version": "1.5.0",
            "_model_name": "ToggleButtonsStyleModel",
            "_view_count": null,
            "_view_module": "@jupyter-widgets/base",
            "_view_module_version": "1.2.0",
            "_view_name": "StyleView",
            "button_width": "",
            "description_width": "",
            "font_weight": ""
          }
        },
        "65bcdd9c16ce416f820ccfda6bdf6053": {
          "model_module": "@jupyter-widgets/base",
          "model_name": "LayoutModel",
          "model_module_version": "1.2.0",
          "state": {
            "_model_module": "@jupyter-widgets/base",
            "_model_module_version": "1.2.0",
            "_model_name": "LayoutModel",
            "_view_count": null,
            "_view_module": "@jupyter-widgets/base",
            "_view_module_version": "1.2.0",
            "_view_name": "LayoutView",
            "align_content": null,
            "align_items": null,
            "align_self": null,
            "border": null,
            "bottom": null,
            "display": null,
            "flex": null,
            "flex_flow": null,
            "grid_area": null,
            "grid_auto_columns": null,
            "grid_auto_flow": null,
            "grid_auto_rows": null,
            "grid_column": null,
            "grid_gap": null,
            "grid_row": null,
            "grid_template_areas": null,
            "grid_template_columns": null,
            "grid_template_rows": null,
            "height": null,
            "justify_content": null,
            "justify_items": null,
            "left": null,
            "margin": null,
            "max_height": null,
            "max_width": null,
            "min_height": null,
            "min_width": null,
            "object_fit": null,
            "object_position": null,
            "order": null,
            "overflow": null,
            "overflow_x": null,
            "overflow_y": null,
            "padding": null,
            "right": null,
            "top": null,
            "visibility": null,
            "width": null
          }
        }
      }
    }
  },
  "nbformat": 4,
  "nbformat_minor": 0
}